{
  "cells": [
    {
      "cell_type": "markdown",
      "metadata": {
        "id": "ET0B9EDs10Bx"
      },
      "source": [
        "# Imports\n",
        "\n",
        "We start by a section who will contain general purpose libraries. "
      ]
    },
    {
      "cell_type": "code",
      "execution_count": 9,
      "metadata": {
        "id": "SU333m1mEaNP",
        "colab": {
          "base_uri": "https://localhost:8080/"
        },
        "outputId": "74104a19-f1e0-44d9-d831-b38d15a26e15"
      },
      "outputs": [
        {
          "output_type": "stream",
          "name": "stdout",
          "text": [
            "Mounted at /content/drive\n"
          ]
        }
      ],
      "source": [
        "from google.colab import drive\n",
        "drive.mount('/content/drive', force_remount = True)"
      ]
    },
    {
      "cell_type": "code",
      "execution_count": 10,
      "metadata": {
        "id": "OQBLA6JmZfby"
      },
      "outputs": [],
      "source": [
        "import bz2\n",
        "import json\n",
        "import time\n",
        "import pandas as pd\n",
        "import numpy as np\n",
        "from pprint import pprint"
      ]
    },
    {
      "cell_type": "code",
      "execution_count": 11,
      "metadata": {
        "id": "X7m50ue9ZAbu"
      },
      "outputs": [],
      "source": [
        "LINE_CHECKPOINT = 1e6\n",
        "ROOT = '/content/drive/MyDrive/ada_project/'\n",
        "DATA_FOLDER_PATH = ROOT + 'data/'\n",
        "ORIGINAL_DATASETS_FOLDER_PATH = DATA_FOLDER_PATH + 'Quotebank/'\n",
        "SHRANK_DATASETS_FOLDER_PATH = DATA_FOLDER_PATH + 'quotebank_cleaned/'\n",
        "NEWS_SOURCES_FILE_PATH = DATA_FOLDER_PATH + 'news_sources/news_sources.csv'\n",
        "PARQUET_FILE_PATH = DATA_FOLDER_PATH + 'speaker_attributes.parquet'"
      ]
    },
    {
      "cell_type": "markdown",
      "metadata": {
        "id": "TX7zeVKD1Rk0"
      },
      "source": [
        "# Quotebank Data"
      ]
    },
    {
      "cell_type": "markdown",
      "metadata": {
        "id": "Q5R5R8_Q2lFR"
      },
      "source": [
        "## Example of Data\n",
        "Pretty printing a single entry as reference."
      ]
    },
    {
      "cell_type": "code",
      "execution_count": 12,
      "metadata": {
        "colab": {
          "base_uri": "https://localhost:8080/"
        },
        "id": "45MOqE051Rk6",
        "outputId": "d852cd63-f269-4f08-e995-5cb691b4aa4f"
      },
      "outputs": [
        {
          "output_type": "stream",
          "name": "stdout",
          "text": [
            "{'date': '2020-01-28 08:04:05',\n",
            " 'numOccurrences': 1,\n",
            " 'phase': 'E',\n",
            " 'probas': [['None', '0.7272'],\n",
            "            ['Prime Minister Netanyahu', '0.2445'],\n",
            "            ['Natan Sharansky', '0.0283']],\n",
            " 'qids': [],\n",
            " 'quotation': '[ D ] espite the efforts of the partners to create a '\n",
            "              'non-political award that unites the Jewish people, some have '\n",
            "              'incorrectly interpreted the participation of the Office of the '\n",
            "              'Prime Minister in the Genesis Prize as bringing a political '\n",
            "              'dimension to this important initiative,',\n",
            " 'quoteID': '2020-01-28-000082',\n",
            " 'speaker': 'None',\n",
            " 'urls': ['http://israelnationalnews.com/News/News.aspx/275210']}\n"
          ]
        }
      ],
      "source": [
        "with bz2.open(ORIGINAL_DATASETS_FOLDER_PATH + 'quotes-2020.json.bz2', 'rb') as t_file:\n",
        "    pprint(json.loads(t_file.readline()))"
      ]
    },
    {
      "cell_type": "markdown",
      "metadata": {
        "id": "li_luDaFBjN4"
      },
      "source": [
        "## Making Data Manageable\n",
        "The provided datasets contain a lot of information that is not relevant to our goal, therefore we have decided to perform a first round of pruning.\n",
        "We removed all quotations that were not assigned to any speaker, and stripped the remaining ones of `date` and `numOccurrences` fields.\n",
        "The latter one does not help us, as we cannot distinguish occurrences in different news sources. This is not a significant problem, as we will see later on.\n",
        "\n",
        "With the shrinked versions of the yearly datasets we are able to perform all following operations more swiftly."
      ]
    },
    {
      "cell_type": "code",
      "execution_count": null,
      "metadata": {
        "id": "a4kEnTNS1Rk_"
      },
      "outputs": [],
      "source": [
        "def shrink_archive(source_path, destination_path):\n",
        "    \"\"\"Shrink the bz2 archive supplied as source_path by removing data unnecessary for the project.\n",
        "    Unnecessary data includes:\n",
        "        - all entries where the speaker has not been identified\n",
        "        - date fields. The date part can be retrieved from the ID if needed.\n",
        "        - numOccurrences field\"\"\"\n",
        "    print(\"Shrinking {} to {}\".format(source_path, destination_path))\n",
        "    with bz2.open(source_path, 'rb') as s_file:\n",
        "        with bz2.open(destination_path, 'wb') as d_file:\n",
        "            time_start = time.time()\n",
        "            for i, s_line in enumerate(s_file):\n",
        "                quote_dict = json.loads(s_line) # Load current line into py dict\n",
        "                if quote_dict['speaker'] != 'None':\n",
        "                    # If a speaker is present, shrink and save the dictionary\n",
        "                    # Remove date, can be retrieved from id if needed\n",
        "                    del quote_dict['date']\n",
        "                    del quote_dict['numOccurrences'] # Remove numOccurrances, not needed\n",
        "                    # writing in the new file\n",
        "                    d_file.write((json.dumps(quote_dict)+'\\n').encode('utf-8'))\n",
        "                if i % LINE_CHECKPOINT == 0: print(\"On line {}...\".format(i)) # Visual feedback\n",
        "    print(\"--- %s seconds ---\" % (time.time() - time_start))\n",
        "    print(\"Done, processed {} lines.\".format(i))"
      ]
    },
    {
      "cell_type": "code",
      "execution_count": null,
      "metadata": {
        "id": "Ty6iILikbdBS"
      },
      "outputs": [],
      "source": [
        "for i in range(2015, 2020):\n",
        "    path_to_file_i = '/content/drive/MyDrive/Quotebank/quotes-{}.json.bz2'.format(i)\n",
        "    path_to_file_shrank = '/content/drive/MyDrive/quotebank_cleaned/quotes-{}-shrank.json.bz2'.format(i)\n",
        "    shrink_archive(path_to_file_i, path_to_file_shrank)"
      ]
    },
    {
      "cell_type": "markdown",
      "metadata": {
        "id": "ay6-F8xSnxRA"
      },
      "source": [
        "## Benchmarking\n",
        "The following snippet show how much time we are able to save when operating with reduced versions of the datasets."
      ]
    },
    {
      "cell_type": "code",
      "execution_count": 32,
      "metadata": {
        "id": "mDWPyzJPKNbw"
      },
      "outputs": [],
      "source": [
        "def stopwatch_dataset(source_path):\n",
        "    \"\"\"Utility function created to roughly estimate time needed to cycle through a provided dataset\"\"\"\n",
        "    print(\"Stop-watching \", source_path)\n",
        "    with bz2.open(source_path, 'rb') as s_file:\n",
        "        time_start = time.time()\n",
        "        for i, s_line in enumerate(s_file):\n",
        "            if i % LINE_CHECKPOINT == 0: print(\"On line {}...\".format(i)) # Visual feedback\n",
        "    print(\"--- %s seconds ---\" % (time.time() - time_start))"
      ]
    },
    {
      "cell_type": "code",
      "source": [
        "test_year = 2020\n",
        "stopwatch_dataset('{}quotes-{}.json.bz2'.format(ORIGINAL_DATASETS_FOLDER_PATH, test_year))\n",
        "stopwatch_dataset('{}quotes-{}-shrank.json.bz2'.format(SHRANK_DATASETS_FOLDER_PATH, test_year))"
      ],
      "metadata": {
        "id": "o4ehRUyNU54Y"
      },
      "execution_count": null,
      "outputs": []
    },
    {
      "cell_type": "markdown",
      "metadata": {
        "id": "eCOyzSUbUk7g"
      },
      "source": [
        "## Utility Method"
      ]
    },
    {
      "cell_type": "markdown",
      "metadata": {
        "id": "3nr5bufwo0kb"
      },
      "source": [
        "We've created an utility method to access the shrank version of datasets."
      ]
    },
    {
      "cell_type": "code",
      "execution_count": 35,
      "metadata": {
        "id": "SQOh2zepDGDM"
      },
      "outputs": [],
      "source": [
        "def load_shrank_dataset(year):\n",
        "    year = int(year)\n",
        "    if year < 2015 or year > 2020: raise ValueError(\"Provide a year between 2015 and 2020.\")\n",
        "    # Remember to close the file stream!\n",
        "    return bz2.open('{}quotes-{}-shrank.json.bz2'.format(SHRANK_DATASETS_FOLDER_PATH, year), 'rb')"
      ]
    },
    {
      "cell_type": "markdown",
      "metadata": {
        "id": "Qy9TG5ZJ2tpA"
      },
      "source": [
        "# Wikidata"
      ]
    },
    {
      "cell_type": "code",
      "execution_count": 14,
      "metadata": {
        "id": "afFjSgok26Pw"
      },
      "outputs": [],
      "source": [
        "wiki_df = pd.read_parquet(PARQUET_FILE_PATH)"
      ]
    },
    {
      "cell_type": "code",
      "source": [
        "wiki_df.shape[0]"
      ],
      "metadata": {
        "colab": {
          "base_uri": "https://localhost:8080/"
        },
        "id": "TnRvtdL77ZRv",
        "outputId": "b2c908ef-baf0-4123-eae4-33e14519e1c2"
      },
      "execution_count": 15,
      "outputs": [
        {
          "output_type": "execute_result",
          "data": {
            "text/plain": [
              "9055981"
            ]
          },
          "metadata": {},
          "execution_count": 15
        }
      ]
    },
    {
      "cell_type": "markdown",
      "metadata": {
        "id": "4nmQA4Ks1Fvx"
      },
      "source": [
        "## Data Inspection\n",
        "Here is a quick exemple on how to search/filter for a specific politician, knowing boxes contain lists, not only strings."
      ]
    },
    {
      "cell_type": "code",
      "execution_count": 16,
      "metadata": {
        "colab": {
          "base_uri": "https://localhost:8080/",
          "height": 666
        },
        "id": "vX0mtdWa1Fv3",
        "outputId": "43ab6027-06b3-46db-a2d7-1189430f3820"
      },
      "outputs": [
        {
          "output_type": "execute_result",
          "data": {
            "text/html": [
              "\n",
              "  <div id=\"df-35e15e1d-3917-4112-ac61-428d698ea197\">\n",
              "    <div class=\"colab-df-container\">\n",
              "      <div>\n",
              "<style scoped>\n",
              "    .dataframe tbody tr th:only-of-type {\n",
              "        vertical-align: middle;\n",
              "    }\n",
              "\n",
              "    .dataframe tbody tr th {\n",
              "        vertical-align: top;\n",
              "    }\n",
              "\n",
              "    .dataframe thead th {\n",
              "        text-align: right;\n",
              "    }\n",
              "</style>\n",
              "<table border=\"1\" class=\"dataframe\">\n",
              "  <thead>\n",
              "    <tr style=\"text-align: right;\">\n",
              "      <th></th>\n",
              "      <th>aliases</th>\n",
              "      <th>date_of_birth</th>\n",
              "      <th>nationality</th>\n",
              "      <th>gender</th>\n",
              "      <th>lastrevid</th>\n",
              "      <th>ethnic_group</th>\n",
              "      <th>US_congress_bio_ID</th>\n",
              "      <th>occupation</th>\n",
              "      <th>party</th>\n",
              "      <th>academic_degree</th>\n",
              "      <th>id</th>\n",
              "      <th>label</th>\n",
              "      <th>candidacy</th>\n",
              "      <th>type</th>\n",
              "      <th>religion</th>\n",
              "    </tr>\n",
              "  </thead>\n",
              "  <tbody>\n",
              "    <tr>\n",
              "      <th>3</th>\n",
              "      <td>[George Walker Bush, Bush Jr., Dubya, GWB, Bus...</td>\n",
              "      <td>[+1946-07-06T00:00:00Z]</td>\n",
              "      <td>[Q30]</td>\n",
              "      <td>[Q6581097]</td>\n",
              "      <td>1395142029</td>\n",
              "      <td>None</td>\n",
              "      <td>None</td>\n",
              "      <td>[Q82955, Q15982858, Q18814623, Q1028181, Q1408...</td>\n",
              "      <td>[Q29468]</td>\n",
              "      <td>None</td>\n",
              "      <td>Q207</td>\n",
              "      <td>George W. Bush</td>\n",
              "      <td>[Q327959, Q464075, Q3586276, Q4450587]</td>\n",
              "      <td>item</td>\n",
              "      <td>[Q329646, Q682443, Q33203]</td>\n",
              "    </tr>\n",
              "    <tr>\n",
              "      <th>11351</th>\n",
              "      <td>[Vanevar Bush]</td>\n",
              "      <td>[+1890-03-11T00:00:00Z]</td>\n",
              "      <td>[Q30]</td>\n",
              "      <td>[Q6581097]</td>\n",
              "      <td>1392187290</td>\n",
              "      <td>None</td>\n",
              "      <td>None</td>\n",
              "      <td>[Q82594, Q205375, Q82955, Q1622272, Q81096]</td>\n",
              "      <td>None</td>\n",
              "      <td>None</td>\n",
              "      <td>Q299595</td>\n",
              "      <td>Vannevar Bush</td>\n",
              "      <td>None</td>\n",
              "      <td>item</td>\n",
              "      <td>[Q55004488]</td>\n",
              "    </tr>\n",
              "    <tr>\n",
              "      <th>12327</th>\n",
              "      <td>[Prescott Sheldon Bush]</td>\n",
              "      <td>[+1895-05-15T00:00:00Z]</td>\n",
              "      <td>[Q30]</td>\n",
              "      <td>[Q6581097]</td>\n",
              "      <td>1393428512</td>\n",
              "      <td>[Q7435494]</td>\n",
              "      <td>B001167</td>\n",
              "      <td>[Q82955, Q806798, Q4416090]</td>\n",
              "      <td>[Q29468]</td>\n",
              "      <td>None</td>\n",
              "      <td>Q324742</td>\n",
              "      <td>Prescott Bush</td>\n",
              "      <td>None</td>\n",
              "      <td>item</td>\n",
              "      <td>[Q682443]</td>\n",
              "    </tr>\n",
              "    <tr>\n",
              "      <th>16876</th>\n",
              "      <td>None</td>\n",
              "      <td>[+1955-12-24T00:00:00Z]</td>\n",
              "      <td>[Q30]</td>\n",
              "      <td>[Q6581097]</td>\n",
              "      <td>1388311017</td>\n",
              "      <td>[Q49085]</td>\n",
              "      <td>None</td>\n",
              "      <td>[Q10800557, Q10798782]</td>\n",
              "      <td>None</td>\n",
              "      <td>None</td>\n",
              "      <td>Q452552</td>\n",
              "      <td>Grand L. Bush</td>\n",
              "      <td>None</td>\n",
              "      <td>item</td>\n",
              "      <td>None</td>\n",
              "    </tr>\n",
              "    <tr>\n",
              "      <th>17154</th>\n",
              "      <td>None</td>\n",
              "      <td>[+1984-06-25T00:00:00Z]</td>\n",
              "      <td>[Q30]</td>\n",
              "      <td>[Q6581072]</td>\n",
              "      <td>1392040371</td>\n",
              "      <td>None</td>\n",
              "      <td>None</td>\n",
              "      <td>[Q4610556, Q33999, Q3501317]</td>\n",
              "      <td>None</td>\n",
              "      <td>None</td>\n",
              "      <td>Q456169</td>\n",
              "      <td>Lauren Bush</td>\n",
              "      <td>None</td>\n",
              "      <td>item</td>\n",
              "      <td>None</td>\n",
              "    </tr>\n",
              "    <tr>\n",
              "      <th>20670</th>\n",
              "      <td>None</td>\n",
              "      <td>[+1970-09-20T00:00:00Z]</td>\n",
              "      <td>[Q30]</td>\n",
              "      <td>[Q6581072]</td>\n",
              "      <td>1391193823</td>\n",
              "      <td>[Q49085]</td>\n",
              "      <td>None</td>\n",
              "      <td>[Q33999, Q10800557, Q10798782]</td>\n",
              "      <td>None</td>\n",
              "      <td>None</td>\n",
              "      <td>Q536025</td>\n",
              "      <td>N'Bushe Wright</td>\n",
              "      <td>None</td>\n",
              "      <td>item</td>\n",
              "      <td>None</td>\n",
              "    </tr>\n",
              "    <tr>\n",
              "      <th>44750</th>\n",
              "      <td>[Marvin Bush, Marvin Pierce Bush]</td>\n",
              "      <td>[+1956-10-22T00:00:00Z]</td>\n",
              "      <td>[Q30]</td>\n",
              "      <td>[Q6581097]</td>\n",
              "      <td>1311310452</td>\n",
              "      <td>None</td>\n",
              "      <td>None</td>\n",
              "      <td>[Q43845]</td>\n",
              "      <td>None</td>\n",
              "      <td>None</td>\n",
              "      <td>Q1375345</td>\n",
              "      <td>Marvin P. Bush</td>\n",
              "      <td>None</td>\n",
              "      <td>item</td>\n",
              "      <td>None</td>\n",
              "    </tr>\n",
              "    <tr>\n",
              "      <th>44772</th>\n",
              "      <td>[Samuel Prescott Bush]</td>\n",
              "      <td>[+1863-10-04T00:00:00Z]</td>\n",
              "      <td>[Q30]</td>\n",
              "      <td>[Q6581097]</td>\n",
              "      <td>1373387625</td>\n",
              "      <td>None</td>\n",
              "      <td>None</td>\n",
              "      <td>[Q43845, Q131524]</td>\n",
              "      <td>None</td>\n",
              "      <td>None</td>\n",
              "      <td>Q1376227</td>\n",
              "      <td>Samuel P. Bush</td>\n",
              "      <td>None</td>\n",
              "      <td>item</td>\n",
              "      <td>None</td>\n",
              "    </tr>\n",
              "    <tr>\n",
              "      <th>45548</th>\n",
              "      <td>None</td>\n",
              "      <td>[+1869-01-20T00:00:00Z]</td>\n",
              "      <td>[Q30]</td>\n",
              "      <td>[Q6581097]</td>\n",
              "      <td>1323621663</td>\n",
              "      <td>None</td>\n",
              "      <td>None</td>\n",
              "      <td>[Q1622272, Q2504617]</td>\n",
              "      <td>None</td>\n",
              "      <td>None</td>\n",
              "      <td>Q1394511</td>\n",
              "      <td>Albert Bushnell Johnson</td>\n",
              "      <td>None</td>\n",
              "      <td>item</td>\n",
              "      <td>None</td>\n",
              "    </tr>\n",
              "    <tr>\n",
              "      <th>52576</th>\n",
              "      <td>None</td>\n",
              "      <td>[+1921-12-16T00:00:00Z]</td>\n",
              "      <td>[Q183]</td>\n",
              "      <td>[Q6581097]</td>\n",
              "      <td>1329921163</td>\n",
              "      <td>None</td>\n",
              "      <td>None</td>\n",
              "      <td>[Q9385011, Q1622272]</td>\n",
              "      <td>None</td>\n",
              "      <td>None</td>\n",
              "      <td>Q1592275</td>\n",
              "      <td>Karl-August Bushe</td>\n",
              "      <td>None</td>\n",
              "      <td>item</td>\n",
              "      <td>None</td>\n",
              "    </tr>\n",
              "  </tbody>\n",
              "</table>\n",
              "</div>\n",
              "      <button class=\"colab-df-convert\" onclick=\"convertToInteractive('df-35e15e1d-3917-4112-ac61-428d698ea197')\"\n",
              "              title=\"Convert this dataframe to an interactive table.\"\n",
              "              style=\"display:none;\">\n",
              "        \n",
              "  <svg xmlns=\"http://www.w3.org/2000/svg\" height=\"24px\"viewBox=\"0 0 24 24\"\n",
              "       width=\"24px\">\n",
              "    <path d=\"M0 0h24v24H0V0z\" fill=\"none\"/>\n",
              "    <path d=\"M18.56 5.44l.94 2.06.94-2.06 2.06-.94-2.06-.94-.94-2.06-.94 2.06-2.06.94zm-11 1L8.5 8.5l.94-2.06 2.06-.94-2.06-.94L8.5 2.5l-.94 2.06-2.06.94zm10 10l.94 2.06.94-2.06 2.06-.94-2.06-.94-.94-2.06-.94 2.06-2.06.94z\"/><path d=\"M17.41 7.96l-1.37-1.37c-.4-.4-.92-.59-1.43-.59-.52 0-1.04.2-1.43.59L10.3 9.45l-7.72 7.72c-.78.78-.78 2.05 0 2.83L4 21.41c.39.39.9.59 1.41.59.51 0 1.02-.2 1.41-.59l7.78-7.78 2.81-2.81c.8-.78.8-2.07 0-2.86zM5.41 20L4 18.59l7.72-7.72 1.47 1.35L5.41 20z\"/>\n",
              "  </svg>\n",
              "      </button>\n",
              "      \n",
              "  <style>\n",
              "    .colab-df-container {\n",
              "      display:flex;\n",
              "      flex-wrap:wrap;\n",
              "      gap: 12px;\n",
              "    }\n",
              "\n",
              "    .colab-df-convert {\n",
              "      background-color: #E8F0FE;\n",
              "      border: none;\n",
              "      border-radius: 50%;\n",
              "      cursor: pointer;\n",
              "      display: none;\n",
              "      fill: #1967D2;\n",
              "      height: 32px;\n",
              "      padding: 0 0 0 0;\n",
              "      width: 32px;\n",
              "    }\n",
              "\n",
              "    .colab-df-convert:hover {\n",
              "      background-color: #E2EBFA;\n",
              "      box-shadow: 0px 1px 2px rgba(60, 64, 67, 0.3), 0px 1px 3px 1px rgba(60, 64, 67, 0.15);\n",
              "      fill: #174EA6;\n",
              "    }\n",
              "\n",
              "    [theme=dark] .colab-df-convert {\n",
              "      background-color: #3B4455;\n",
              "      fill: #D2E3FC;\n",
              "    }\n",
              "\n",
              "    [theme=dark] .colab-df-convert:hover {\n",
              "      background-color: #434B5C;\n",
              "      box-shadow: 0px 1px 3px 1px rgba(0, 0, 0, 0.15);\n",
              "      filter: drop-shadow(0px 1px 2px rgba(0, 0, 0, 0.3));\n",
              "      fill: #FFFFFF;\n",
              "    }\n",
              "  </style>\n",
              "\n",
              "      <script>\n",
              "        const buttonEl =\n",
              "          document.querySelector('#df-35e15e1d-3917-4112-ac61-428d698ea197 button.colab-df-convert');\n",
              "        buttonEl.style.display =\n",
              "          google.colab.kernel.accessAllowed ? 'block' : 'none';\n",
              "\n",
              "        async function convertToInteractive(key) {\n",
              "          const element = document.querySelector('#df-35e15e1d-3917-4112-ac61-428d698ea197');\n",
              "          const dataTable =\n",
              "            await google.colab.kernel.invokeFunction('convertToInteractive',\n",
              "                                                     [key], {});\n",
              "          if (!dataTable) return;\n",
              "\n",
              "          const docLinkHtml = 'Like what you see? Visit the ' +\n",
              "            '<a target=\"_blank\" href=https://colab.research.google.com/notebooks/data_table.ipynb>data table notebook</a>'\n",
              "            + ' to learn more about interactive tables.';\n",
              "          element.innerHTML = '';\n",
              "          dataTable['output_type'] = 'display_data';\n",
              "          await google.colab.output.renderOutput(dataTable, element);\n",
              "          const docLink = document.createElement('div');\n",
              "          docLink.innerHTML = docLinkHtml;\n",
              "          element.appendChild(docLink);\n",
              "        }\n",
              "      </script>\n",
              "    </div>\n",
              "  </div>\n",
              "  "
            ],
            "text/plain": [
              "                                                 aliases  ...                    religion\n",
              "3      [George Walker Bush, Bush Jr., Dubya, GWB, Bus...  ...  [Q329646, Q682443, Q33203]\n",
              "11351                                     [Vanevar Bush]  ...                 [Q55004488]\n",
              "12327                            [Prescott Sheldon Bush]  ...                   [Q682443]\n",
              "16876                                               None  ...                        None\n",
              "17154                                               None  ...                        None\n",
              "20670                                               None  ...                        None\n",
              "44750                  [Marvin Bush, Marvin Pierce Bush]  ...                        None\n",
              "44772                             [Samuel Prescott Bush]  ...                        None\n",
              "45548                                               None  ...                        None\n",
              "52576                                               None  ...                        None\n",
              "\n",
              "[10 rows x 15 columns]"
            ]
          },
          "metadata": {},
          "execution_count": 16
        }
      ],
      "source": [
        "# Searching for a specific politician. Just replace the name here. Note : it is case sensitive by default. \n",
        "# Use either what is present in the aliases field or the label field. \n",
        "\n",
        "mask = wiki_df[\"label\"].str.contains(\"Bush\", regex = False, na = False)\n",
        "\n",
        "# Change number of desired results here \n",
        "wiki_df[mask][:10]"
      ]
    },
    {
      "cell_type": "markdown",
      "metadata": {
        "id": "hkjBo99n1Fv9"
      },
      "source": [
        "## Summary : available fields and infos \n",
        "- Each person is identified by an id (column id), matching the one on wikipedia\n",
        "- Label contains one specific label for this person, as it appears in wikipedia's url. \n",
        "- Aliases contain the most used names to refer to this person. Can be empty if no other than the one indicated in labels. \n",
        "- Infos are either none, or the reference of a QID article. Mostly, these references are created when a link to a referenced wikipedia elements is added in a person's wikipedia page. \n",
        "- Occupation QIDs can be relevant for us. Sample QIDs are: Q82955 - Politician, Q189290 - Military officier, Q39631 - Physician (medicine), Q30461 - President... \n",
        "- Political party is also given, if any. For congresspersons, their corresponding ID is also given. \n",
        "- No time distinction is available, i.e. if a person changed its political party (or any other attribute available here) during his life, both political parties will be indicated. "
      ]
    },
    {
      "cell_type": "markdown",
      "metadata": {
        "id": "N2nCkFW21FwA"
      },
      "source": [
        "## Issues : missing data\n",
        "- Some data are clearly missing above. George W. Bush may not be the smartest person alive, but he still holds a couple of academic degrees. For some people the degree is simply indicated as text (and not a hyperlink) in the wikipedia page, but it's not the case for all. George's biography clearly states a Bachelor of Arts as a hyperlink although we can not find it in the data set. It may be a timing issue.  \n",
        "- In consequence, let's inspect how the fields of interest for us will be impacted by missing data. "
      ]
    },
    {
      "cell_type": "markdown",
      "metadata": {
        "id": "v-N_y4aI1FwF"
      },
      "source": [
        "First, we will start by removing people born before 1900 from our dataset. There are 3 main reasons : \n",
        "- They do not truly impact how biased a news source is in reporting current events, even though we could expect conservative newspapers to cite more secessionist generals and left-wing newspapers to cite more Martin Luther King. \n",
        "- American political parties used to switch from left to right (fun fact : Lincoln was a Republican, left-wing at that time) and there were a few major older parties that disapeared today. \n",
        "- Completeness of the dataset for people born long time ago is expected to be low : there were no \"political parties\" at the time of Cesar. "
      ]
    },
    {
      "cell_type": "code",
      "execution_count": 17,
      "metadata": {
        "colab": {
          "base_uri": "https://localhost:8080/",
          "height": 406
        },
        "id": "qMqcU8351FwJ",
        "outputId": "c6503f1b-7e95-4ef1-e254-9f5ab13d6a41"
      },
      "outputs": [
        {
          "output_type": "execute_result",
          "data": {
            "text/html": [
              "\n",
              "  <div id=\"df-9ba2c6df-845b-40d7-b513-5509d4823748\">\n",
              "    <div class=\"colab-df-container\">\n",
              "      <div>\n",
              "<style scoped>\n",
              "    .dataframe tbody tr th:only-of-type {\n",
              "        vertical-align: middle;\n",
              "    }\n",
              "\n",
              "    .dataframe tbody tr th {\n",
              "        vertical-align: top;\n",
              "    }\n",
              "\n",
              "    .dataframe thead th {\n",
              "        text-align: right;\n",
              "    }\n",
              "</style>\n",
              "<table border=\"1\" class=\"dataframe\">\n",
              "  <thead>\n",
              "    <tr style=\"text-align: right;\">\n",
              "      <th></th>\n",
              "      <th>aliases</th>\n",
              "      <th>date_of_birth</th>\n",
              "      <th>nationality</th>\n",
              "      <th>gender</th>\n",
              "      <th>lastrevid</th>\n",
              "      <th>ethnic_group</th>\n",
              "      <th>US_congress_bio_ID</th>\n",
              "      <th>occupation</th>\n",
              "      <th>party</th>\n",
              "      <th>academic_degree</th>\n",
              "      <th>id</th>\n",
              "      <th>label</th>\n",
              "      <th>candidacy</th>\n",
              "      <th>type</th>\n",
              "      <th>religion</th>\n",
              "    </tr>\n",
              "  </thead>\n",
              "  <tbody>\n",
              "    <tr>\n",
              "      <th>1</th>\n",
              "      <td>[Douglas Noel Adams, Douglas Noël Adams, Dougl...</td>\n",
              "      <td>1952.0</td>\n",
              "      <td>[Q145]</td>\n",
              "      <td>[Q6581097]</td>\n",
              "      <td>1395737157</td>\n",
              "      <td>[Q7994501]</td>\n",
              "      <td>None</td>\n",
              "      <td>[Q214917, Q28389, Q6625963, Q4853732, Q1884422...</td>\n",
              "      <td>None</td>\n",
              "      <td>None</td>\n",
              "      <td>Q42</td>\n",
              "      <td>Douglas Adams</td>\n",
              "      <td>None</td>\n",
              "      <td>item</td>\n",
              "      <td>None</td>\n",
              "    </tr>\n",
              "    <tr>\n",
              "      <th>3</th>\n",
              "      <td>[George Walker Bush, Bush Jr., Dubya, GWB, Bus...</td>\n",
              "      <td>1946.0</td>\n",
              "      <td>[Q30]</td>\n",
              "      <td>[Q6581097]</td>\n",
              "      <td>1395142029</td>\n",
              "      <td>None</td>\n",
              "      <td>None</td>\n",
              "      <td>[Q82955, Q15982858, Q18814623, Q1028181, Q1408...</td>\n",
              "      <td>[Q29468]</td>\n",
              "      <td>None</td>\n",
              "      <td>Q207</td>\n",
              "      <td>George W. Bush</td>\n",
              "      <td>[Q327959, Q464075, Q3586276, Q4450587]</td>\n",
              "      <td>item</td>\n",
              "      <td>[Q329646, Q682443, Q33203]</td>\n",
              "    </tr>\n",
              "    <tr>\n",
              "      <th>5</th>\n",
              "      <td>[Augusto Pinochet Ugarte, Augusto José Ramón P...</td>\n",
              "      <td>1915.0</td>\n",
              "      <td>[Q298]</td>\n",
              "      <td>[Q6581097]</td>\n",
              "      <td>1392242213</td>\n",
              "      <td>None</td>\n",
              "      <td>None</td>\n",
              "      <td>[Q189290, Q82955]</td>\n",
              "      <td>[Q327591]</td>\n",
              "      <td>None</td>\n",
              "      <td>Q368</td>\n",
              "      <td>Augusto Pinochet</td>\n",
              "      <td>None</td>\n",
              "      <td>item</td>\n",
              "      <td>[Q1841]</td>\n",
              "    </tr>\n",
              "    <tr>\n",
              "      <th>8</th>\n",
              "      <td>[Neil Percival Young, Shakey, Godfather of Gru...</td>\n",
              "      <td>1945.0</td>\n",
              "      <td>[Q16, Q30]</td>\n",
              "      <td>[Q6581097]</td>\n",
              "      <td>1395459626</td>\n",
              "      <td>None</td>\n",
              "      <td>None</td>\n",
              "      <td>[Q177220, Q488205, Q2526255, Q639669, Q1881462...</td>\n",
              "      <td>None</td>\n",
              "      <td>None</td>\n",
              "      <td>Q633</td>\n",
              "      <td>Neil Young</td>\n",
              "      <td>None</td>\n",
              "      <td>item</td>\n",
              "      <td>None</td>\n",
              "    </tr>\n",
              "    <tr>\n",
              "      <th>9</th>\n",
              "      <td>None</td>\n",
              "      <td>1969.0</td>\n",
              "      <td>[Q183]</td>\n",
              "      <td>[Q6581097]</td>\n",
              "      <td>1340253739</td>\n",
              "      <td>None</td>\n",
              "      <td>None</td>\n",
              "      <td>[Q33231, Q41546637]</td>\n",
              "      <td>None</td>\n",
              "      <td>None</td>\n",
              "      <td>Q640</td>\n",
              "      <td>Harald Krichel</td>\n",
              "      <td>None</td>\n",
              "      <td>item</td>\n",
              "      <td>None</td>\n",
              "    </tr>\n",
              "  </tbody>\n",
              "</table>\n",
              "</div>\n",
              "      <button class=\"colab-df-convert\" onclick=\"convertToInteractive('df-9ba2c6df-845b-40d7-b513-5509d4823748')\"\n",
              "              title=\"Convert this dataframe to an interactive table.\"\n",
              "              style=\"display:none;\">\n",
              "        \n",
              "  <svg xmlns=\"http://www.w3.org/2000/svg\" height=\"24px\"viewBox=\"0 0 24 24\"\n",
              "       width=\"24px\">\n",
              "    <path d=\"M0 0h24v24H0V0z\" fill=\"none\"/>\n",
              "    <path d=\"M18.56 5.44l.94 2.06.94-2.06 2.06-.94-2.06-.94-.94-2.06-.94 2.06-2.06.94zm-11 1L8.5 8.5l.94-2.06 2.06-.94-2.06-.94L8.5 2.5l-.94 2.06-2.06.94zm10 10l.94 2.06.94-2.06 2.06-.94-2.06-.94-.94-2.06-.94 2.06-2.06.94z\"/><path d=\"M17.41 7.96l-1.37-1.37c-.4-.4-.92-.59-1.43-.59-.52 0-1.04.2-1.43.59L10.3 9.45l-7.72 7.72c-.78.78-.78 2.05 0 2.83L4 21.41c.39.39.9.59 1.41.59.51 0 1.02-.2 1.41-.59l7.78-7.78 2.81-2.81c.8-.78.8-2.07 0-2.86zM5.41 20L4 18.59l7.72-7.72 1.47 1.35L5.41 20z\"/>\n",
              "  </svg>\n",
              "      </button>\n",
              "      \n",
              "  <style>\n",
              "    .colab-df-container {\n",
              "      display:flex;\n",
              "      flex-wrap:wrap;\n",
              "      gap: 12px;\n",
              "    }\n",
              "\n",
              "    .colab-df-convert {\n",
              "      background-color: #E8F0FE;\n",
              "      border: none;\n",
              "      border-radius: 50%;\n",
              "      cursor: pointer;\n",
              "      display: none;\n",
              "      fill: #1967D2;\n",
              "      height: 32px;\n",
              "      padding: 0 0 0 0;\n",
              "      width: 32px;\n",
              "    }\n",
              "\n",
              "    .colab-df-convert:hover {\n",
              "      background-color: #E2EBFA;\n",
              "      box-shadow: 0px 1px 2px rgba(60, 64, 67, 0.3), 0px 1px 3px 1px rgba(60, 64, 67, 0.15);\n",
              "      fill: #174EA6;\n",
              "    }\n",
              "\n",
              "    [theme=dark] .colab-df-convert {\n",
              "      background-color: #3B4455;\n",
              "      fill: #D2E3FC;\n",
              "    }\n",
              "\n",
              "    [theme=dark] .colab-df-convert:hover {\n",
              "      background-color: #434B5C;\n",
              "      box-shadow: 0px 1px 3px 1px rgba(0, 0, 0, 0.15);\n",
              "      filter: drop-shadow(0px 1px 2px rgba(0, 0, 0, 0.3));\n",
              "      fill: #FFFFFF;\n",
              "    }\n",
              "  </style>\n",
              "\n",
              "      <script>\n",
              "        const buttonEl =\n",
              "          document.querySelector('#df-9ba2c6df-845b-40d7-b513-5509d4823748 button.colab-df-convert');\n",
              "        buttonEl.style.display =\n",
              "          google.colab.kernel.accessAllowed ? 'block' : 'none';\n",
              "\n",
              "        async function convertToInteractive(key) {\n",
              "          const element = document.querySelector('#df-9ba2c6df-845b-40d7-b513-5509d4823748');\n",
              "          const dataTable =\n",
              "            await google.colab.kernel.invokeFunction('convertToInteractive',\n",
              "                                                     [key], {});\n",
              "          if (!dataTable) return;\n",
              "\n",
              "          const docLinkHtml = 'Like what you see? Visit the ' +\n",
              "            '<a target=\"_blank\" href=https://colab.research.google.com/notebooks/data_table.ipynb>data table notebook</a>'\n",
              "            + ' to learn more about interactive tables.';\n",
              "          element.innerHTML = '';\n",
              "          dataTable['output_type'] = 'display_data';\n",
              "          await google.colab.output.renderOutput(dataTable, element);\n",
              "          const docLink = document.createElement('div');\n",
              "          docLink.innerHTML = docLinkHtml;\n",
              "          element.appendChild(docLink);\n",
              "        }\n",
              "      </script>\n",
              "    </div>\n",
              "  </div>\n",
              "  "
            ],
            "text/plain": [
              "                                             aliases  ...                    religion\n",
              "1  [Douglas Noel Adams, Douglas Noël Adams, Dougl...  ...                        None\n",
              "3  [George Walker Bush, Bush Jr., Dubya, GWB, Bus...  ...  [Q329646, Q682443, Q33203]\n",
              "5  [Augusto Pinochet Ugarte, Augusto José Ramón P...  ...                     [Q1841]\n",
              "8  [Neil Percival Young, Shakey, Godfather of Gru...  ...                        None\n",
              "9                                               None  ...                        None\n",
              "\n",
              "[5 rows x 15 columns]"
            ]
          },
          "metadata": {},
          "execution_count": 17
        }
      ],
      "source": [
        "# convert the array of strings to a integer year. We keep only the year, for those born after 1900 \n",
        "def filter_date_1900(x):\n",
        "    if x is not None:\n",
        "        # we don't care about those born in before J.C (- as first character) or before 1900\n",
        "        if (x[0])[0] == \"+\" and int((x[0])[1:5]) >= 1900 :\n",
        "            return int((x[0])[1:5])\n",
        "        else: \n",
        "            return None\n",
        "\n",
        "wiki_df[\"date_of_birth\"] = wiki_df[\"date_of_birth\"].apply(lambda x: filter_date_1900(x))\n",
        "# we discard the na value. Note that this could also discard a few people that simply \n",
        "# did not had their date of birth in wikidata, but may be born afterwards. \n",
        "\n",
        "wiki_df = wiki_df.dropna(subset = [\"date_of_birth\"])\n",
        "wiki_df.head()"
      ]
    },
    {
      "cell_type": "code",
      "execution_count": 18,
      "metadata": {
        "colab": {
          "base_uri": "https://localhost:8080/"
        },
        "id": "52G29wDA1FwN",
        "outputId": "bc40835f-c219-4dfe-c0a0-74698c46585a"
      },
      "outputs": [
        {
          "output_type": "stream",
          "name": "stdout",
          "text": [
            "The proportion of people with no academic degree found is 98.1%\n"
          ]
        }
      ],
      "source": [
        "# Proportion of no academic degree or missing academic degrees. \n",
        "no_academic_found = wiki_df[wiki_df[\"academic_degree\"].isnull()].size \n",
        "print(\"The proportion of people with no academic degree found is {0:.1%}\".format(no_academic_found/wiki_df.size))"
      ]
    },
    {
      "cell_type": "code",
      "execution_count": 19,
      "metadata": {
        "colab": {
          "base_uri": "https://localhost:8080/"
        },
        "id": "nzWS3uhd1FwQ",
        "outputId": "14ef30de-6e7c-4d9c-c250-fcd001f5b40c"
      },
      "outputs": [
        {
          "output_type": "stream",
          "name": "stdout",
          "text": [
            "The proportion of people with no occupation found is 16.6%\n"
          ]
        }
      ],
      "source": [
        "# Proportion of missing occupations. \n",
        "\n",
        "no_occupation_found = wiki_df[wiki_df[\"occupation\"].isnull()].size \n",
        "print(\"The proportion of people with no occupation found is {0:.1%}\".format(no_occupation_found/wiki_df.size))"
      ]
    },
    {
      "cell_type": "markdown",
      "metadata": {
        "id": "4GRhzeC91FwT"
      },
      "source": [
        "There is clearly some issue with the academic degrees, we may not want to use this field. In terms of occupation, \"only\" 16% are missing. Here is a small example of such cases. "
      ]
    },
    {
      "cell_type": "code",
      "execution_count": 20,
      "metadata": {
        "colab": {
          "base_uri": "https://localhost:8080/",
          "height": 250
        },
        "id": "AzVbv5xL1FwV",
        "outputId": "45e6fe0b-09c5-4ac1-8ad9-92821c4fd743",
        "scrolled": true
      },
      "outputs": [
        {
          "output_type": "execute_result",
          "data": {
            "text/html": [
              "\n",
              "  <div id=\"df-54e3a067-7ec6-412a-8a8d-21c43527f662\">\n",
              "    <div class=\"colab-df-container\">\n",
              "      <div>\n",
              "<style scoped>\n",
              "    .dataframe tbody tr th:only-of-type {\n",
              "        vertical-align: middle;\n",
              "    }\n",
              "\n",
              "    .dataframe tbody tr th {\n",
              "        vertical-align: top;\n",
              "    }\n",
              "\n",
              "    .dataframe thead th {\n",
              "        text-align: right;\n",
              "    }\n",
              "</style>\n",
              "<table border=\"1\" class=\"dataframe\">\n",
              "  <thead>\n",
              "    <tr style=\"text-align: right;\">\n",
              "      <th></th>\n",
              "      <th>aliases</th>\n",
              "      <th>date_of_birth</th>\n",
              "      <th>nationality</th>\n",
              "      <th>gender</th>\n",
              "      <th>lastrevid</th>\n",
              "      <th>ethnic_group</th>\n",
              "      <th>US_congress_bio_ID</th>\n",
              "      <th>occupation</th>\n",
              "      <th>party</th>\n",
              "      <th>academic_degree</th>\n",
              "      <th>id</th>\n",
              "      <th>label</th>\n",
              "      <th>candidacy</th>\n",
              "      <th>type</th>\n",
              "      <th>religion</th>\n",
              "    </tr>\n",
              "  </thead>\n",
              "  <tbody>\n",
              "    <tr>\n",
              "      <th>72</th>\n",
              "      <td>None</td>\n",
              "      <td>1919.0</td>\n",
              "      <td>None</td>\n",
              "      <td>[Q6581097]</td>\n",
              "      <td>1390158852</td>\n",
              "      <td>None</td>\n",
              "      <td>None</td>\n",
              "      <td>None</td>\n",
              "      <td>None</td>\n",
              "      <td>None</td>\n",
              "      <td>Q4291</td>\n",
              "      <td>Ante Bilobrk</td>\n",
              "      <td>None</td>\n",
              "      <td>item</td>\n",
              "      <td>None</td>\n",
              "    </tr>\n",
              "    <tr>\n",
              "      <th>545</th>\n",
              "      <td>None</td>\n",
              "      <td>1958.0</td>\n",
              "      <td>None</td>\n",
              "      <td>[Q6581097]</td>\n",
              "      <td>1309589591</td>\n",
              "      <td>[Q127885]</td>\n",
              "      <td>None</td>\n",
              "      <td>None</td>\n",
              "      <td>None</td>\n",
              "      <td>None</td>\n",
              "      <td>Q29830</td>\n",
              "      <td>Vukašin Šoškoćanin</td>\n",
              "      <td>None</td>\n",
              "      <td>item</td>\n",
              "      <td>None</td>\n",
              "    </tr>\n",
              "    <tr>\n",
              "      <th>604</th>\n",
              "      <td>[Greg DePalma, Gregory J. DePalma]</td>\n",
              "      <td>1932.0</td>\n",
              "      <td>None</td>\n",
              "      <td>[Q6581097]</td>\n",
              "      <td>1309589720</td>\n",
              "      <td>None</td>\n",
              "      <td>None</td>\n",
              "      <td>None</td>\n",
              "      <td>None</td>\n",
              "      <td>None</td>\n",
              "      <td>Q33371</td>\n",
              "      <td>Gregory DePalma</td>\n",
              "      <td>None</td>\n",
              "      <td>item</td>\n",
              "      <td>None</td>\n",
              "    </tr>\n",
              "    <tr>\n",
              "      <th>1030</th>\n",
              "      <td>None</td>\n",
              "      <td>1924.0</td>\n",
              "      <td>None</td>\n",
              "      <td>[Q6581097]</td>\n",
              "      <td>1390159368</td>\n",
              "      <td>None</td>\n",
              "      <td>None</td>\n",
              "      <td>None</td>\n",
              "      <td>None</td>\n",
              "      <td>None</td>\n",
              "      <td>Q53595</td>\n",
              "      <td>Pranas Brazinskas</td>\n",
              "      <td>None</td>\n",
              "      <td>item</td>\n",
              "      <td>None</td>\n",
              "    </tr>\n",
              "    <tr>\n",
              "      <th>2289</th>\n",
              "      <td>None</td>\n",
              "      <td>1922.0</td>\n",
              "      <td>[Q15180]</td>\n",
              "      <td>[Q6581097]</td>\n",
              "      <td>1327065855</td>\n",
              "      <td>None</td>\n",
              "      <td>None</td>\n",
              "      <td>None</td>\n",
              "      <td>[Q79854]</td>\n",
              "      <td>None</td>\n",
              "      <td>Q73926</td>\n",
              "      <td>Oleg Goncharenko</td>\n",
              "      <td>None</td>\n",
              "      <td>item</td>\n",
              "      <td>None</td>\n",
              "    </tr>\n",
              "  </tbody>\n",
              "</table>\n",
              "</div>\n",
              "      <button class=\"colab-df-convert\" onclick=\"convertToInteractive('df-54e3a067-7ec6-412a-8a8d-21c43527f662')\"\n",
              "              title=\"Convert this dataframe to an interactive table.\"\n",
              "              style=\"display:none;\">\n",
              "        \n",
              "  <svg xmlns=\"http://www.w3.org/2000/svg\" height=\"24px\"viewBox=\"0 0 24 24\"\n",
              "       width=\"24px\">\n",
              "    <path d=\"M0 0h24v24H0V0z\" fill=\"none\"/>\n",
              "    <path d=\"M18.56 5.44l.94 2.06.94-2.06 2.06-.94-2.06-.94-.94-2.06-.94 2.06-2.06.94zm-11 1L8.5 8.5l.94-2.06 2.06-.94-2.06-.94L8.5 2.5l-.94 2.06-2.06.94zm10 10l.94 2.06.94-2.06 2.06-.94-2.06-.94-.94-2.06-.94 2.06-2.06.94z\"/><path d=\"M17.41 7.96l-1.37-1.37c-.4-.4-.92-.59-1.43-.59-.52 0-1.04.2-1.43.59L10.3 9.45l-7.72 7.72c-.78.78-.78 2.05 0 2.83L4 21.41c.39.39.9.59 1.41.59.51 0 1.02-.2 1.41-.59l7.78-7.78 2.81-2.81c.8-.78.8-2.07 0-2.86zM5.41 20L4 18.59l7.72-7.72 1.47 1.35L5.41 20z\"/>\n",
              "  </svg>\n",
              "      </button>\n",
              "      \n",
              "  <style>\n",
              "    .colab-df-container {\n",
              "      display:flex;\n",
              "      flex-wrap:wrap;\n",
              "      gap: 12px;\n",
              "    }\n",
              "\n",
              "    .colab-df-convert {\n",
              "      background-color: #E8F0FE;\n",
              "      border: none;\n",
              "      border-radius: 50%;\n",
              "      cursor: pointer;\n",
              "      display: none;\n",
              "      fill: #1967D2;\n",
              "      height: 32px;\n",
              "      padding: 0 0 0 0;\n",
              "      width: 32px;\n",
              "    }\n",
              "\n",
              "    .colab-df-convert:hover {\n",
              "      background-color: #E2EBFA;\n",
              "      box-shadow: 0px 1px 2px rgba(60, 64, 67, 0.3), 0px 1px 3px 1px rgba(60, 64, 67, 0.15);\n",
              "      fill: #174EA6;\n",
              "    }\n",
              "\n",
              "    [theme=dark] .colab-df-convert {\n",
              "      background-color: #3B4455;\n",
              "      fill: #D2E3FC;\n",
              "    }\n",
              "\n",
              "    [theme=dark] .colab-df-convert:hover {\n",
              "      background-color: #434B5C;\n",
              "      box-shadow: 0px 1px 3px 1px rgba(0, 0, 0, 0.15);\n",
              "      filter: drop-shadow(0px 1px 2px rgba(0, 0, 0, 0.3));\n",
              "      fill: #FFFFFF;\n",
              "    }\n",
              "  </style>\n",
              "\n",
              "      <script>\n",
              "        const buttonEl =\n",
              "          document.querySelector('#df-54e3a067-7ec6-412a-8a8d-21c43527f662 button.colab-df-convert');\n",
              "        buttonEl.style.display =\n",
              "          google.colab.kernel.accessAllowed ? 'block' : 'none';\n",
              "\n",
              "        async function convertToInteractive(key) {\n",
              "          const element = document.querySelector('#df-54e3a067-7ec6-412a-8a8d-21c43527f662');\n",
              "          const dataTable =\n",
              "            await google.colab.kernel.invokeFunction('convertToInteractive',\n",
              "                                                     [key], {});\n",
              "          if (!dataTable) return;\n",
              "\n",
              "          const docLinkHtml = 'Like what you see? Visit the ' +\n",
              "            '<a target=\"_blank\" href=https://colab.research.google.com/notebooks/data_table.ipynb>data table notebook</a>'\n",
              "            + ' to learn more about interactive tables.';\n",
              "          element.innerHTML = '';\n",
              "          dataTable['output_type'] = 'display_data';\n",
              "          await google.colab.output.renderOutput(dataTable, element);\n",
              "          const docLink = document.createElement('div');\n",
              "          docLink.innerHTML = docLinkHtml;\n",
              "          element.appendChild(docLink);\n",
              "        }\n",
              "      </script>\n",
              "    </div>\n",
              "  </div>\n",
              "  "
            ],
            "text/plain": [
              "                                 aliases  date_of_birth  ...  type religion\n",
              "72                                  None         1919.0  ...  item     None\n",
              "545                                 None         1958.0  ...  item     None\n",
              "604   [Greg DePalma, Gregory J. DePalma]         1932.0  ...  item     None\n",
              "1030                                None         1924.0  ...  item     None\n",
              "2289                                None         1922.0  ...  item     None\n",
              "\n",
              "[5 rows x 15 columns]"
            ]
          },
          "metadata": {},
          "execution_count": 20
        }
      ],
      "source": [
        "wiki_df[wiki_df[\"occupation\"].isnull()].head()"
      ]
    },
    {
      "cell_type": "markdown",
      "metadata": {
        "id": "d_pTSYNc1FwW"
      },
      "source": [
        "Now, let's check for integrity in terms of political parties."
      ]
    },
    {
      "cell_type": "code",
      "execution_count": 21,
      "metadata": {
        "colab": {
          "base_uri": "https://localhost:8080/"
        },
        "id": "O1pDrfI21FwX",
        "outputId": "33ccfe50-e82c-43a7-d8ad-45f842ca7185",
        "scrolled": true
      },
      "outputs": [
        {
          "output_type": "stream",
          "name": "stdout",
          "text": [
            "The proportion of people with a political party, out of the total population found is 0.0794478078133456\n"
          ]
        }
      ],
      "source": [
        "have_political_party = wiki_df[wiki_df[\"party\"].isnull()].size\n",
        "print(\"The proportion of people with a political party, out of the total population found is\", 1-have_political_party/wiki_df.size)"
      ]
    },
    {
      "cell_type": "markdown",
      "metadata": {
        "id": "vXuKUlDV1FwZ"
      },
      "source": [
        "Now we want to see how many politicians have a political party. First we have to find a right format for the occupation method. To do so, we will convert the array of strings in the \"occupation\" column to a list of strings. "
      ]
    },
    {
      "cell_type": "code",
      "execution_count": 22,
      "metadata": {
        "id": "3CQO9Dro1Fwa"
      },
      "outputs": [],
      "source": [
        "# converts an array of strings to one string \n",
        "def array_to_string(s):\n",
        "    if s is not None:\n",
        "        concat_string = \"\" \n",
        "        for elem in s: \n",
        "            concat_string += elem + \",\"\n",
        "        return concat_string \n",
        "    else: \n",
        "        return None"
      ]
    },
    {
      "cell_type": "code",
      "execution_count": 23,
      "metadata": {
        "id": "nrWcSEHU1Fwb"
      },
      "outputs": [],
      "source": [
        "wiki_df[\"occupation_str\"] = wiki_df[\"occupation\"].apply(lambda x: array_to_string(x))"
      ]
    },
    {
      "cell_type": "code",
      "execution_count": 24,
      "metadata": {
        "colab": {
          "base_uri": "https://localhost:8080/"
        },
        "id": "5dacAnjh1Fwd",
        "outputId": "16b1687b-0cd9-4306-eb00-069e76671bc6"
      },
      "outputs": [
        {
          "output_type": "stream",
          "name": "stdout",
          "text": [
            "The proportion of politicians found is 9.7%\n"
          ]
        }
      ],
      "source": [
        "# we of course don't forget to set na values to a default \"False\"\n",
        "# Q82955 designates politicians\n",
        "are_politicians = wiki_df[wiki_df[\"occupation_str\"].str.contains(\"Q82955\", na = False)].size\n",
        "print(\"The proportion of politicians found is {0:.1%}\".format(are_politicians/wiki_df.size))"
      ]
    },
    {
      "cell_type": "code",
      "execution_count": 25,
      "metadata": {
        "colab": {
          "base_uri": "https://localhost:8080/"
        },
        "id": "82xYnVjg1Fwf",
        "outputId": "05841ba9-f795-4a68-dbae-e36d04557532"
      },
      "outputs": [
        {
          "output_type": "stream",
          "name": "stdout",
          "text": [
            "Among the politicians, the part having a political party is 96.3%\n"
          ]
        }
      ],
      "source": [
        "have_political_party = wiki_df[wiki_df[\"occupation_str\"].str.contains(\"Q82955\", na = False) & wiki_df[\"party\"].isnull()].size \n",
        "print(\"Among the politicians, the part having a political party is {0:.1%}\".format(1-have_political_party/wiki_df.size))"
      ]
    },
    {
      "cell_type": "markdown",
      "metadata": {
        "id": "1S1BAUOu1Fwg"
      },
      "source": [
        "This proportion is big enough for us to draw valid conclusions on our set. Similar proportions can be computed easily for other occupations. "
      ]
    },
    {
      "cell_type": "markdown",
      "metadata": {
        "id": "f5q-Eagf1Fwi"
      },
      "source": [
        "## Extraction"
      ]
    },
    {
      "cell_type": "markdown",
      "metadata": {
        "id": "2UdTyR3-1Fwj"
      },
      "source": [
        "We will create a dictionary containing the IDs and political parties for all persons having a political party. Note we only care about persons born after 1900. Some people could have more than one party. "
      ]
    },
    {
      "cell_type": "code",
      "execution_count": 26,
      "metadata": {
        "id": "voeSbqi71Fwk",
        "scrolled": true
      },
      "outputs": [],
      "source": [
        "dic = wiki_df[wiki_df[\"party\"].notna()].set_index(\"id\")[\"party\"].to_dict()"
      ]
    },
    {
      "cell_type": "markdown",
      "source": [
        "We will also pickle this dictionary, so that it is easier to reload it in the future."
      ],
      "metadata": {
        "id": "_u55jhh7UVi4"
      }
    },
    {
      "cell_type": "code",
      "source": [
        "import pickle\n",
        "DIC_PATH = '/content/drive/MyDrive/ada_project/data/dic.pkl'"
      ],
      "metadata": {
        "id": "5tKwhofqTMgY"
      },
      "execution_count": 27,
      "outputs": []
    },
    {
      "cell_type": "code",
      "source": [
        "with open(DIC_PATH, 'wb+') as file:\n",
        "    pickle.dump(dic, file, protocol=pickle.HIGHEST_PROTOCOL)"
      ],
      "metadata": {
        "id": "_oB7H7xLTtuE"
      },
      "execution_count": 28,
      "outputs": []
    },
    {
      "cell_type": "markdown",
      "source": [
        "Running this cell (with the correct imports) is enough to load the dictionary."
      ],
      "metadata": {
        "id": "zfSm6_alUf5K"
      }
    },
    {
      "cell_type": "code",
      "source": [
        "with open(DIC_PATH, 'rb') as file:\n",
        "    dic = pickle.load(file)"
      ],
      "metadata": {
        "id": "tESMPW-5Tqpx"
      },
      "execution_count": 29,
      "outputs": []
    },
    {
      "cell_type": "markdown",
      "metadata": {
        "id": "gAY77L5h23gC"
      },
      "source": [
        "# Further Data Inspection\n",
        "Since our end goal will rely on which political party people that get quoted adhere to, let's analyze what properties the data has in this regard.\n",
        "\n",
        "Firstly, let's take a sample dataset (2020 shrank) and see how many people in it have a political party. For now we will analyze only those quotations that only have a single QID associated to them."
      ]
    },
    {
      "cell_type": "code",
      "execution_count": 36,
      "metadata": {
        "id": "yzZMGbyU_G3H",
        "colab": {
          "base_uri": "https://localhost:8080/"
        },
        "outputId": "844ad40a-404f-41c6-b200-bfcf1799c24b"
      },
      "outputs": [
        {
          "output_type": "stream",
          "name": "stdout",
          "text": [
            "Processed 3443604 quotations.\n",
            "Out of 2511905 quotations that have only one associated QID, 789714 are from persons labeled with a political party.\n",
            "Rate: 31.4%\n"
          ]
        }
      ],
      "source": [
        "# We want to check how many of the single-QID quotations belong to a people with political parties\n",
        "num_single_qid = 0\n",
        "num_politicians = 0\n",
        "with load_shrank_dataset(2020) as input_file:\n",
        "    for i, input_line in enumerate(input_file):\n",
        "        qids = json.loads(input_line)['qids']\n",
        "        if len(qids) == 1:\n",
        "            num_single_qid += 1\n",
        "            if qids[0] in dic.keys(): num_politicians += 1\n",
        "print(\"Processed {} quotations.\".format(i))\n",
        "print(\"Out of {} quotations that have only one associated QID, {} are from persons labeled with a political party.\".format(num_single_qid, num_politicians))\n",
        "print(\"Rate: {0:.1%}\".format(num_politicians/num_single_qid))"
      ]
    },
    {
      "cell_type": "markdown",
      "metadata": {
        "id": "VI9I0q3aLpPq"
      },
      "source": [
        "Quotations containing a list of QIDs won't be analyzed for now, because they might require some form of manual checking. "
      ]
    },
    {
      "cell_type": "markdown",
      "source": [
        "# Handle data - Spark \n",
        "\n",
        "With this initial pipeline in place, we have laid the foundation from which we will address how polarized news sources are. The shrank versions of the datasets allow us to perform large scale operations almost twice as fast, but also act as a starting point for further splitting.\n",
        "\n",
        "Last minute comment : please first note that the Spark lecture was not yet done at the time this code was written. So the below code mostly relies on internet tutorials and knowledge from previous scala courses. \n",
        "\n",
        "The amount of data provided is still huge. Taking this into consideration, we cannot load everything into pandas, in the RAM and hope all will work well. Therefore, we decided to go with [Spark](https://spark.apache.org/docs/latest/).\n",
        "The advantages of Spark are : \n",
        "\n",
        "*   Handling large amounts of data without loading everything to RAM. Spark runs an Apache server allowing SQL and structured data processing. \n",
        "*   Parallelized operations, using RDD - Resilient Distributed Dataset - will allow operations to run on multiple cores and multiple disks, making everything scalable for even larger amounts of data."
      ],
      "metadata": {
        "id": "ncnpQEo1BtyA"
      }
    },
    {
      "cell_type": "markdown",
      "source": [
        "### Spark installatation\n",
        "All credits for Spark installation on colab to this [tutorial](https://www.analyticsvidhya.com/blog/2020/11/a-must-read-guide-on-how-to-work-with-pyspark-on-google-colab-for-data-scientists/)."
      ],
      "metadata": {
        "id": "r4bSrodbCKAa"
      }
    },
    {
      "cell_type": "code",
      "source": [
        "## Install java\n",
        "!apt-get install openjdk-8-jdk-headless -qq > /dev/null\n",
        "## Installs spark \n",
        "!tar xf /content/drive/MyDrive/ada_project/spark/spark-3.2.0-bin-hadoop3.2.tgz\n",
        "## Installs a spark locator\n",
        "!pip install -q findspark"
      ],
      "metadata": {
        "id": "kx2jz0p1CBMK"
      },
      "execution_count": null,
      "outputs": []
    },
    {
      "cell_type": "code",
      "source": [
        "## Sets up paths \n",
        "import os\n",
        "os.environ[\"JAVA_HOME\"] = \"/usr/lib/jvm/java-8-openjdk-amd64\"\n",
        "os.environ[\"SPARK_HOME\"] = \"/content/spark-3.2.0-bin-hadoop3.2\"\n",
        "## Locates spark in the system\n",
        "import findspark\n",
        "findspark.init()"
      ],
      "metadata": {
        "id": "DTz8qp_RRZSu"
      },
      "execution_count": null,
      "outputs": []
    },
    {
      "cell_type": "code",
      "source": [
        "## Creates spark session \n",
        "from pyspark.sql import SparkSession\n",
        "\n",
        "## We set up the spark session, where local[*] means using all the available cores \n",
        "spark = SparkSession.builder.master(\"local[*]\").appName(\"Colab\").config('spark.ui.port', '4050').getOrCreate()\n",
        "sc = spark.sparkContext\n",
        "\n",
        "## Checks spark version \n",
        "spark "
      ],
      "metadata": {
        "id": "3VojkpDRCfP9",
        "outputId": "69e596e8-ce4a-453a-ed1f-419342b6224c",
        "colab": {
          "base_uri": "https://localhost:8080/",
          "height": 219
        }
      },
      "execution_count": null,
      "outputs": [
        {
          "output_type": "execute_result",
          "data": {
            "text/html": [
              "\n",
              "            <div>\n",
              "                <p><b>SparkSession - in-memory</b></p>\n",
              "                \n",
              "        <div>\n",
              "            <p><b>SparkContext</b></p>\n",
              "\n",
              "            <p><a href=\"http://1890bcc9ebd9:4050\">Spark UI</a></p>\n",
              "\n",
              "            <dl>\n",
              "              <dt>Version</dt>\n",
              "                <dd><code>v3.2.0</code></dd>\n",
              "              <dt>Master</dt>\n",
              "                <dd><code>local[*]</code></dd>\n",
              "              <dt>AppName</dt>\n",
              "                <dd><code>Colab</code></dd>\n",
              "            </dl>\n",
              "        </div>\n",
              "        \n",
              "            </div>\n",
              "        "
            ],
            "text/plain": [
              "<pyspark.sql.session.SparkSession at 0x7faeaa52aa10>"
            ]
          },
          "metadata": {},
          "execution_count": 24
        }
      ]
    },
    {
      "cell_type": "markdown",
      "source": [
        "\n",
        "We also install a library to handle domain names (will be usefull afterwards)."
      ],
      "metadata": {
        "id": "-iBvpEazZmth"
      }
    },
    {
      "cell_type": "code",
      "source": [
        "!pip install tld\n",
        "# will get the fld from a specific link \n",
        "from tld import get_fld\n",
        "# here is the list of up to date domain names \n",
        "from tld.utils import update_tld_names"
      ],
      "metadata": {
        "colab": {
          "base_uri": "https://localhost:8080/"
        },
        "id": "Ew6Ai85k8BMw",
        "outputId": "570a82c2-e34f-4d61-dcf5-e96c81c7a125"
      },
      "execution_count": null,
      "outputs": [
        {
          "output_type": "stream",
          "name": "stdout",
          "text": [
            "Collecting tld\n",
            "  Downloading tld-0.12.6-py37-none-any.whl (412 kB)\n",
            "\u001b[?25l\r\u001b[K     |▉                               | 10 kB 22.8 MB/s eta 0:00:01\r\u001b[K     |█▋                              | 20 kB 11.7 MB/s eta 0:00:01\r\u001b[K     |██▍                             | 30 kB 9.4 MB/s eta 0:00:01\r\u001b[K     |███▏                            | 40 kB 8.4 MB/s eta 0:00:01\r\u001b[K     |████                            | 51 kB 4.4 MB/s eta 0:00:01\r\u001b[K     |████▊                           | 61 kB 4.6 MB/s eta 0:00:01\r\u001b[K     |█████▋                          | 71 kB 4.7 MB/s eta 0:00:01\r\u001b[K     |██████▍                         | 81 kB 5.3 MB/s eta 0:00:01\r\u001b[K     |███████▏                        | 92 kB 5.3 MB/s eta 0:00:01\r\u001b[K     |████████                        | 102 kB 4.3 MB/s eta 0:00:01\r\u001b[K     |████████▊                       | 112 kB 4.3 MB/s eta 0:00:01\r\u001b[K     |█████████▌                      | 122 kB 4.3 MB/s eta 0:00:01\r\u001b[K     |██████████▍                     | 133 kB 4.3 MB/s eta 0:00:01\r\u001b[K     |███████████▏                    | 143 kB 4.3 MB/s eta 0:00:01\r\u001b[K     |████████████                    | 153 kB 4.3 MB/s eta 0:00:01\r\u001b[K     |████████████▊                   | 163 kB 4.3 MB/s eta 0:00:01\r\u001b[K     |█████████████▌                  | 174 kB 4.3 MB/s eta 0:00:01\r\u001b[K     |██████████████▎                 | 184 kB 4.3 MB/s eta 0:00:01\r\u001b[K     |███████████████                 | 194 kB 4.3 MB/s eta 0:00:01\r\u001b[K     |████████████████                | 204 kB 4.3 MB/s eta 0:00:01\r\u001b[K     |████████████████▊               | 215 kB 4.3 MB/s eta 0:00:01\r\u001b[K     |█████████████████▌              | 225 kB 4.3 MB/s eta 0:00:01\r\u001b[K     |██████████████████▎             | 235 kB 4.3 MB/s eta 0:00:01\r\u001b[K     |███████████████████             | 245 kB 4.3 MB/s eta 0:00:01\r\u001b[K     |███████████████████▉            | 256 kB 4.3 MB/s eta 0:00:01\r\u001b[K     |████████████████████▊           | 266 kB 4.3 MB/s eta 0:00:01\r\u001b[K     |█████████████████████▌          | 276 kB 4.3 MB/s eta 0:00:01\r\u001b[K     |██████████████████████▎         | 286 kB 4.3 MB/s eta 0:00:01\r\u001b[K     |███████████████████████         | 296 kB 4.3 MB/s eta 0:00:01\r\u001b[K     |███████████████████████▉        | 307 kB 4.3 MB/s eta 0:00:01\r\u001b[K     |████████████████████████▋       | 317 kB 4.3 MB/s eta 0:00:01\r\u001b[K     |█████████████████████████▍      | 327 kB 4.3 MB/s eta 0:00:01\r\u001b[K     |██████████████████████████▎     | 337 kB 4.3 MB/s eta 0:00:01\r\u001b[K     |███████████████████████████     | 348 kB 4.3 MB/s eta 0:00:01\r\u001b[K     |███████████████████████████▉    | 358 kB 4.3 MB/s eta 0:00:01\r\u001b[K     |████████████████████████████▋   | 368 kB 4.3 MB/s eta 0:00:01\r\u001b[K     |█████████████████████████████▍  | 378 kB 4.3 MB/s eta 0:00:01\r\u001b[K     |██████████████████████████████▏ | 389 kB 4.3 MB/s eta 0:00:01\r\u001b[K     |███████████████████████████████ | 399 kB 4.3 MB/s eta 0:00:01\r\u001b[K     |███████████████████████████████▉| 409 kB 4.3 MB/s eta 0:00:01\r\u001b[K     |████████████████████████████████| 412 kB 4.3 MB/s \n",
            "\u001b[?25hInstalling collected packages: tld\n",
            "Successfully installed tld-0.12.6\n"
          ]
        }
      ]
    },
    {
      "cell_type": "markdown",
      "source": [
        "## Import news sources"
      ],
      "metadata": {
        "id": "pRFDneMNFtbQ"
      }
    },
    {
      "cell_type": "code",
      "source": [
        "news_sources = pd.read_csv(NEWS_SOURCES_FILE_PATH, sep = \";\")\n",
        "news_sources"
      ],
      "metadata": {
        "id": "-gFpeXyYIPrq",
        "outputId": "b2b13a46-7e87-4955-84b3-42698f9266bb",
        "colab": {
          "base_uri": "https://localhost:8080/",
          "height": 790
        }
      },
      "execution_count": null,
      "outputs": [
        {
          "output_type": "execute_result",
          "data": {
            "text/html": [
              "<div>\n",
              "<style scoped>\n",
              "    .dataframe tbody tr th:only-of-type {\n",
              "        vertical-align: middle;\n",
              "    }\n",
              "\n",
              "    .dataframe tbody tr th {\n",
              "        vertical-align: top;\n",
              "    }\n",
              "\n",
              "    .dataframe thead th {\n",
              "        text-align: right;\n",
              "    }\n",
              "</style>\n",
              "<table border=\"1\" class=\"dataframe\">\n",
              "  <thead>\n",
              "    <tr style=\"text-align: right;\">\n",
              "      <th></th>\n",
              "      <th>name</th>\n",
              "      <th>domain</th>\n",
              "      <th>pew_democrats_survey</th>\n",
              "      <th>pew_republicans_survey</th>\n",
              "      <th>pew_difference</th>\n",
              "      <th>pew_classification</th>\n",
              "      <th>similarweb_total_visitors</th>\n",
              "      <th>similarweb_pages_per_visit</th>\n",
              "      <th>similarweb_bounce_rate</th>\n",
              "      <th>twitter_followers</th>\n",
              "      <th>notes</th>\n",
              "    </tr>\n",
              "  </thead>\n",
              "  <tbody>\n",
              "    <tr>\n",
              "      <th>0</th>\n",
              "      <td>CNN</td>\n",
              "      <td>cnn.com</td>\n",
              "      <td>34</td>\n",
              "      <td>13</td>\n",
              "      <td>21</td>\n",
              "      <td>left</td>\n",
              "      <td>500,58</td>\n",
              "      <td>1,96</td>\n",
              "      <td>58,78</td>\n",
              "      <td>55,4</td>\n",
              "      <td>NaN</td>\n",
              "    </tr>\n",
              "    <tr>\n",
              "      <th>1</th>\n",
              "      <td>New York Times</td>\n",
              "      <td>nytimes.com</td>\n",
              "      <td>48</td>\n",
              "      <td>11</td>\n",
              "      <td>37</td>\n",
              "      <td>left</td>\n",
              "      <td>312,21</td>\n",
              "      <td>2,26</td>\n",
              "      <td>62,74</td>\n",
              "      <td>51</td>\n",
              "      <td>NaN</td>\n",
              "    </tr>\n",
              "    <tr>\n",
              "      <th>2</th>\n",
              "      <td>Fox News</td>\n",
              "      <td>foxnews.com</td>\n",
              "      <td>9</td>\n",
              "      <td>46</td>\n",
              "      <td>37</td>\n",
              "      <td>right</td>\n",
              "      <td>277,72</td>\n",
              "      <td>3,06</td>\n",
              "      <td>47,63</td>\n",
              "      <td>20,4</td>\n",
              "      <td>NaN</td>\n",
              "    </tr>\n",
              "    <tr>\n",
              "      <th>3</th>\n",
              "      <td>New York Post</td>\n",
              "      <td>nypost.com</td>\n",
              "      <td>22</td>\n",
              "      <td>32</td>\n",
              "      <td>10</td>\n",
              "      <td>mixed</td>\n",
              "      <td>109,06</td>\n",
              "      <td>1,82</td>\n",
              "      <td>66,41</td>\n",
              "      <td>2,3</td>\n",
              "      <td>NaN</td>\n",
              "    </tr>\n",
              "    <tr>\n",
              "      <th>4</th>\n",
              "      <td>USA Today</td>\n",
              "      <td>usatoday.com</td>\n",
              "      <td>25</td>\n",
              "      <td>19</td>\n",
              "      <td>6</td>\n",
              "      <td>mixed</td>\n",
              "      <td>100,06</td>\n",
              "      <td>2,18</td>\n",
              "      <td>70,13</td>\n",
              "      <td>4,4</td>\n",
              "      <td>NaN</td>\n",
              "    </tr>\n",
              "    <tr>\n",
              "      <th>5</th>\n",
              "      <td>Business Insider</td>\n",
              "      <td>businessinsider.com</td>\n",
              "      <td>40</td>\n",
              "      <td>20</td>\n",
              "      <td>20</td>\n",
              "      <td>left</td>\n",
              "      <td>97,47</td>\n",
              "      <td>2,20</td>\n",
              "      <td>72,87</td>\n",
              "      <td>3,5</td>\n",
              "      <td>NaN</td>\n",
              "    </tr>\n",
              "    <tr>\n",
              "      <th>6</th>\n",
              "      <td>Wall Street Journal</td>\n",
              "      <td>wsj.com</td>\n",
              "      <td>31</td>\n",
              "      <td>24</td>\n",
              "      <td>7</td>\n",
              "      <td>mixed</td>\n",
              "      <td>73,11</td>\n",
              "      <td>1,93</td>\n",
              "      <td>65,78</td>\n",
              "      <td>19,2</td>\n",
              "      <td>NaN</td>\n",
              "    </tr>\n",
              "    <tr>\n",
              "      <th>7</th>\n",
              "      <td>NBC News</td>\n",
              "      <td>nbcnews.com</td>\n",
              "      <td>27</td>\n",
              "      <td>20</td>\n",
              "      <td>7</td>\n",
              "      <td>mixed</td>\n",
              "      <td>66,90</td>\n",
              "      <td>1,45</td>\n",
              "      <td>74,57</td>\n",
              "      <td>8,7</td>\n",
              "      <td>NaN</td>\n",
              "    </tr>\n",
              "    <tr>\n",
              "      <th>8</th>\n",
              "      <td>HuffPost</td>\n",
              "      <td>huffingtonpost.com</td>\n",
              "      <td>53</td>\n",
              "      <td>11</td>\n",
              "      <td>42</td>\n",
              "      <td>left</td>\n",
              "      <td>62,77</td>\n",
              "      <td>2,05</td>\n",
              "      <td>60,62</td>\n",
              "      <td>11,3</td>\n",
              "      <td>NaN</td>\n",
              "    </tr>\n",
              "    <tr>\n",
              "      <th>9</th>\n",
              "      <td>Breitbart</td>\n",
              "      <td>breitbart.com</td>\n",
              "      <td>1</td>\n",
              "      <td>80</td>\n",
              "      <td>79</td>\n",
              "      <td>right</td>\n",
              "      <td>47,50</td>\n",
              "      <td>2,53</td>\n",
              "      <td>49,66</td>\n",
              "      <td>1,4</td>\n",
              "      <td>NaN</td>\n",
              "    </tr>\n",
              "    <tr>\n",
              "      <th>10</th>\n",
              "      <td>The Hill</td>\n",
              "      <td>thehill.com</td>\n",
              "      <td>42</td>\n",
              "      <td>22</td>\n",
              "      <td>20</td>\n",
              "      <td>left</td>\n",
              "      <td>42,07</td>\n",
              "      <td>1,86</td>\n",
              "      <td>69,03</td>\n",
              "      <td>4,2</td>\n",
              "      <td>NaN</td>\n",
              "    </tr>\n",
              "    <tr>\n",
              "      <th>11</th>\n",
              "      <td>Politico</td>\n",
              "      <td>politico.com</td>\n",
              "      <td>49</td>\n",
              "      <td>13</td>\n",
              "      <td>36</td>\n",
              "      <td>left</td>\n",
              "      <td>41,99</td>\n",
              "      <td>2,80</td>\n",
              "      <td>66,20</td>\n",
              "      <td>4,5</td>\n",
              "      <td>NaN</td>\n",
              "    </tr>\n",
              "    <tr>\n",
              "      <th>12</th>\n",
              "      <td>ABC News</td>\n",
              "      <td>abcnews.com</td>\n",
              "      <td>22</td>\n",
              "      <td>21</td>\n",
              "      <td>1</td>\n",
              "      <td>mixed</td>\n",
              "      <td>31,81</td>\n",
              "      <td>1,87</td>\n",
              "      <td>77,79</td>\n",
              "      <td>16,9</td>\n",
              "      <td>NaN</td>\n",
              "    </tr>\n",
              "    <tr>\n",
              "      <th>13</th>\n",
              "      <td>CBS News</td>\n",
              "      <td>cbsnews.com</td>\n",
              "      <td>23</td>\n",
              "      <td>22</td>\n",
              "      <td>1</td>\n",
              "      <td>mixed</td>\n",
              "      <td>30,38</td>\n",
              "      <td>2,10</td>\n",
              "      <td>72,82</td>\n",
              "      <td>8,3</td>\n",
              "      <td>NaN</td>\n",
              "    </tr>\n",
              "    <tr>\n",
              "      <th>14</th>\n",
              "      <td>Vice</td>\n",
              "      <td>vice.com</td>\n",
              "      <td>48</td>\n",
              "      <td>7</td>\n",
              "      <td>41</td>\n",
              "      <td>left</td>\n",
              "      <td>27,89</td>\n",
              "      <td>1,51</td>\n",
              "      <td>73,69</td>\n",
              "      <td>1</td>\n",
              "      <td>Twitter followers refer to @ViceNews and not @...</td>\n",
              "    </tr>\n",
              "    <tr>\n",
              "      <th>15</th>\n",
              "      <td>Vox</td>\n",
              "      <td>vox.com</td>\n",
              "      <td>62</td>\n",
              "      <td>4</td>\n",
              "      <td>58</td>\n",
              "      <td>left</td>\n",
              "      <td>20,75</td>\n",
              "      <td>1,40</td>\n",
              "      <td>73,70</td>\n",
              "      <td>1</td>\n",
              "      <td>NaN</td>\n",
              "    </tr>\n",
              "    <tr>\n",
              "      <th>16</th>\n",
              "      <td>Washington Examiner</td>\n",
              "      <td>washingtonexaminer.com</td>\n",
              "      <td>14</td>\n",
              "      <td>44</td>\n",
              "      <td>30</td>\n",
              "      <td>right</td>\n",
              "      <td>13,32</td>\n",
              "      <td>1,47</td>\n",
              "      <td>73,08</td>\n",
              "      <td>0,3</td>\n",
              "      <td>NaN</td>\n",
              "    </tr>\n",
              "    <tr>\n",
              "      <th>17</th>\n",
              "      <td>Daily Caller</td>\n",
              "      <td>dailycaller.com</td>\n",
              "      <td>3</td>\n",
              "      <td>72</td>\n",
              "      <td>69</td>\n",
              "      <td>right</td>\n",
              "      <td>7,86</td>\n",
              "      <td>2,02</td>\n",
              "      <td>60,22</td>\n",
              "      <td>0,8</td>\n",
              "      <td>NaN</td>\n",
              "    </tr>\n",
              "  </tbody>\n",
              "</table>\n",
              "</div>"
            ],
            "text/plain": [
              "                   name  ...                                              notes\n",
              "0                   CNN  ...                                                NaN\n",
              "1        New York Times  ...                                                NaN\n",
              "2              Fox News  ...                                                NaN\n",
              "3         New York Post  ...                                                NaN\n",
              "4             USA Today  ...                                                NaN\n",
              "5      Business Insider  ...                                                NaN\n",
              "6   Wall Street Journal  ...                                                NaN\n",
              "7              NBC News  ...                                                NaN\n",
              "8              HuffPost  ...                                                NaN\n",
              "9             Breitbart  ...                                                NaN\n",
              "10             The Hill  ...                                                NaN\n",
              "11             Politico  ...                                                NaN\n",
              "12             ABC News  ...                                                NaN\n",
              "13             CBS News  ...                                                NaN\n",
              "14                 Vice  ...  Twitter followers refer to @ViceNews and not @...\n",
              "15                  Vox  ...                                                NaN\n",
              "16  Washington Examiner  ...                                                NaN\n",
              "17         Daily Caller  ...                                                NaN\n",
              "\n",
              "[18 rows x 11 columns]"
            ]
          },
          "metadata": {},
          "execution_count": 26
        }
      ]
    },
    {
      "cell_type": "markdown",
      "source": [
        "Let's create a numpy array with the news sources we want. "
      ],
      "metadata": {
        "id": "EpTtt8HSI93c"
      }
    },
    {
      "cell_type": "code",
      "source": [
        "selected_domains = news_sources[\"domain\"].to_numpy()\n",
        "selected_domains"
      ],
      "metadata": {
        "id": "cK8lWqNeIfCv",
        "outputId": "f269b10b-e909-4a4b-bff6-7ee99f4e07a6",
        "colab": {
          "base_uri": "https://localhost:8080/"
        }
      },
      "execution_count": null,
      "outputs": [
        {
          "output_type": "execute_result",
          "data": {
            "text/plain": [
              "array(['cnn.com', 'nytimes.com', 'foxnews.com', 'nypost.com',\n",
              "       'usatoday.com', 'businessinsider.com', 'wsj.com', 'nbcnews.com',\n",
              "       'huffingtonpost.com', 'breitbart.com', 'thehill.com',\n",
              "       'politico.com', 'abcnews.com', 'cbsnews.com', 'vice.com',\n",
              "       'vox.com', 'washingtonexaminer.com', 'dailycaller.com'],\n",
              "      dtype=object)"
            ]
          },
          "metadata": {},
          "execution_count": 27
        }
      ]
    },
    {
      "cell_type": "markdown",
      "source": [
        "## Import dataframes"
      ],
      "metadata": {
        "id": "6nemxwOe4-2L"
      }
    },
    {
      "cell_type": "code",
      "source": [
        "df_2020 = spark.read.load(SHRANK_DATASETS_FOLDER_PATH + \"/quotes-2020-shrank.json.bz2\", format=\"json\")"
      ],
      "metadata": {
        "id": "6bSYqQauJIGQ"
      },
      "execution_count": null,
      "outputs": []
    },
    {
      "cell_type": "code",
      "source": [
        "df_2020.show(10)"
      ],
      "metadata": {
        "id": "Mjj2wR-PJVez",
        "outputId": "2840c5fd-4131-4274-c5ba-72444839031b",
        "colab": {
          "base_uri": "https://localhost:8080/"
        }
      },
      "execution_count": null,
      "outputs": [
        {
          "output_type": "stream",
          "name": "stdout",
          "text": [
            "+-----+--------------------+--------------------+--------------------+-----------------+-------------------+--------------------+\n",
            "|phase|              probas|                qids|           quotation|          quoteID|            speaker|                urls|\n",
            "+-----+--------------------+--------------------+--------------------+-----------------+-------------------+--------------------+\n",
            "|    E|[[Sue Myrick, 0.8...|           [Q367796]|[ Department of H...|2020-01-16-000088|         Sue Myrick|[http://thehill.c...|\n",
            "|    E|[[Meghan King Edm...|         [Q20684375]|[ I met them ] wh...|2020-01-24-000168|Meghan King Edmonds|[https://people.c...|\n",
            "|    E|[[Dexter Smith, 0...|          [Q5268447]|[ The delay ] wil...|2020-01-17-000357|       Dexter Smith|[http://www.sloug...|\n",
            "|    E|[[Barry Coppinger...|          [Q4864119]|[ The scheme ] tr...|2020-04-02-000239|    Barry Coppinger|[http://www.thewe...|\n",
            "|    E|[[Ben Carson, 0.9...|           [Q816459]|[ These ] actions...|2020-03-19-000276|         Ben Carson|[https://mortgage...|\n",
            "|    E|[[Danny Davis, 0....|[Q5220272, Q5220273]|... Under a Presi...|2020-02-02-000235|        Danny Davis|[https://chicago....|\n",
            "|    E|[[Paul Masterton,...|         [Q30164281]|1. FM is entitled...|2020-03-12-000358|     Paul Masterton|[http://www.thena...|\n",
            "|    E|[[Aphelele Fassi,...|         [Q56255401]|11 straight weeks...|2020-01-08-000594|     Aphelele Fassi|[https://www.spor...|\n",
            "|    E|[[Micha Kaufman, ...|         [Q26923564]|2019 was a landma...|2020-02-21-000455|      Micha Kaufman|[https://www.fool...|\n",
            "|    E|[[Amy Schumer, 0....|          [Q4749380]|7pm is when most ...|2020-04-01-000532|        Amy Schumer|[https://www.buzz...|\n",
            "+-----+--------------------+--------------------+--------------------+-----------------+-------------------+--------------------+\n",
            "only showing top 10 rows\n",
            "\n"
          ]
        }
      ]
    },
    {
      "cell_type": "markdown",
      "source": [
        "We select only the columns useful for our purpose, to decrease computation time."
      ],
      "metadata": {
        "id": "v6d_GvhVfMv9"
      }
    },
    {
      "cell_type": "code",
      "source": [
        "df_sel = df_2020.select(\"qids\", \"urls\")\n",
        "df_sel.show(10)"
      ],
      "metadata": {
        "colab": {
          "base_uri": "https://localhost:8080/"
        },
        "id": "JRyQyOFvcbnS",
        "outputId": "705a24f1-8b97-427a-c8bc-57ee18b8da57"
      },
      "execution_count": null,
      "outputs": [
        {
          "output_type": "stream",
          "name": "stdout",
          "text": [
            "+--------------------+--------------------+\n",
            "|                qids|                urls|\n",
            "+--------------------+--------------------+\n",
            "|           [Q367796]|[http://thehill.c...|\n",
            "|         [Q20684375]|[https://people.c...|\n",
            "|          [Q5268447]|[http://www.sloug...|\n",
            "|          [Q4864119]|[http://www.thewe...|\n",
            "|           [Q816459]|[https://mortgage...|\n",
            "|[Q5220272, Q5220273]|[https://chicago....|\n",
            "|         [Q30164281]|[http://www.thena...|\n",
            "|         [Q56255401]|[https://www.spor...|\n",
            "|         [Q26923564]|[https://www.fool...|\n",
            "|          [Q4749380]|[https://www.buzz...|\n",
            "+--------------------+--------------------+\n",
            "only showing top 10 rows\n",
            "\n"
          ]
        }
      ]
    },
    {
      "cell_type": "markdown",
      "source": [
        "## Filtering in pyspark "
      ],
      "metadata": {
        "id": "HaQhkHwKz8Lf"
      }
    },
    {
      "cell_type": "code",
      "source": [
        "def compute_similarity(urls):\n",
        "  \"\"\"\n",
        "  This function computes if an url is a substring of any url contained\n",
        "  in an array. \n",
        "  @return : boolean \n",
        "  \"\"\"\n",
        "  # we decide to concatenate the array of strings in one string and \n",
        "  # perform the comparison afterwards. After trying, this method seems\n",
        "  # more efficient in terms of computation. \n",
        "  concated_urls = \"|\".join(urls)\n",
        "  to_keep = False\n",
        "  for source in selected_domains:\n",
        "    if source in concated_urls:\n",
        "      to_keep = True \n",
        "  return to_keep"
      ],
      "metadata": {
        "id": "jwy3e9TUuI0k"
      },
      "execution_count": null,
      "outputs": []
    },
    {
      "cell_type": "markdown",
      "source": [
        "We filter the url in a rapid way, i.e. simply comparing substrings. Deeper filtering will be done later."
      ],
      "metadata": {
        "id": "9-XnOJR9fzj_"
      }
    },
    {
      "cell_type": "code",
      "source": [
        "filtered_df = df_sel.rdd.filter(lambda x : compute_similarity(x.urls)).toDF()"
      ],
      "metadata": {
        "id": "kDTFpE1ruqO-"
      },
      "execution_count": null,
      "outputs": []
    },
    {
      "cell_type": "code",
      "source": [
        "filtered_df.show()"
      ],
      "metadata": {
        "id": "VnmbKRdJuzLA",
        "colab": {
          "base_uri": "https://localhost:8080/"
        },
        "outputId": "6e6c702c-81d8-4ab3-9d79-a05c174bec37"
      },
      "execution_count": null,
      "outputs": [
        {
          "output_type": "stream",
          "name": "stdout",
          "text": [
            "+--------------------+--------------------+\n",
            "|                qids|                urls|\n",
            "+--------------------+--------------------+\n",
            "|           [Q367796]|[http://thehill.c...|\n",
            "|           [Q771586]|[http://rss.cnn.c...|\n",
            "|           [Q461391]|[http://news.vice...|\n",
            "|            [Q65539]|[http://www.breit...|\n",
            "|           [Q266863]|[https://www.life...|\n",
            "|          [Q2926392]|[http://nytimes.c...|\n",
            "|[Q11118258, Q2872...|[https://www.nyti...|\n",
            "|           [Q892014]|[http://www.breit...|\n",
            "|            [Q22686]|[http://rss.cnn.c...|\n",
            "|           [Q478161]|[http://nordic.bu...|\n",
            "|[Q30075239, Q5386...|[https://www.seat...|\n",
            "|           [Q170581]|[http://thehill.c...|\n",
            "|         [Q45779500]|[http://www.busin...|\n",
            "|           [Q497271]|[http://mobile.ny...|\n",
            "|          [Q6370996]|[https://www.vox....|\n",
            "|          [Q3957020]|[https://www.wash...|\n",
            "|          [Q7176828]|[http://breitbart...|\n",
            "|           [Q434706]|[http://feeds.fox...|\n",
            "|         [Q27947702]|[https://nypost.c...|\n",
            "|[Q17381417, Q2064...|[https://www.nbcn...|\n",
            "+--------------------+--------------------+\n",
            "only showing top 20 rows\n",
            "\n"
          ]
        }
      ]
    },
    {
      "cell_type": "markdown",
      "source": [
        "To be certain of the quality of our results, we decided to keep only the quotations with a single qid, i.e. cases where we can be almost sure about who the speaker is. Quotations with no QID are also discarded."
      ],
      "metadata": {
        "id": "Qjh1XBz_JMWJ"
      }
    },
    {
      "cell_type": "code",
      "source": [
        "def single_qid(qids):\n",
        "  return len(qids) == 1"
      ],
      "metadata": {
        "id": "l3qOxDovy3DI"
      },
      "execution_count": null,
      "outputs": []
    },
    {
      "cell_type": "code",
      "source": [
        "filtered_df2 = filtered_df.rdd.filter(lambda x : single_qid(x.qids)).toDF()"
      ],
      "metadata": {
        "id": "hkOpRAg5AcnV"
      },
      "execution_count": null,
      "outputs": []
    },
    {
      "cell_type": "code",
      "source": [
        "filtered_df2"
      ],
      "metadata": {
        "colab": {
          "base_uri": "https://localhost:8080/"
        },
        "id": "ffNceU0xDmtn",
        "outputId": "75780b09-8974-4721-f7e9-63d717ff7040"
      },
      "execution_count": null,
      "outputs": [
        {
          "output_type": "execute_result",
          "data": {
            "text/plain": [
              "DataFrame[qids: array<string>, urls: array<string>]"
            ]
          },
          "metadata": {},
          "execution_count": 35
        }
      ]
    },
    {
      "cell_type": "code",
      "source": [
        "filtered_df2.show()"
      ],
      "metadata": {
        "colab": {
          "base_uri": "https://localhost:8080/"
        },
        "id": "pPQxQLzuD0pT",
        "outputId": "b0bdf550-9e38-4d57-c4a0-d957a20325dc"
      },
      "execution_count": null,
      "outputs": [
        {
          "output_type": "stream",
          "name": "stdout",
          "text": [
            "+-----------+--------------------+\n",
            "|       qids|                urls|\n",
            "+-----------+--------------------+\n",
            "|  [Q367796]|[http://thehill.c...|\n",
            "|  [Q771586]|[http://rss.cnn.c...|\n",
            "|  [Q461391]|[http://news.vice...|\n",
            "|   [Q65539]|[http://www.breit...|\n",
            "|  [Q266863]|[https://www.life...|\n",
            "| [Q2926392]|[http://nytimes.c...|\n",
            "|  [Q892014]|[http://www.breit...|\n",
            "|   [Q22686]|[http://rss.cnn.c...|\n",
            "|  [Q478161]|[http://nordic.bu...|\n",
            "|  [Q170581]|[http://thehill.c...|\n",
            "|[Q45779500]|[http://www.busin...|\n",
            "|  [Q497271]|[http://mobile.ny...|\n",
            "| [Q6370996]|[https://www.vox....|\n",
            "| [Q3957020]|[https://www.wash...|\n",
            "| [Q7176828]|[http://breitbart...|\n",
            "|  [Q434706]|[http://feeds.fox...|\n",
            "|[Q27947702]|[https://nypost.c...|\n",
            "|   [Q86294]|[http://www.breit...|\n",
            "|[Q16751186]|[http://uk.busine...|\n",
            "|   [Q22360]|[http://feeds.fox...|\n",
            "+-----------+--------------------+\n",
            "only showing top 20 rows\n",
            "\n"
          ]
        }
      ]
    },
    {
      "cell_type": "markdown",
      "source": [
        "Let's now translate QIDs to political parties. We will also keep only the political party and the URLs. Note that some politicians may have switched parties during their career. As we have no way to know when they switched and thus what was their party at the time of the quote, we handle this by indicating \"Both\" in the political party column. \n",
        "\n",
        "On a first eyeball inspection, Donald Trump appears to represent a huge part of the quotes. We include a special category for him for further analysis, and avoid corrupting the \"both\" category with only Donald Trump quotes. Same process is performed for Hillary Clinton, who was a Republican before being a Democrat.\n",
        "\n",
        "Note that we also treat equally people who do not have a party in \n",
        "our dataset and people who do not appear at all in Wikidata. As Wikidata is quite complete, we consider that people who do have a party but do not appear in Wikidata as not popular enough to be considered as politicians.\n"
      ],
      "metadata": {
        "id": "C9eHQSBxHct3"
      }
    },
    {
      "cell_type": "code",
      "source": [
        "def political_party(qids):\n",
        "  # qids are singletons contained inside an array\n",
        "  qid = qids[0]\n",
        "  party = \"None\"\n",
        "  # we create a special category for Trump and Hilary Clinton\n",
        "  if qid == \"Q22686\":\n",
        "    party = \"D.Trump\"\n",
        "  elif qid == \"Q6294\":\n",
        "    party = \"H.Clinton\"\n",
        "  else:\n",
        "    parties = dic.get(qid)\n",
        "    # if not found, returns None. Oterwise returns an array with the corresponding \n",
        "    # parties. If nothing found, party will remain \"Not found\"\n",
        "    if parties is not None:\n",
        "    # if the parties array contains republican party (Q29468) \n",
        "    # or democrats (Q29552) we take it. If it contains both,\n",
        "    # we output both. Having a big string instead of an array\n",
        "    # of strings seems to accelerate the proceidure \n",
        "      parties = \"|\".join(parties)\n",
        "      if \"Q29468\" in parties:\n",
        "        party = \"Republican\"\n",
        "        if \"Q29552\" in parties:\n",
        "          party = \"Both\"\n",
        "      elif \"Q29552\" in parties:\n",
        "        party = \"Democrats\"\n",
        "      else:\n",
        "        party = \"Other\"\n",
        "  return party"
      ],
      "metadata": {
        "id": "_FT6hbnEhO4K"
      },
      "execution_count": null,
      "outputs": []
    },
    {
      "cell_type": "code",
      "source": [
        "filtered_df3 = filtered_df2.rdd.map(lambda x : (political_party(x[\"qids\"]), x[\"urls\"])).toDF([\"party\", \"urls\"])"
      ],
      "metadata": {
        "id": "1A-2_QL7msrh"
      },
      "execution_count": null,
      "outputs": []
    },
    {
      "cell_type": "code",
      "source": [
        "filtered_df3.show()"
      ],
      "metadata": {
        "colab": {
          "base_uri": "https://localhost:8080/"
        },
        "id": "Q1AMcH0EwFRp",
        "outputId": "9fea9e60-0e59-41e3-b693-00e3d3210357"
      },
      "execution_count": null,
      "outputs": [
        {
          "output_type": "stream",
          "name": "stdout",
          "text": [
            "+----------+--------------------+\n",
            "|     party|                urls|\n",
            "+----------+--------------------+\n",
            "|Republican|[http://thehill.c...|\n",
            "| Democrats|[http://rss.cnn.c...|\n",
            "| Democrats|[http://news.vice...|\n",
            "|     Other|[http://www.breit...|\n",
            "|Republican|[https://www.life...|\n",
            "|      None|[http://nytimes.c...|\n",
            "|      None|[http://www.breit...|\n",
            "|   D.Trump|[http://rss.cnn.c...|\n",
            "|     Other|[http://nordic.bu...|\n",
            "| Democrats|[http://thehill.c...|\n",
            "|      None|[http://www.busin...|\n",
            "|Republican|[http://mobile.ny...|\n",
            "|      None|[https://www.vox....|\n",
            "|Republican|[https://www.wash...|\n",
            "|      None|[http://breitbart...|\n",
            "| Democrats|[http://feeds.fox...|\n",
            "|      None|[https://nypost.c...|\n",
            "|     Other|[http://www.breit...|\n",
            "| Democrats|[http://uk.busine...|\n",
            "|Republican|[http://feeds.fox...|\n",
            "+----------+--------------------+\n",
            "only showing top 20 rows\n",
            "\n"
          ]
        }
      ]
    },
    {
      "cell_type": "markdown",
      "source": [
        "We then \"explode\" the url column, to have one column per newsource link attached to a quotation. "
      ],
      "metadata": {
        "id": "hL-Aaq2owd1A"
      }
    },
    {
      "cell_type": "code",
      "source": [
        "from pyspark.sql.functions import explode"
      ],
      "metadata": {
        "id": "IxiLOGeR_5Qq"
      },
      "execution_count": null,
      "outputs": []
    },
    {
      "cell_type": "code",
      "source": [
        "filt_exp_df = filtered_df3.select(filtered_df3.party,explode(filtered_df3.urls))\n",
        "filt_exp_df.show()"
      ],
      "metadata": {
        "colab": {
          "base_uri": "https://localhost:8080/"
        },
        "id": "ZSB-CUkXGeDe",
        "outputId": "a8011218-e690-4167-a8a7-35f0e40b656c"
      },
      "execution_count": null,
      "outputs": [
        {
          "output_type": "stream",
          "name": "stdout",
          "text": [
            "+----------+--------------------+\n",
            "|     party|                 col|\n",
            "+----------+--------------------+\n",
            "|Republican|http://thehill.co...|\n",
            "| Democrats|http://rss.cnn.co...|\n",
            "| Democrats|http://rss.cnn.co...|\n",
            "| Democrats|https://hypervoca...|\n",
            "| Democrats|https://www.cnn.c...|\n",
            "| Democrats|http://www.abc57....|\n",
            "| Democrats|https://whdh.com/...|\n",
            "| Democrats|https://abc17news...|\n",
            "| Democrats|https://krdo.com/...|\n",
            "| Democrats|https://ktvz.com/...|\n",
            "| Democrats|https://keyt.com/...|\n",
            "| Democrats|https://southflor...|\n",
            "| Democrats|http://news.vice....|\n",
            "|     Other|http://www.breitb...|\n",
            "|     Other|https://www.ibtim...|\n",
            "|     Other|https://www.finan...|\n",
            "|     Other|http://www.courth...|\n",
            "|     Other|https://www.busin...|\n",
            "|Republican|https://www.lifez...|\n",
            "|Republican|https://www.washi...|\n",
            "+----------+--------------------+\n",
            "only showing top 20 rows\n",
            "\n"
          ]
        }
      ]
    },
    {
      "cell_type": "markdown",
      "source": [
        "Thanks to \"exploding\" the URLs like above, we will count a quote occurring in two different articles from the same news source twice. This means that our statistics are in effect based on the number of articles in which a quotation occurs, without us needing to take into account the `numOccurrences` column. (note that this column would also include counting for newsource that are out of our scope)\n",
        "\n",
        "We filter the file once again to keep only those news sources that are interesting for us. Note that if in theory this operation would be enough (i.e. the first similar filter is not required), we want to keep the explode operation above on as few columns as possible for runtime purposes. "
      ],
      "metadata": {
        "id": "LQLgNuf-xCI8"
      }
    },
    {
      "cell_type": "markdown",
      "source": [
        "\n",
        "## Aggregation phase\n"
      ],
      "metadata": {
        "id": "j2HnrHd75Qv1"
      }
    },
    {
      "cell_type": "markdown",
      "source": [
        "We will only keep quotations with URLs that have one of our selected domains as a substring. The optimal method would be to parse each URL and compare to our URL list. That is performed lower. At this stage it would be very computationally expensive to parse a high amount of URLs, where comparison is less costly. "
      ],
      "metadata": {
        "id": "lZ53X6Bz83tJ"
      }
    },
    {
      "cell_type": "code",
      "source": [
        "def filter_urls(url):\n",
        "  to_keep = False\n",
        "  for source in selected_domains:\n",
        "    if source in url:\n",
        "      to_keep = True \n",
        "  return to_keep"
      ],
      "metadata": {
        "id": "jdP0NElU0bPa"
      },
      "execution_count": null,
      "outputs": []
    },
    {
      "cell_type": "code",
      "source": [
        "filt_exp_df2 = filt_exp_df.rdd.filter(lambda x : filter_urls(x.col)).toDF()"
      ],
      "metadata": {
        "id": "JeRRdomuiVCz"
      },
      "execution_count": null,
      "outputs": []
    },
    {
      "cell_type": "code",
      "source": [
        "filt_exp_df3 = filt_exp_df2.rdd.map(lambda x : (x[\"party\"], get_fld(x[\"col\"]))).toDF([\"party\", \"source\"])"
      ],
      "metadata": {
        "id": "gbGLWPg39W6o"
      },
      "execution_count": null,
      "outputs": []
    },
    {
      "cell_type": "code",
      "source": [
        "filt_exp_df3.show()"
      ],
      "metadata": {
        "colab": {
          "base_uri": "https://localhost:8080/"
        },
        "id": "JEd5x6vI-LiD",
        "outputId": "a0eedd10-6c85-42fd-9cd0-d3c3497f410c"
      },
      "execution_count": null,
      "outputs": [
        {
          "output_type": "stream",
          "name": "stdout",
          "text": [
            "+----------+--------------------+\n",
            "|     party|              source|\n",
            "+----------+--------------------+\n",
            "|Republican|         thehill.com|\n",
            "| Democrats|             cnn.com|\n",
            "| Democrats|             cnn.com|\n",
            "| Democrats|             cnn.com|\n",
            "| Democrats|            vice.com|\n",
            "|     Other|       breitbart.com|\n",
            "|Republican|washingtonexamine...|\n",
            "|      None|         nytimes.com|\n",
            "|      None|       breitbart.com|\n",
            "|   D.Trump|             cnn.com|\n",
            "|   D.Trump|             cnn.com|\n",
            "|   D.Trump|             cnn.com|\n",
            "|     Other| businessinsider.com|\n",
            "| Democrats|         thehill.com|\n",
            "|      None| businessinsider.com|\n",
            "|Republican|         nytimes.com|\n",
            "|Republican|         nytimes.com|\n",
            "|      None|             vox.com|\n",
            "|Republican|washingtonexamine...|\n",
            "|      None|       breitbart.com|\n",
            "+----------+--------------------+\n",
            "only showing top 20 rows\n",
            "\n"
          ]
        }
      ]
    },
    {
      "cell_type": "markdown",
      "source": [
        "Here we count how many occurences we have for every pair of \"party\" and newsource. This request takes longer to execute, as some of the previous ones were evaluated in a lazy way. "
      ],
      "metadata": {
        "id": "5OolL2gBg5aU"
      }
    },
    {
      "cell_type": "code",
      "source": [
        "stats_pd_2020 = filt_exp_df3.groupBy([\"party\", \"source\"]).count().toPandas()"
      ],
      "metadata": {
        "id": "PGUSfN4_-OT2"
      },
      "execution_count": null,
      "outputs": []
    },
    {
      "cell_type": "code",
      "source": [
        "stats_pd_2020"
      ],
      "metadata": {
        "colab": {
          "base_uri": "https://localhost:8080/",
          "height": 424
        },
        "id": "VRtfp8eLExkC",
        "outputId": "6e03bc77-77e2-4c73-e66b-5fe940b8cfa8"
      },
      "execution_count": null,
      "outputs": [
        {
          "output_type": "execute_result",
          "data": {
            "text/html": [
              "<div>\n",
              "<style scoped>\n",
              "    .dataframe tbody tr th:only-of-type {\n",
              "        vertical-align: middle;\n",
              "    }\n",
              "\n",
              "    .dataframe tbody tr th {\n",
              "        vertical-align: top;\n",
              "    }\n",
              "\n",
              "    .dataframe thead th {\n",
              "        text-align: right;\n",
              "    }\n",
              "</style>\n",
              "<table border=\"1\" class=\"dataframe\">\n",
              "  <thead>\n",
              "    <tr style=\"text-align: right;\">\n",
              "      <th></th>\n",
              "      <th>party</th>\n",
              "      <th>source</th>\n",
              "      <th>count</th>\n",
              "    </tr>\n",
              "  </thead>\n",
              "  <tbody>\n",
              "    <tr>\n",
              "      <th>0</th>\n",
              "      <td>D.Trump</td>\n",
              "      <td>vice.com</td>\n",
              "      <td>382</td>\n",
              "    </tr>\n",
              "    <tr>\n",
              "      <th>1</th>\n",
              "      <td>Democrats</td>\n",
              "      <td>usatoday.com</td>\n",
              "      <td>24</td>\n",
              "    </tr>\n",
              "    <tr>\n",
              "      <th>2</th>\n",
              "      <td>Other</td>\n",
              "      <td>wsj.com</td>\n",
              "      <td>146</td>\n",
              "    </tr>\n",
              "    <tr>\n",
              "      <th>3</th>\n",
              "      <td>D.Trump</td>\n",
              "      <td>nbcnews.com</td>\n",
              "      <td>2034</td>\n",
              "    </tr>\n",
              "    <tr>\n",
              "      <th>4</th>\n",
              "      <td>Other</td>\n",
              "      <td>nbcnews.com</td>\n",
              "      <td>1244</td>\n",
              "    </tr>\n",
              "    <tr>\n",
              "      <th>...</th>\n",
              "      <td>...</td>\n",
              "      <td>...</td>\n",
              "      <td>...</td>\n",
              "    </tr>\n",
              "    <tr>\n",
              "      <th>147</th>\n",
              "      <td>Republican</td>\n",
              "      <td>keennewsservice.com</td>\n",
              "      <td>3</td>\n",
              "    </tr>\n",
              "    <tr>\n",
              "      <th>148</th>\n",
              "      <td>Democrats</td>\n",
              "      <td>huffingtonpost.com.au</td>\n",
              "      <td>1</td>\n",
              "    </tr>\n",
              "    <tr>\n",
              "      <th>149</th>\n",
              "      <td>Other</td>\n",
              "      <td>massdevice.com</td>\n",
              "      <td>3</td>\n",
              "    </tr>\n",
              "    <tr>\n",
              "      <th>150</th>\n",
              "      <td>Democrats</td>\n",
              "      <td>caradvice.com.au</td>\n",
              "      <td>1</td>\n",
              "    </tr>\n",
              "    <tr>\n",
              "      <th>151</th>\n",
              "      <td>Other</td>\n",
              "      <td>huffingtonpost.com</td>\n",
              "      <td>1</td>\n",
              "    </tr>\n",
              "  </tbody>\n",
              "</table>\n",
              "<p>152 rows × 3 columns</p>\n",
              "</div>"
            ],
            "text/plain": [
              "          party                 source  count\n",
              "0       D.Trump               vice.com    382\n",
              "1     Democrats           usatoday.com     24\n",
              "2         Other                wsj.com    146\n",
              "3       D.Trump            nbcnews.com   2034\n",
              "4         Other            nbcnews.com   1244\n",
              "..          ...                    ...    ...\n",
              "147  Republican    keennewsservice.com      3\n",
              "148   Democrats  huffingtonpost.com.au      1\n",
              "149       Other         massdevice.com      3\n",
              "150   Democrats       caradvice.com.au      1\n",
              "151       Other     huffingtonpost.com      1\n",
              "\n",
              "[152 rows x 3 columns]"
            ]
          },
          "metadata": {},
          "execution_count": 47
        }
      ]
    },
    {
      "cell_type": "markdown",
      "source": [
        "We filter again for undesired sources, using this time a real url parser, as the data is smaller. \n",
        "Note that some newsources have obvious mirror websites : huffingtonpost.com.au for example is an alias for huffingtonpost.com. Because some mirrors may be harder to detect (those that do not obviously contain the same url substring) and our task is based on comparison, we decided to remove them all for equity reasons. "
      ],
      "metadata": {
        "id": "K8ryKcPoIEbo"
      }
    },
    {
      "cell_type": "code",
      "source": [
        "stats_pd_2020 = stats_pd_2020[stats_pd_2020[\"source\"].isin(selected_domains)].sort_values(by = [\"source\", \"party\"])\n",
        "stats_pd_2020"
      ],
      "metadata": {
        "colab": {
          "base_uri": "https://localhost:8080/",
          "height": 424
        },
        "id": "-1bQae8nHjK_",
        "outputId": "1495aab7-c0cb-4f14-fb16-2054662f7bd7"
      },
      "execution_count": null,
      "outputs": [
        {
          "output_type": "execute_result",
          "data": {
            "text/html": [
              "<div>\n",
              "<style scoped>\n",
              "    .dataframe tbody tr th:only-of-type {\n",
              "        vertical-align: middle;\n",
              "    }\n",
              "\n",
              "    .dataframe tbody tr th {\n",
              "        vertical-align: top;\n",
              "    }\n",
              "\n",
              "    .dataframe thead th {\n",
              "        text-align: right;\n",
              "    }\n",
              "</style>\n",
              "<table border=\"1\" class=\"dataframe\">\n",
              "  <thead>\n",
              "    <tr style=\"text-align: right;\">\n",
              "      <th></th>\n",
              "      <th>party</th>\n",
              "      <th>source</th>\n",
              "      <th>count</th>\n",
              "    </tr>\n",
              "  </thead>\n",
              "  <tbody>\n",
              "    <tr>\n",
              "      <th>104</th>\n",
              "      <td>Both</td>\n",
              "      <td>abcnews.com</td>\n",
              "      <td>63</td>\n",
              "    </tr>\n",
              "    <tr>\n",
              "      <th>114</th>\n",
              "      <td>D.Trump</td>\n",
              "      <td>abcnews.com</td>\n",
              "      <td>495</td>\n",
              "    </tr>\n",
              "    <tr>\n",
              "      <th>43</th>\n",
              "      <td>Democrats</td>\n",
              "      <td>abcnews.com</td>\n",
              "      <td>1795</td>\n",
              "    </tr>\n",
              "    <tr>\n",
              "      <th>99</th>\n",
              "      <td>H.Clinton</td>\n",
              "      <td>abcnews.com</td>\n",
              "      <td>11</td>\n",
              "    </tr>\n",
              "    <tr>\n",
              "      <th>24</th>\n",
              "      <td>None</td>\n",
              "      <td>abcnews.com</td>\n",
              "      <td>1772</td>\n",
              "    </tr>\n",
              "    <tr>\n",
              "      <th>...</th>\n",
              "      <td>...</td>\n",
              "      <td>...</td>\n",
              "      <td>...</td>\n",
              "    </tr>\n",
              "    <tr>\n",
              "      <th>80</th>\n",
              "      <td>Democrats</td>\n",
              "      <td>wsj.com</td>\n",
              "      <td>294</td>\n",
              "    </tr>\n",
              "    <tr>\n",
              "      <th>143</th>\n",
              "      <td>H.Clinton</td>\n",
              "      <td>wsj.com</td>\n",
              "      <td>1</td>\n",
              "    </tr>\n",
              "    <tr>\n",
              "      <th>107</th>\n",
              "      <td>None</td>\n",
              "      <td>wsj.com</td>\n",
              "      <td>521</td>\n",
              "    </tr>\n",
              "    <tr>\n",
              "      <th>2</th>\n",
              "      <td>Other</td>\n",
              "      <td>wsj.com</td>\n",
              "      <td>146</td>\n",
              "    </tr>\n",
              "    <tr>\n",
              "      <th>123</th>\n",
              "      <td>Republican</td>\n",
              "      <td>wsj.com</td>\n",
              "      <td>116</td>\n",
              "    </tr>\n",
              "  </tbody>\n",
              "</table>\n",
              "<p>119 rows × 3 columns</p>\n",
              "</div>"
            ],
            "text/plain": [
              "          party       source  count\n",
              "104        Both  abcnews.com     63\n",
              "114     D.Trump  abcnews.com    495\n",
              "43    Democrats  abcnews.com   1795\n",
              "99    H.Clinton  abcnews.com     11\n",
              "24         None  abcnews.com   1772\n",
              "..          ...          ...    ...\n",
              "80    Democrats      wsj.com    294\n",
              "143   H.Clinton      wsj.com      1\n",
              "107        None      wsj.com    521\n",
              "2         Other      wsj.com    146\n",
              "123  Republican      wsj.com    116\n",
              "\n",
              "[119 rows x 3 columns]"
            ]
          },
          "metadata": {},
          "execution_count": 49
        }
      ]
    },
    {
      "cell_type": "markdown",
      "source": [
        "## Results"
      ],
      "metadata": {
        "id": "pwVFvSPmc_FU"
      }
    },
    {
      "cell_type": "markdown",
      "source": [
        "Remember the theory about Trump from above? (i.e. a lot of quotes are from him) Let's verify it. We'll also take a look at Hillary Clinton (remember this is 2020 data, the numbers will certainly be higher for 2015 and 2016). As a quick reminder, President Biden does not have his own class, because he never was part of Republicans. "
      ],
      "metadata": {
        "id": "-1t9_u0TTeBL"
      }
    },
    {
      "cell_type": "code",
      "source": [
        "both_count = stats_pd_2020[stats_pd_2020[\"party\"] == \"Both\"][\"count\"].sum()\n",
        "trump_count = stats_pd_2020[stats_pd_2020[\"party\"] == \"D.Trump\"][\"count\"].sum()\n",
        "hillary_count = stats_pd_2020[stats_pd_2020[\"party\"] == \"H.Clinton\"][\"count\"].sum()\n",
        "all_count = stats_pd_2020[\"count\"].sum()"
      ],
      "metadata": {
        "id": "XzBT1qQSFug1"
      },
      "execution_count": null,
      "outputs": []
    },
    {
      "cell_type": "code",
      "source": [
        "trump_ratio = trump_count/all_count\n",
        "\"Percentage of trump quotes over total 2020 set {0:.3%}\".format(trump_count/all_count)"
      ],
      "metadata": {
        "colab": {
          "base_uri": "https://localhost:8080/",
          "height": 36
        },
        "id": "QgAST4KeQK_p",
        "outputId": "7b49384f-2650-40aa-ccbc-91217bb6002c"
      },
      "execution_count": null,
      "outputs": [
        {
          "output_type": "execute_result",
          "data": {
            "application/vnd.google.colaboratory.intrinsic+json": {
              "type": "string"
            },
            "text/plain": [
              "'Percentage of trump quotes over total 2020 set 7.589%'"
            ]
          },
          "metadata": {},
          "execution_count": 148
        }
      ]
    },
    {
      "cell_type": "code",
      "source": [
        "both_ratio = trump_count/all_count\n",
        "\"Percentage of both (not Trump, not Hillary) quotes over total 2020 set {0:.3%}\".format(both_count/all_count)"
      ],
      "metadata": {
        "colab": {
          "base_uri": "https://localhost:8080/",
          "height": 36
        },
        "id": "m3YQiYC_RNpG",
        "outputId": "c3be9ce7-7bfa-41de-df39-4577e963af63"
      },
      "execution_count": null,
      "outputs": [
        {
          "output_type": "execute_result",
          "data": {
            "application/vnd.google.colaboratory.intrinsic+json": {
              "type": "string"
            },
            "text/plain": [
              "'Percentage of both (not trump, not hillary) quotes over total 2020 set 1.779%'"
            ]
          },
          "metadata": {},
          "execution_count": 149
        }
      ]
    },
    {
      "cell_type": "code",
      "source": [
        "\"Percentage of Trump among all people with two parties : {0:.3%}\".format(trump_count/(both_count+trump_count+hillary_count))"
      ],
      "metadata": {
        "colab": {
          "base_uri": "https://localhost:8080/",
          "height": 36
        },
        "id": "bDvIMaByR2iY",
        "outputId": "ab37abf4-a4bd-4a0d-8680-6abdd3073aa6"
      },
      "execution_count": null,
      "outputs": [
        {
          "output_type": "execute_result",
          "data": {
            "application/vnd.google.colaboratory.intrinsic+json": {
              "type": "string"
            },
            "text/plain": [
              "'Percentage of trump among all people with two parties : 78.526%'"
            ]
          },
          "metadata": {},
          "execution_count": 150
        }
      ]
    },
    {
      "cell_type": "code",
      "source": [
        "\"Percentage of Hillary among all people with two parties : {0:.3%}\".format(hillary_count/(both_count+hillary_count+hillary_count))"
      ],
      "metadata": {
        "colab": {
          "base_uri": "https://localhost:8080/",
          "height": 36
        },
        "id": "Kcw2powKbOjE",
        "outputId": "d22ce1e4-6160-4a84-c816-0e48b93fc02d"
      },
      "execution_count": null,
      "outputs": [
        {
          "output_type": "execute_result",
          "data": {
            "application/vnd.google.colaboratory.intrinsic+json": {
              "type": "string"
            },
            "text/plain": [
              "'Percentage of hillary among all people with two parties : 12.498%'"
            ]
          },
          "metadata": {},
          "execution_count": 151
        }
      ]
    },
    {
      "cell_type": "code",
      "source": [
        "PICKLE_PATH = \"/content/drive/MyDrive/ada_project/data/stats/stats_2020.pkl\"\n",
        "stats_pd_2020.to_pickle(PICKLE_PATH)"
      ],
      "metadata": {
        "id": "7afT0Bj5Gc_c"
      },
      "execution_count": null,
      "outputs": []
    },
    {
      "cell_type": "markdown",
      "source": [
        "## Run on all the sets\n",
        "Now we showed how our method works, we'll compute in a more straightforward way the results for the other years (2015 to 2019). \n",
        "Let's also add some benchmarking.\n",
        "\n",
        "NOTE : 2020 was already computed above."
      ],
      "metadata": {
        "id": "et3o0GANc34r"
      }
    },
    {
      "cell_type": "code",
      "source": [
        "START_YEAR = 2015\n",
        "END_YEAR = 2019\n",
        "\n",
        "# let's initialize some arrays to stock our benchmarking results\n",
        "time_start = [None for _ in range(END_YEAR-START_YEAR+1)]\n",
        "time_end = [None for _ in range(END_YEAR-START_YEAR+1)]"
      ],
      "metadata": {
        "id": "sjyYH6yRKAA6"
      },
      "execution_count": null,
      "outputs": []
    },
    {
      "cell_type": "code",
      "source": [
        "def compute_stats(open_path, output_path):\n",
        "  \"\"\"This function follows the same procedure as the one described above\n",
        "  on the 2020 dataset. It takes as input a pyspark dataframe and pickles a \n",
        "  pandas dataframe with the desired information (statistics about resources,\n",
        "  how many politicians speak in each of them and what party they are in).\"\"\"\n",
        "  # first we open the data in a spark dataframe \n",
        "  df = spark.read.load(open_path, format=\"json\")\n",
        "  # select only the columns we want \n",
        "  df_sel = df.select(\"qids\", \"urls\")\n",
        "  # we filter and convert qids in political parties \n",
        "  processed_df = df_sel.rdd.filter(lambda x : compute_similarity(x.urls)).filter(lambda x : single_qid(x.qids)).map(lambda x : (political_party(x[\"qids\"]), x[\"urls\"])).toDF([\"party\", \"urls\"])\n",
        "  # then we need to convert back to df to use \"explode\"\n",
        "  # we apply all the other filters on the rdd\n",
        "  expl_df = processed_df.select(processed_df.party,explode(processed_df.urls)).rdd.filter(lambda x : filter_urls(x.col)).map(lambda x : (x[\"party\"], get_fld(x[\"col\"]))).toDF([\"party\", \"source\"])\n",
        "  # then we extract the statistics, in a pandas df\n",
        "  stats = expl_df.groupBy([\"party\", \"source\"]).count().toPandas()\n",
        "  # finally we finish filtering the statistics\n",
        "  filtered_stats = stats[stats[\"source\"].isin(selected_domains)].sort_values(by = [\"source\", \"party\"])\n",
        "  # and we pickle the results\n",
        "  filtered_stats.to_pickle(output_path)"
      ],
      "metadata": {
        "id": "EMIEQkMziJl-"
      },
      "execution_count": null,
      "outputs": []
    },
    {
      "cell_type": "code",
      "source": [
        "# here we simply perform the operations described above on data from all years \n",
        "i = 0 # i is just used as an index for the benchmarking arrays \n",
        "for year in range(START_YEAR, END_YEAR+1):\n",
        "  print(\"Processing year {}\".format(year))\n",
        "  OPEN_PATH = \"/content/drive/MyDrive/ada_project/data/quotebank_cleaned/quotes-\"+str(year)+\"-shrank.json.bz2\"\n",
        "  OUTPUT_PATH = \"/content/drive/MyDrive/ada_project/data/stats/stats_\"+str(year)+\".pkl\"\n",
        "  time_start[i] = time.time()\n",
        "  compute_stats(OPEN_PATH, OUTPUT_PATH)\n",
        "  time_end[i] = time.time()\n",
        "  i+1"
      ],
      "metadata": {
        "colab": {
          "base_uri": "https://localhost:8080/"
        },
        "id": "yyFtGXdwgmn0",
        "outputId": "c9f1ada4-91d9-4285-e182-80105c56a262"
      },
      "execution_count": null,
      "outputs": [
        {
          "output_type": "stream",
          "name": "stdout",
          "text": [
            "Processing year 2015\n"
          ]
        }
      ]
    },
    {
      "cell_type": "code",
      "source": [
        "# and we perform some benchmarking, which we also sacve \n",
        "benchmark = time_start - time_end\n",
        "benchmark.pickle(\"/content/drive/MyDrive/Results/benchmark.pkl\")"
      ],
      "metadata": {
        "id": "oGCLAsEZm8F2"
      },
      "execution_count": null,
      "outputs": []
    },
    {
      "cell_type": "markdown",
      "source": [
        "# Calculations\n",
        "\n",
        "Now we need to actually calculate politicization and polarization."
      ],
      "metadata": {
        "id": "4Ucyh1VBuYp4"
      }
    },
    {
      "cell_type": "code",
      "source": [
        "DATA_FOLDER_PATH = '/content/drive/MyDrive/ada_project/data'\n",
        "STATS_FOLDER_PATH = DATA_FOLDER_PATH + '/stats'\n",
        "OUTPUT_FILE_PATH = STATS_FOLDER_PATH + '/computed_values.csv'"
      ],
      "metadata": {
        "id": "LU_lbHPKusaC"
      },
      "execution_count": 37,
      "outputs": []
    },
    {
      "cell_type": "code",
      "source": [
        "def load_yearly_stats_df(year):\n",
        "    \"\"\"\n",
        "    Load one year's statistic from the corresponding csv on the mounted drive.\n",
        "    :param year: The target year of analysis.\n",
        "    :return: Pandas dataframe containing party, news source free-level-domain, and quote count.\n",
        "    \"\"\"\n",
        "    return pd.read_pickle(f'{STATS_FOLDER_PATH}/stats_{str(year)}.pkl')\n",
        "\n",
        "def count_party(yearly_dataframe, filtering_list):\n",
        "    \"\"\"\n",
        "    Calculate number of quotes by parties/politicians listed in `filtering_list`\n",
        "    :param yearly_dataframe: Dataframe to extract data from\n",
        "    :param filtering_list: List of entities that must be counted in the analysis\n",
        "    :return: Pandas Series containing the number of quotes, indexed by news source\n",
        "    \"\"\"\n",
        "    filter_ = yearly_dataframe.party.isin(filtering_list)\n",
        "    return yearly_dataframe[filter_].groupby(by=['year', 'source'])['count'].sum()"
      ],
      "metadata": {
        "id": "16fXb8L-uiUp"
      },
      "execution_count": 38,
      "outputs": []
    },
    {
      "cell_type": "code",
      "source": [
        "time_scope = range(2015, 2021)\n",
        "all_years_df = [load_yearly_stats_df(year) for year in time_scope]"
      ],
      "metadata": {
        "id": "-jyS94z3uk8d"
      },
      "execution_count": 39,
      "outputs": []
    },
    {
      "cell_type": "code",
      "source": [
        "# This dataframe will collect information for all years, which will be appended \n",
        "# on each iteration of the following for loop.\n",
        "# Year and news source will be the two index columns, and for each tuple we will\n",
        "# store number of quotes, politicization rate and the two polarization rates\n",
        "df = pd.DataFrame()\n",
        "\n",
        "# Loop through dataframes of each year to extract statistics for each year\n",
        "for i, year in enumerate(time_scope):\n",
        "    # Dataframe containing quotation informations for a single year\n",
        "    single_year_df = all_years_df[i]\n",
        "\n",
        "    # The year column is added for indexing purposes\n",
        "    # Having all information divided by year will ease downstream handling of\n",
        "    # the data\n",
        "    single_year_df['year'] = str(year)\n",
        "    keys = ['year', 'source']\n",
        "    single_year_df = single_year_df.set_index(keys=keys, drop=True)\n",
        "    # The following dataframe is a df that will contain stats for the currently\n",
        "    # analyzed year, at the end of each iteration of the loop, the stats df\n",
        "    # will be appended to a larger 'global' dataframe\n",
        "    single_year_stats_df = pd.DataFrame()\n",
        "\n",
        "    # Count total quotes\n",
        "    num_total_quotes = single_year_df.groupby(by=keys)['count'].sum()\n",
        "    num_total_quotes = num_total_quotes.rename('total_num')\n",
        "    # Add the data to the yearly stats dataframe\n",
        "    single_year_stats_df = single_year_stats_df.append(pd.DataFrame(num_total_quotes))\n",
        "\n",
        "    # Drop non-political quotes count\n",
        "    single_year_df = single_year_df[single_year_df.party != 'None']\n",
        "\n",
        "    # Count political quotes\n",
        "    num_political_quotes = single_year_df.groupby(by=keys)['count'].sum()\n",
        "    # Add the data to the yearly stats dataframe\n",
        "    single_year_stats_df['politic_num'] = num_political_quotes\n",
        "\n",
        "    # Count democrat quotes\n",
        "    num_democrat_quotes = count_party(single_year_df, ['Democrats', 'H.Clinton'])\n",
        "    # Add the data to the yearly stats dataframe\n",
        "    single_year_stats_df['dem_num'] = num_democrat_quotes\n",
        "\n",
        "    # Count republican quotes\n",
        "    num_republican_quotes = count_party(single_year_df, ['Republican', 'D.Trump'])    \n",
        "    # Add the data to the yearly stats dataframe\n",
        "    single_year_stats_df['rep_num'] = num_republican_quotes\n",
        "\n",
        "    # Count Trump quotes\n",
        "    num_trump_quotes = count_party(single_year_df, ['D.Trump'])    \n",
        "    # Add the data to the yearly stats dataframe\n",
        "    single_year_stats_df['trump_num'] = num_trump_quotes\n",
        "\n",
        "    # Count Clinton quotes\n",
        "    num_clinton_quotes = count_party(single_year_df, ['H.Clinton'])    \n",
        "    # Add the data to the yearly stats dataframe\n",
        "    single_year_stats_df['clinton_num'] = num_clinton_quotes\n",
        "\n",
        "    # Compute politicization and polarization data\n",
        "    dem_polarization = num_democrat_quotes / num_political_quotes\n",
        "    rep_polarization = num_republican_quotes / num_political_quotes\n",
        "    single_year_stats_df['politicization'] = num_political_quotes / num_total_quotes\n",
        "    single_year_stats_df['trumpization'] = num_trump_quotes / num_total_quotes\n",
        "    single_year_stats_df['clintonization'] = num_clinton_quotes / num_total_quotes\n",
        "    single_year_stats_df['dem_polarization'] = dem_polarization\n",
        "    single_year_stats_df['rep_polarization'] = rep_polarization\n",
        "    single_year_stats_df['polarization_sgn'] = rep_polarization - dem_polarization\n",
        "    single_year_stats_df['polarization'] = np.abs(rep_polarization - dem_polarization)\n",
        "    df = df.append(single_year_stats_df)\n",
        "\n",
        "stats_df = df"
      ],
      "metadata": {
        "id": "pjnXiKamuvqL"
      },
      "execution_count": 40,
      "outputs": []
    },
    {
      "cell_type": "code",
      "source": [
        "# We will now add to stats_df stats for all years in total.\n",
        "# We first create a dataframe holding sum of the data for all years.\n",
        "total_stats_df = stats_df.loc['2015']\n",
        "total_stats_df = total_stats_df.add(stats_df.loc['2016'], fill_value=0)\n",
        "total_stats_df = total_stats_df.add(stats_df.loc['2017'], fill_value=0)\n",
        "total_stats_df = total_stats_df.add(stats_df.loc['2018'], fill_value=0)\n",
        "total_stats_df = total_stats_df.add(stats_df.loc['2019'], fill_value=0)\n",
        "total_stats_df = total_stats_df.add(stats_df.loc['2020'], fill_value=0)\n",
        "\n",
        "# We calculate statistics for it...\n",
        "num_total_quotes      = total_stats_df['total_num']\n",
        "num_political_quotes  = total_stats_df['politic_num']\n",
        "num_democrat_quotes   = total_stats_df['dem_num']\n",
        "num_republican_quotes = total_stats_df['rep_num']\n",
        "num_trump_quotes      = total_stats_df['trump_num']\n",
        "num_clinton_quotes    = total_stats_df['clinton_num']\n",
        "\n",
        "dem_polarization = num_democrat_quotes / num_political_quotes\n",
        "rep_polarization = num_republican_quotes / num_political_quotes\n",
        "total_stats_df['politicization'] = num_political_quotes / num_total_quotes\n",
        "total_stats_df['trumpization'] = num_trump_quotes / num_total_quotes\n",
        "total_stats_df['clintonization'] = num_clinton_quotes / num_total_quotes\n",
        "total_stats_df['dem_polarization'] = dem_polarization\n",
        "total_stats_df['rep_polarization'] = rep_polarization\n",
        "total_stats_df['polarization_sgn'] = rep_polarization - dem_polarization\n",
        "total_stats_df['polarization'] = np.abs(rep_polarization - dem_polarization)\n",
        "\n",
        "# We index it appropriately...\n",
        "total_stats_df['year'] = 'total'\n",
        "total_stats_df = total_stats_df.reset_index().set_index(keys=['year', 'source'], drop=True)\n",
        "\n",
        "# And we concatenate it with stats_df.\n",
        "stats_df = pd.concat([stats_df, total_stats_df])"
      ],
      "metadata": {
        "id": "GqautWbnu1v_"
      },
      "execution_count": 41,
      "outputs": []
    },
    {
      "cell_type": "code",
      "source": [
        "stats_df"
      ],
      "metadata": {
        "colab": {
          "base_uri": "https://localhost:8080/",
          "height": 498
        },
        "id": "pX9h3H0QwCm3",
        "outputId": "0650872a-cdfd-4b19-a568-6b2ff8ce183d"
      },
      "execution_count": 42,
      "outputs": [
        {
          "output_type": "execute_result",
          "data": {
            "text/html": [
              "\n",
              "  <div id=\"df-8174d76d-93c9-4ec2-9673-a2f882120969\">\n",
              "    <div class=\"colab-df-container\">\n",
              "      <div>\n",
              "<style scoped>\n",
              "    .dataframe tbody tr th:only-of-type {\n",
              "        vertical-align: middle;\n",
              "    }\n",
              "\n",
              "    .dataframe tbody tr th {\n",
              "        vertical-align: top;\n",
              "    }\n",
              "\n",
              "    .dataframe thead th {\n",
              "        text-align: right;\n",
              "    }\n",
              "</style>\n",
              "<table border=\"1\" class=\"dataframe\">\n",
              "  <thead>\n",
              "    <tr style=\"text-align: right;\">\n",
              "      <th></th>\n",
              "      <th></th>\n",
              "      <th>total_num</th>\n",
              "      <th>politic_num</th>\n",
              "      <th>dem_num</th>\n",
              "      <th>rep_num</th>\n",
              "      <th>trump_num</th>\n",
              "      <th>clinton_num</th>\n",
              "      <th>politicization</th>\n",
              "      <th>trumpization</th>\n",
              "      <th>clintonization</th>\n",
              "      <th>dem_polarization</th>\n",
              "      <th>rep_polarization</th>\n",
              "      <th>polarization_sgn</th>\n",
              "      <th>polarization</th>\n",
              "    </tr>\n",
              "    <tr>\n",
              "      <th>year</th>\n",
              "      <th>source</th>\n",
              "      <th></th>\n",
              "      <th></th>\n",
              "      <th></th>\n",
              "      <th></th>\n",
              "      <th></th>\n",
              "      <th></th>\n",
              "      <th></th>\n",
              "      <th></th>\n",
              "      <th></th>\n",
              "      <th></th>\n",
              "      <th></th>\n",
              "      <th></th>\n",
              "      <th></th>\n",
              "    </tr>\n",
              "  </thead>\n",
              "  <tbody>\n",
              "    <tr>\n",
              "      <th rowspan=\"5\" valign=\"top\">2015</th>\n",
              "      <th>abcnews.com</th>\n",
              "      <td>28623</td>\n",
              "      <td>10932</td>\n",
              "      <td>4364</td>\n",
              "      <td>3656.0</td>\n",
              "      <td>19.0</td>\n",
              "      <td>675.0</td>\n",
              "      <td>0.381931</td>\n",
              "      <td>0.000664</td>\n",
              "      <td>0.023582</td>\n",
              "      <td>0.399195</td>\n",
              "      <td>0.334431</td>\n",
              "      <td>-0.064764</td>\n",
              "      <td>0.064764</td>\n",
              "    </tr>\n",
              "    <tr>\n",
              "      <th>breitbart.com</th>\n",
              "      <td>50593</td>\n",
              "      <td>31204</td>\n",
              "      <td>9951</td>\n",
              "      <td>15319.0</td>\n",
              "      <td>385.0</td>\n",
              "      <td>1336.0</td>\n",
              "      <td>0.616765</td>\n",
              "      <td>0.007610</td>\n",
              "      <td>0.026407</td>\n",
              "      <td>0.318901</td>\n",
              "      <td>0.490931</td>\n",
              "      <td>0.172029</td>\n",
              "      <td>0.172029</td>\n",
              "    </tr>\n",
              "    <tr>\n",
              "      <th>businessinsider.com</th>\n",
              "      <td>43592</td>\n",
              "      <td>14878</td>\n",
              "      <td>5026</td>\n",
              "      <td>3606.0</td>\n",
              "      <td>158.0</td>\n",
              "      <td>531.0</td>\n",
              "      <td>0.341301</td>\n",
              "      <td>0.003625</td>\n",
              "      <td>0.012181</td>\n",
              "      <td>0.337814</td>\n",
              "      <td>0.242371</td>\n",
              "      <td>-0.095443</td>\n",
              "      <td>0.095443</td>\n",
              "    </tr>\n",
              "    <tr>\n",
              "      <th>cbsnews.com</th>\n",
              "      <td>87303</td>\n",
              "      <td>43268</td>\n",
              "      <td>17914</td>\n",
              "      <td>19058.0</td>\n",
              "      <td>215.0</td>\n",
              "      <td>3550.0</td>\n",
              "      <td>0.495607</td>\n",
              "      <td>0.002463</td>\n",
              "      <td>0.040663</td>\n",
              "      <td>0.414024</td>\n",
              "      <td>0.440464</td>\n",
              "      <td>0.026440</td>\n",
              "      <td>0.026440</td>\n",
              "    </tr>\n",
              "    <tr>\n",
              "      <th>cnn.com</th>\n",
              "      <td>99497</td>\n",
              "      <td>45846</td>\n",
              "      <td>18267</td>\n",
              "      <td>18292.0</td>\n",
              "      <td>237.0</td>\n",
              "      <td>3163.0</td>\n",
              "      <td>0.460778</td>\n",
              "      <td>0.002382</td>\n",
              "      <td>0.031790</td>\n",
              "      <td>0.398443</td>\n",
              "      <td>0.398988</td>\n",
              "      <td>0.000545</td>\n",
              "      <td>0.000545</td>\n",
              "    </tr>\n",
              "    <tr>\n",
              "      <th>...</th>\n",
              "      <th>...</th>\n",
              "      <td>...</td>\n",
              "      <td>...</td>\n",
              "      <td>...</td>\n",
              "      <td>...</td>\n",
              "      <td>...</td>\n",
              "      <td>...</td>\n",
              "      <td>...</td>\n",
              "      <td>...</td>\n",
              "      <td>...</td>\n",
              "      <td>...</td>\n",
              "      <td>...</td>\n",
              "      <td>...</td>\n",
              "      <td>...</td>\n",
              "    </tr>\n",
              "    <tr>\n",
              "      <th rowspan=\"5\" valign=\"top\">total</th>\n",
              "      <th>usatoday.com</th>\n",
              "      <td>343198</td>\n",
              "      <td>59542</td>\n",
              "      <td>24274</td>\n",
              "      <td>27437.0</td>\n",
              "      <td>6225.0</td>\n",
              "      <td>978.0</td>\n",
              "      <td>0.173492</td>\n",
              "      <td>0.018138</td>\n",
              "      <td>0.002850</td>\n",
              "      <td>0.407679</td>\n",
              "      <td>0.460801</td>\n",
              "      <td>0.053122</td>\n",
              "      <td>0.053122</td>\n",
              "    </tr>\n",
              "    <tr>\n",
              "      <th>vice.com</th>\n",
              "      <td>101762</td>\n",
              "      <td>32011</td>\n",
              "      <td>8982</td>\n",
              "      <td>11891.0</td>\n",
              "      <td>4363.0</td>\n",
              "      <td>370.0</td>\n",
              "      <td>0.314567</td>\n",
              "      <td>0.042875</td>\n",
              "      <td>0.003636</td>\n",
              "      <td>0.280591</td>\n",
              "      <td>0.371466</td>\n",
              "      <td>0.090875</td>\n",
              "      <td>0.090875</td>\n",
              "    </tr>\n",
              "    <tr>\n",
              "      <th>vox.com</th>\n",
              "      <td>53618</td>\n",
              "      <td>29560</td>\n",
              "      <td>11453</td>\n",
              "      <td>15248.0</td>\n",
              "      <td>5557.0</td>\n",
              "      <td>508.0</td>\n",
              "      <td>0.551307</td>\n",
              "      <td>0.103641</td>\n",
              "      <td>0.009474</td>\n",
              "      <td>0.387449</td>\n",
              "      <td>0.515832</td>\n",
              "      <td>0.128383</td>\n",
              "      <td>0.128383</td>\n",
              "    </tr>\n",
              "    <tr>\n",
              "      <th>washingtonexaminer.com</th>\n",
              "      <td>291407</td>\n",
              "      <td>232554</td>\n",
              "      <td>85292</td>\n",
              "      <td>129781.0</td>\n",
              "      <td>25242.0</td>\n",
              "      <td>7812.0</td>\n",
              "      <td>0.798038</td>\n",
              "      <td>0.086621</td>\n",
              "      <td>0.026808</td>\n",
              "      <td>0.366762</td>\n",
              "      <td>0.558068</td>\n",
              "      <td>0.191306</td>\n",
              "      <td>0.191306</td>\n",
              "    </tr>\n",
              "    <tr>\n",
              "      <th>wsj.com</th>\n",
              "      <td>72824</td>\n",
              "      <td>24744</td>\n",
              "      <td>10269</td>\n",
              "      <td>8663.0</td>\n",
              "      <td>810.0</td>\n",
              "      <td>972.0</td>\n",
              "      <td>0.339778</td>\n",
              "      <td>0.011123</td>\n",
              "      <td>0.013347</td>\n",
              "      <td>0.415010</td>\n",
              "      <td>0.350105</td>\n",
              "      <td>-0.064905</td>\n",
              "      <td>0.064905</td>\n",
              "    </tr>\n",
              "  </tbody>\n",
              "</table>\n",
              "<p>126 rows × 13 columns</p>\n",
              "</div>\n",
              "      <button class=\"colab-df-convert\" onclick=\"convertToInteractive('df-8174d76d-93c9-4ec2-9673-a2f882120969')\"\n",
              "              title=\"Convert this dataframe to an interactive table.\"\n",
              "              style=\"display:none;\">\n",
              "        \n",
              "  <svg xmlns=\"http://www.w3.org/2000/svg\" height=\"24px\"viewBox=\"0 0 24 24\"\n",
              "       width=\"24px\">\n",
              "    <path d=\"M0 0h24v24H0V0z\" fill=\"none\"/>\n",
              "    <path d=\"M18.56 5.44l.94 2.06.94-2.06 2.06-.94-2.06-.94-.94-2.06-.94 2.06-2.06.94zm-11 1L8.5 8.5l.94-2.06 2.06-.94-2.06-.94L8.5 2.5l-.94 2.06-2.06.94zm10 10l.94 2.06.94-2.06 2.06-.94-2.06-.94-.94-2.06-.94 2.06-2.06.94z\"/><path d=\"M17.41 7.96l-1.37-1.37c-.4-.4-.92-.59-1.43-.59-.52 0-1.04.2-1.43.59L10.3 9.45l-7.72 7.72c-.78.78-.78 2.05 0 2.83L4 21.41c.39.39.9.59 1.41.59.51 0 1.02-.2 1.41-.59l7.78-7.78 2.81-2.81c.8-.78.8-2.07 0-2.86zM5.41 20L4 18.59l7.72-7.72 1.47 1.35L5.41 20z\"/>\n",
              "  </svg>\n",
              "      </button>\n",
              "      \n",
              "  <style>\n",
              "    .colab-df-container {\n",
              "      display:flex;\n",
              "      flex-wrap:wrap;\n",
              "      gap: 12px;\n",
              "    }\n",
              "\n",
              "    .colab-df-convert {\n",
              "      background-color: #E8F0FE;\n",
              "      border: none;\n",
              "      border-radius: 50%;\n",
              "      cursor: pointer;\n",
              "      display: none;\n",
              "      fill: #1967D2;\n",
              "      height: 32px;\n",
              "      padding: 0 0 0 0;\n",
              "      width: 32px;\n",
              "    }\n",
              "\n",
              "    .colab-df-convert:hover {\n",
              "      background-color: #E2EBFA;\n",
              "      box-shadow: 0px 1px 2px rgba(60, 64, 67, 0.3), 0px 1px 3px 1px rgba(60, 64, 67, 0.15);\n",
              "      fill: #174EA6;\n",
              "    }\n",
              "\n",
              "    [theme=dark] .colab-df-convert {\n",
              "      background-color: #3B4455;\n",
              "      fill: #D2E3FC;\n",
              "    }\n",
              "\n",
              "    [theme=dark] .colab-df-convert:hover {\n",
              "      background-color: #434B5C;\n",
              "      box-shadow: 0px 1px 3px 1px rgba(0, 0, 0, 0.15);\n",
              "      filter: drop-shadow(0px 1px 2px rgba(0, 0, 0, 0.3));\n",
              "      fill: #FFFFFF;\n",
              "    }\n",
              "  </style>\n",
              "\n",
              "      <script>\n",
              "        const buttonEl =\n",
              "          document.querySelector('#df-8174d76d-93c9-4ec2-9673-a2f882120969 button.colab-df-convert');\n",
              "        buttonEl.style.display =\n",
              "          google.colab.kernel.accessAllowed ? 'block' : 'none';\n",
              "\n",
              "        async function convertToInteractive(key) {\n",
              "          const element = document.querySelector('#df-8174d76d-93c9-4ec2-9673-a2f882120969');\n",
              "          const dataTable =\n",
              "            await google.colab.kernel.invokeFunction('convertToInteractive',\n",
              "                                                     [key], {});\n",
              "          if (!dataTable) return;\n",
              "\n",
              "          const docLinkHtml = 'Like what you see? Visit the ' +\n",
              "            '<a target=\"_blank\" href=https://colab.research.google.com/notebooks/data_table.ipynb>data table notebook</a>'\n",
              "            + ' to learn more about interactive tables.';\n",
              "          element.innerHTML = '';\n",
              "          dataTable['output_type'] = 'display_data';\n",
              "          await google.colab.output.renderOutput(dataTable, element);\n",
              "          const docLink = document.createElement('div');\n",
              "          docLink.innerHTML = docLinkHtml;\n",
              "          element.appendChild(docLink);\n",
              "        }\n",
              "      </script>\n",
              "    </div>\n",
              "  </div>\n",
              "  "
            ],
            "text/plain": [
              "                              total_num  ...  polarization\n",
              "year  source                             ...              \n",
              "2015  abcnews.com                 28623  ...      0.064764\n",
              "      breitbart.com               50593  ...      0.172029\n",
              "      businessinsider.com         43592  ...      0.095443\n",
              "      cbsnews.com                 87303  ...      0.026440\n",
              "      cnn.com                     99497  ...      0.000545\n",
              "...                                 ...  ...           ...\n",
              "total usatoday.com               343198  ...      0.053122\n",
              "      vice.com                   101762  ...      0.090875\n",
              "      vox.com                     53618  ...      0.128383\n",
              "      washingtonexaminer.com     291407  ...      0.191306\n",
              "      wsj.com                     72824  ...      0.064905\n",
              "\n",
              "[126 rows x 13 columns]"
            ]
          },
          "metadata": {},
          "execution_count": 42
        }
      ]
    },
    {
      "cell_type": "markdown",
      "source": [
        "# Visualizations"
      ],
      "metadata": {
        "id": "USIF18ku-uwJ"
      }
    },
    {
      "cell_type": "code",
      "source": [
        "!pip install -U plotly"
      ],
      "metadata": {
        "colab": {
          "base_uri": "https://localhost:8080/"
        },
        "id": "KKYeHUEW_j9q",
        "outputId": "bc597f1a-469f-49d7-cf13-548d3e189e48"
      },
      "execution_count": 43,
      "outputs": [
        {
          "output_type": "stream",
          "name": "stdout",
          "text": [
            "Requirement already satisfied: plotly in /usr/local/lib/python3.7/dist-packages (4.4.1)\n",
            "Collecting plotly\n",
            "  Downloading plotly-5.4.0-py2.py3-none-any.whl (25.3 MB)\n",
            "\u001b[K     |████████████████████████████████| 25.3 MB 71.2 MB/s \n",
            "\u001b[?25hRequirement already satisfied: six in /usr/local/lib/python3.7/dist-packages (from plotly) (1.15.0)\n",
            "Collecting tenacity>=6.2.0\n",
            "  Downloading tenacity-8.0.1-py3-none-any.whl (24 kB)\n",
            "Installing collected packages: tenacity, plotly\n",
            "  Attempting uninstall: plotly\n",
            "    Found existing installation: plotly 4.4.1\n",
            "    Uninstalling plotly-4.4.1:\n",
            "      Successfully uninstalled plotly-4.4.1\n",
            "Successfully installed plotly-5.4.0 tenacity-8.0.1\n"
          ]
        }
      ]
    },
    {
      "cell_type": "code",
      "source": [
        "import plotly.express as px"
      ],
      "metadata": {
        "id": "x55UUUR10QyS"
      },
      "execution_count": 44,
      "outputs": []
    },
    {
      "cell_type": "code",
      "source": [
        "def save_plotly_fig(fig, filename):\n",
        "    fig.write_html(f'/content/drive/MyDrive/ada_project/plots/{filename}', include_plotlyjs='cdn', full_html=False)"
      ],
      "metadata": {
        "id": "c0pCarQzi7rB"
      },
      "execution_count": 45,
      "outputs": []
    },
    {
      "cell_type": "markdown",
      "source": [
        "## Intro\n",
        "\n",
        "We start with some slightly complicated plots that show the data from the Pew research center. We plot Web visitors and Twitter followers on two different plots, since the first plot shows total visitors and Twitter followers are necessarily unique. We use colour to show if a news source is read more by the left or the right, and we use patterns to show if the news source is actually distrusted by the left or the right.\n",
        "\n",
        "Please take the time to note that one news source is distrusted by both sides of the spectrum!\n",
        "\n",
        "Of course, more detailed analysis about each graph can be found [on our website](https://giacomoorsi.github.io/usa-news-politicization/). "
      ],
      "metadata": {
        "id": "F1MS3o7C-xxY"
      }
    },
    {
      "cell_type": "code",
      "source": [
        "news_sources = pd.read_csv(NEWS_SOURCES_FILE_PATH, sep = \";\")"
      ],
      "metadata": {
        "id": "k249MiO5-4cu"
      },
      "execution_count": 46,
      "outputs": []
    },
    {
      "cell_type": "code",
      "source": [
        "fig = px.bar(news_sources, x='domain', y='similarweb_total_visitors', \n",
        "             color='pew_classification',\n",
        "             pattern_shape='pew_distrusted_by', pattern_shape_sequence=['/', '\\\\', '', 'x'],\n",
        "             labels={\n",
        "                 'similarweb_total_visitors': 'Web visitors (millions)',\n",
        "                 'domain' : 'Sources',\n",
        "                 'pew_classification': 'Read by',\n",
        "                 'pew_distrusted_by': 'Distrusted by',\n",
        "             })\n",
        "fig.show()"
      ],
      "metadata": {
        "colab": {
          "base_uri": "https://localhost:8080/",
          "height": 542
        },
        "id": "SGmqADCg_MTx",
        "outputId": "bab898cd-41a8-4235-96a7-1ceae9908369"
      },
      "execution_count": 47,
      "outputs": [
        {
          "output_type": "display_data",
          "data": {
            "text/html": [
              "<html>\n",
              "<head><meta charset=\"utf-8\" /></head>\n",
              "<body>\n",
              "    <div>            <script src=\"https://cdnjs.cloudflare.com/ajax/libs/mathjax/2.7.5/MathJax.js?config=TeX-AMS-MML_SVG\"></script><script type=\"text/javascript\">if (window.MathJax) {MathJax.Hub.Config({SVG: {font: \"STIX-Web\"}});}</script>                <script type=\"text/javascript\">window.PlotlyConfig = {MathJaxConfig: 'local'};</script>\n",
              "        <script src=\"https://cdn.plot.ly/plotly-2.6.3.min.js\"></script>                <div id=\"1940474c-de50-465a-88af-ef85dfaeb9e4\" class=\"plotly-graph-div\" style=\"height:525px; width:100%;\"></div>            <script type=\"text/javascript\">                                    window.PLOTLYENV=window.PLOTLYENV || {};                                    if (document.getElementById(\"1940474c-de50-465a-88af-ef85dfaeb9e4\")) {                    Plotly.newPlot(                        \"1940474c-de50-465a-88af-ef85dfaeb9e4\",                        [{\"alignmentgroup\":\"True\",\"hovertemplate\":\"Read by=left<br>Distrusted by=right<br>Sources=%{x}<br>Web visitors (millions)=%{y}<extra></extra>\",\"legendgroup\":\"left, right\",\"marker\":{\"color\":\"#636efa\",\"pattern\":{\"shape\":\"/\"}},\"name\":\"left, right\",\"offsetgroup\":\"left, right\",\"orientation\":\"v\",\"showlegend\":true,\"textposition\":\"auto\",\"x\":[\"cnn.com\",\"nytimes.com\",\"huffingtonpost.com\",\"politico.com\",\"vice.com\",\"vox.com\"],\"xaxis\":\"x\",\"y\":[500.58,312.21,62.77,41.99,27.89,20.75],\"yaxis\":\"y\",\"type\":\"bar\"},{\"alignmentgroup\":\"True\",\"hovertemplate\":\"Read by=left<br>Distrusted by=none<br>Sources=%{x}<br>Web visitors (millions)=%{y}<extra></extra>\",\"legendgroup\":\"left, none\",\"marker\":{\"color\":\"#636efa\",\"pattern\":{\"shape\":\"\"}},\"name\":\"left, none\",\"offsetgroup\":\"left, none\",\"orientation\":\"v\",\"showlegend\":true,\"textposition\":\"auto\",\"x\":[\"businessinsider.com\",\"thehill.com\"],\"xaxis\":\"x\",\"y\":[97.47,42.07],\"yaxis\":\"y\",\"type\":\"bar\"},{\"alignmentgroup\":\"True\",\"hovertemplate\":\"Read by=right<br>Distrusted by=left<br>Sources=%{x}<br>Web visitors (millions)=%{y}<extra></extra>\",\"legendgroup\":\"right, left\",\"marker\":{\"color\":\"#EF553B\",\"pattern\":{\"shape\":\"\\\\\"}},\"name\":\"right, left\",\"offsetgroup\":\"right, left\",\"orientation\":\"v\",\"showlegend\":true,\"textposition\":\"auto\",\"x\":[\"foxnews.com\",\"breitbart.com\",\"dailycaller.com\"],\"xaxis\":\"x\",\"y\":[277.72,47.5,7.86],\"yaxis\":\"y\",\"type\":\"bar\"},{\"alignmentgroup\":\"True\",\"hovertemplate\":\"Read by=right<br>Distrusted by=both<br>Sources=%{x}<br>Web visitors (millions)=%{y}<extra></extra>\",\"legendgroup\":\"right, both\",\"marker\":{\"color\":\"#EF553B\",\"pattern\":{\"shape\":\"x\"}},\"name\":\"right, both\",\"offsetgroup\":\"right, both\",\"orientation\":\"v\",\"showlegend\":true,\"textposition\":\"auto\",\"x\":[\"washingtonexaminer.com\"],\"xaxis\":\"x\",\"y\":[13.32],\"yaxis\":\"y\",\"type\":\"bar\"},{\"alignmentgroup\":\"True\",\"hovertemplate\":\"Read by=mixed<br>Distrusted by=right<br>Sources=%{x}<br>Web visitors (millions)=%{y}<extra></extra>\",\"legendgroup\":\"mixed, right\",\"marker\":{\"color\":\"#00cc96\",\"pattern\":{\"shape\":\"/\"}},\"name\":\"mixed, right\",\"offsetgroup\":\"mixed, right\",\"orientation\":\"v\",\"showlegend\":true,\"textposition\":\"auto\",\"x\":[\"nypost.com\",\"usatoday.com\",\"nbcnews.com\",\"abcnews.com\",\"cbsnews.com\"],\"xaxis\":\"x\",\"y\":[109.06,100.06,66.9,31.81,30.38],\"yaxis\":\"y\",\"type\":\"bar\"},{\"alignmentgroup\":\"True\",\"hovertemplate\":\"Read by=mixed<br>Distrusted by=none<br>Sources=%{x}<br>Web visitors (millions)=%{y}<extra></extra>\",\"legendgroup\":\"mixed, none\",\"marker\":{\"color\":\"#00cc96\",\"pattern\":{\"shape\":\"\"}},\"name\":\"mixed, none\",\"offsetgroup\":\"mixed, none\",\"orientation\":\"v\",\"showlegend\":true,\"textposition\":\"auto\",\"x\":[\"wsj.com\"],\"xaxis\":\"x\",\"y\":[73.11],\"yaxis\":\"y\",\"type\":\"bar\"}],                        {\"template\":{\"data\":{\"bar\":[{\"error_x\":{\"color\":\"#2a3f5f\"},\"error_y\":{\"color\":\"#2a3f5f\"},\"marker\":{\"line\":{\"color\":\"#E5ECF6\",\"width\":0.5},\"pattern\":{\"fillmode\":\"overlay\",\"size\":10,\"solidity\":0.2}},\"type\":\"bar\"}],\"barpolar\":[{\"marker\":{\"line\":{\"color\":\"#E5ECF6\",\"width\":0.5},\"pattern\":{\"fillmode\":\"overlay\",\"size\":10,\"solidity\":0.2}},\"type\":\"barpolar\"}],\"carpet\":[{\"aaxis\":{\"endlinecolor\":\"#2a3f5f\",\"gridcolor\":\"white\",\"linecolor\":\"white\",\"minorgridcolor\":\"white\",\"startlinecolor\":\"#2a3f5f\"},\"baxis\":{\"endlinecolor\":\"#2a3f5f\",\"gridcolor\":\"white\",\"linecolor\":\"white\",\"minorgridcolor\":\"white\",\"startlinecolor\":\"#2a3f5f\"},\"type\":\"carpet\"}],\"choropleth\":[{\"colorbar\":{\"outlinewidth\":0,\"ticks\":\"\"},\"type\":\"choropleth\"}],\"contour\":[{\"colorbar\":{\"outlinewidth\":0,\"ticks\":\"\"},\"colorscale\":[[0.0,\"#0d0887\"],[0.1111111111111111,\"#46039f\"],[0.2222222222222222,\"#7201a8\"],[0.3333333333333333,\"#9c179e\"],[0.4444444444444444,\"#bd3786\"],[0.5555555555555556,\"#d8576b\"],[0.6666666666666666,\"#ed7953\"],[0.7777777777777778,\"#fb9f3a\"],[0.8888888888888888,\"#fdca26\"],[1.0,\"#f0f921\"]],\"type\":\"contour\"}],\"contourcarpet\":[{\"colorbar\":{\"outlinewidth\":0,\"ticks\":\"\"},\"type\":\"contourcarpet\"}],\"heatmap\":[{\"colorbar\":{\"outlinewidth\":0,\"ticks\":\"\"},\"colorscale\":[[0.0,\"#0d0887\"],[0.1111111111111111,\"#46039f\"],[0.2222222222222222,\"#7201a8\"],[0.3333333333333333,\"#9c179e\"],[0.4444444444444444,\"#bd3786\"],[0.5555555555555556,\"#d8576b\"],[0.6666666666666666,\"#ed7953\"],[0.7777777777777778,\"#fb9f3a\"],[0.8888888888888888,\"#fdca26\"],[1.0,\"#f0f921\"]],\"type\":\"heatmap\"}],\"heatmapgl\":[{\"colorbar\":{\"outlinewidth\":0,\"ticks\":\"\"},\"colorscale\":[[0.0,\"#0d0887\"],[0.1111111111111111,\"#46039f\"],[0.2222222222222222,\"#7201a8\"],[0.3333333333333333,\"#9c179e\"],[0.4444444444444444,\"#bd3786\"],[0.5555555555555556,\"#d8576b\"],[0.6666666666666666,\"#ed7953\"],[0.7777777777777778,\"#fb9f3a\"],[0.8888888888888888,\"#fdca26\"],[1.0,\"#f0f921\"]],\"type\":\"heatmapgl\"}],\"histogram\":[{\"marker\":{\"pattern\":{\"fillmode\":\"overlay\",\"size\":10,\"solidity\":0.2}},\"type\":\"histogram\"}],\"histogram2d\":[{\"colorbar\":{\"outlinewidth\":0,\"ticks\":\"\"},\"colorscale\":[[0.0,\"#0d0887\"],[0.1111111111111111,\"#46039f\"],[0.2222222222222222,\"#7201a8\"],[0.3333333333333333,\"#9c179e\"],[0.4444444444444444,\"#bd3786\"],[0.5555555555555556,\"#d8576b\"],[0.6666666666666666,\"#ed7953\"],[0.7777777777777778,\"#fb9f3a\"],[0.8888888888888888,\"#fdca26\"],[1.0,\"#f0f921\"]],\"type\":\"histogram2d\"}],\"histogram2dcontour\":[{\"colorbar\":{\"outlinewidth\":0,\"ticks\":\"\"},\"colorscale\":[[0.0,\"#0d0887\"],[0.1111111111111111,\"#46039f\"],[0.2222222222222222,\"#7201a8\"],[0.3333333333333333,\"#9c179e\"],[0.4444444444444444,\"#bd3786\"],[0.5555555555555556,\"#d8576b\"],[0.6666666666666666,\"#ed7953\"],[0.7777777777777778,\"#fb9f3a\"],[0.8888888888888888,\"#fdca26\"],[1.0,\"#f0f921\"]],\"type\":\"histogram2dcontour\"}],\"mesh3d\":[{\"colorbar\":{\"outlinewidth\":0,\"ticks\":\"\"},\"type\":\"mesh3d\"}],\"parcoords\":[{\"line\":{\"colorbar\":{\"outlinewidth\":0,\"ticks\":\"\"}},\"type\":\"parcoords\"}],\"pie\":[{\"automargin\":true,\"type\":\"pie\"}],\"scatter\":[{\"marker\":{\"colorbar\":{\"outlinewidth\":0,\"ticks\":\"\"}},\"type\":\"scatter\"}],\"scatter3d\":[{\"line\":{\"colorbar\":{\"outlinewidth\":0,\"ticks\":\"\"}},\"marker\":{\"colorbar\":{\"outlinewidth\":0,\"ticks\":\"\"}},\"type\":\"scatter3d\"}],\"scattercarpet\":[{\"marker\":{\"colorbar\":{\"outlinewidth\":0,\"ticks\":\"\"}},\"type\":\"scattercarpet\"}],\"scattergeo\":[{\"marker\":{\"colorbar\":{\"outlinewidth\":0,\"ticks\":\"\"}},\"type\":\"scattergeo\"}],\"scattergl\":[{\"marker\":{\"colorbar\":{\"outlinewidth\":0,\"ticks\":\"\"}},\"type\":\"scattergl\"}],\"scattermapbox\":[{\"marker\":{\"colorbar\":{\"outlinewidth\":0,\"ticks\":\"\"}},\"type\":\"scattermapbox\"}],\"scatterpolar\":[{\"marker\":{\"colorbar\":{\"outlinewidth\":0,\"ticks\":\"\"}},\"type\":\"scatterpolar\"}],\"scatterpolargl\":[{\"marker\":{\"colorbar\":{\"outlinewidth\":0,\"ticks\":\"\"}},\"type\":\"scatterpolargl\"}],\"scatterternary\":[{\"marker\":{\"colorbar\":{\"outlinewidth\":0,\"ticks\":\"\"}},\"type\":\"scatterternary\"}],\"surface\":[{\"colorbar\":{\"outlinewidth\":0,\"ticks\":\"\"},\"colorscale\":[[0.0,\"#0d0887\"],[0.1111111111111111,\"#46039f\"],[0.2222222222222222,\"#7201a8\"],[0.3333333333333333,\"#9c179e\"],[0.4444444444444444,\"#bd3786\"],[0.5555555555555556,\"#d8576b\"],[0.6666666666666666,\"#ed7953\"],[0.7777777777777778,\"#fb9f3a\"],[0.8888888888888888,\"#fdca26\"],[1.0,\"#f0f921\"]],\"type\":\"surface\"}],\"table\":[{\"cells\":{\"fill\":{\"color\":\"#EBF0F8\"},\"line\":{\"color\":\"white\"}},\"header\":{\"fill\":{\"color\":\"#C8D4E3\"},\"line\":{\"color\":\"white\"}},\"type\":\"table\"}]},\"layout\":{\"annotationdefaults\":{\"arrowcolor\":\"#2a3f5f\",\"arrowhead\":0,\"arrowwidth\":1},\"autotypenumbers\":\"strict\",\"coloraxis\":{\"colorbar\":{\"outlinewidth\":0,\"ticks\":\"\"}},\"colorscale\":{\"diverging\":[[0,\"#8e0152\"],[0.1,\"#c51b7d\"],[0.2,\"#de77ae\"],[0.3,\"#f1b6da\"],[0.4,\"#fde0ef\"],[0.5,\"#f7f7f7\"],[0.6,\"#e6f5d0\"],[0.7,\"#b8e186\"],[0.8,\"#7fbc41\"],[0.9,\"#4d9221\"],[1,\"#276419\"]],\"sequential\":[[0.0,\"#0d0887\"],[0.1111111111111111,\"#46039f\"],[0.2222222222222222,\"#7201a8\"],[0.3333333333333333,\"#9c179e\"],[0.4444444444444444,\"#bd3786\"],[0.5555555555555556,\"#d8576b\"],[0.6666666666666666,\"#ed7953\"],[0.7777777777777778,\"#fb9f3a\"],[0.8888888888888888,\"#fdca26\"],[1.0,\"#f0f921\"]],\"sequentialminus\":[[0.0,\"#0d0887\"],[0.1111111111111111,\"#46039f\"],[0.2222222222222222,\"#7201a8\"],[0.3333333333333333,\"#9c179e\"],[0.4444444444444444,\"#bd3786\"],[0.5555555555555556,\"#d8576b\"],[0.6666666666666666,\"#ed7953\"],[0.7777777777777778,\"#fb9f3a\"],[0.8888888888888888,\"#fdca26\"],[1.0,\"#f0f921\"]]},\"colorway\":[\"#636efa\",\"#EF553B\",\"#00cc96\",\"#ab63fa\",\"#FFA15A\",\"#19d3f3\",\"#FF6692\",\"#B6E880\",\"#FF97FF\",\"#FECB52\"],\"font\":{\"color\":\"#2a3f5f\"},\"geo\":{\"bgcolor\":\"white\",\"lakecolor\":\"white\",\"landcolor\":\"#E5ECF6\",\"showlakes\":true,\"showland\":true,\"subunitcolor\":\"white\"},\"hoverlabel\":{\"align\":\"left\"},\"hovermode\":\"closest\",\"mapbox\":{\"style\":\"light\"},\"paper_bgcolor\":\"white\",\"plot_bgcolor\":\"#E5ECF6\",\"polar\":{\"angularaxis\":{\"gridcolor\":\"white\",\"linecolor\":\"white\",\"ticks\":\"\"},\"bgcolor\":\"#E5ECF6\",\"radialaxis\":{\"gridcolor\":\"white\",\"linecolor\":\"white\",\"ticks\":\"\"}},\"scene\":{\"xaxis\":{\"backgroundcolor\":\"#E5ECF6\",\"gridcolor\":\"white\",\"gridwidth\":2,\"linecolor\":\"white\",\"showbackground\":true,\"ticks\":\"\",\"zerolinecolor\":\"white\"},\"yaxis\":{\"backgroundcolor\":\"#E5ECF6\",\"gridcolor\":\"white\",\"gridwidth\":2,\"linecolor\":\"white\",\"showbackground\":true,\"ticks\":\"\",\"zerolinecolor\":\"white\"},\"zaxis\":{\"backgroundcolor\":\"#E5ECF6\",\"gridcolor\":\"white\",\"gridwidth\":2,\"linecolor\":\"white\",\"showbackground\":true,\"ticks\":\"\",\"zerolinecolor\":\"white\"}},\"shapedefaults\":{\"line\":{\"color\":\"#2a3f5f\"}},\"ternary\":{\"aaxis\":{\"gridcolor\":\"white\",\"linecolor\":\"white\",\"ticks\":\"\"},\"baxis\":{\"gridcolor\":\"white\",\"linecolor\":\"white\",\"ticks\":\"\"},\"bgcolor\":\"#E5ECF6\",\"caxis\":{\"gridcolor\":\"white\",\"linecolor\":\"white\",\"ticks\":\"\"}},\"title\":{\"x\":0.05},\"xaxis\":{\"automargin\":true,\"gridcolor\":\"white\",\"linecolor\":\"white\",\"ticks\":\"\",\"title\":{\"standoff\":15},\"zerolinecolor\":\"white\",\"zerolinewidth\":2},\"yaxis\":{\"automargin\":true,\"gridcolor\":\"white\",\"linecolor\":\"white\",\"ticks\":\"\",\"title\":{\"standoff\":15},\"zerolinecolor\":\"white\",\"zerolinewidth\":2}}},\"xaxis\":{\"anchor\":\"y\",\"domain\":[0.0,1.0],\"title\":{\"text\":\"Sources\"}},\"yaxis\":{\"anchor\":\"x\",\"domain\":[0.0,1.0],\"title\":{\"text\":\"Web visitors (millions)\"}},\"legend\":{\"title\":{\"text\":\"Read by, Distrusted by\"},\"tracegroupgap\":0},\"margin\":{\"t\":60},\"barmode\":\"relative\"},                        {\"responsive\": true}                    ).then(function(){\n",
              "                            \n",
              "var gd = document.getElementById('1940474c-de50-465a-88af-ef85dfaeb9e4');\n",
              "var x = new MutationObserver(function (mutations, observer) {{\n",
              "        var display = window.getComputedStyle(gd).display;\n",
              "        if (!display || display === 'none') {{\n",
              "            console.log([gd, 'removed!']);\n",
              "            Plotly.purge(gd);\n",
              "            observer.disconnect();\n",
              "        }}\n",
              "}});\n",
              "\n",
              "// Listen for the removal of the full notebook cells\n",
              "var notebookContainer = gd.closest('#notebook-container');\n",
              "if (notebookContainer) {{\n",
              "    x.observe(notebookContainer, {childList: true});\n",
              "}}\n",
              "\n",
              "// Listen for the clearing of the current output cell\n",
              "var outputEl = gd.closest('.output');\n",
              "if (outputEl) {{\n",
              "    x.observe(outputEl, {childList: true});\n",
              "}}\n",
              "\n",
              "                        })                };                            </script>        </div>\n",
              "</body>\n",
              "</html>"
            ]
          },
          "metadata": {}
        }
      ]
    },
    {
      "cell_type": "code",
      "source": [
        "save_plotly_fig(fig, 'pew_similarweb.html')"
      ],
      "metadata": {
        "id": "9MYshQ5qjbLH"
      },
      "execution_count": 48,
      "outputs": []
    },
    {
      "cell_type": "code",
      "source": [
        "fig = px.bar(news_sources, x='domain', y='twitter_followers',\n",
        "             color='pew_classification',\n",
        "             pattern_shape='pew_distrusted_by', pattern_shape_sequence=['/', '\\\\', '', 'x'],\n",
        "             labels={\n",
        "                 'twitter_followers': 'Twitter followers (millions)',\n",
        "                 'domain' : 'Sources',\n",
        "                 'pew_classification': 'Read by',\n",
        "                 'pew_distrusted_by': 'Distrusted by',\n",
        "             })\n",
        "fig.show()"
      ],
      "metadata": {
        "colab": {
          "base_uri": "https://localhost:8080/",
          "height": 542
        },
        "id": "Q0bqYH5U_Sn2",
        "outputId": "edf295a8-6e07-4632-c3a9-96bdf4253bd3"
      },
      "execution_count": 49,
      "outputs": [
        {
          "output_type": "display_data",
          "data": {
            "text/html": [
              "<html>\n",
              "<head><meta charset=\"utf-8\" /></head>\n",
              "<body>\n",
              "    <div>            <script src=\"https://cdnjs.cloudflare.com/ajax/libs/mathjax/2.7.5/MathJax.js?config=TeX-AMS-MML_SVG\"></script><script type=\"text/javascript\">if (window.MathJax) {MathJax.Hub.Config({SVG: {font: \"STIX-Web\"}});}</script>                <script type=\"text/javascript\">window.PlotlyConfig = {MathJaxConfig: 'local'};</script>\n",
              "        <script src=\"https://cdn.plot.ly/plotly-2.6.3.min.js\"></script>                <div id=\"130ad932-7b8f-482c-a73a-0abea6b40ffb\" class=\"plotly-graph-div\" style=\"height:525px; width:100%;\"></div>            <script type=\"text/javascript\">                                    window.PLOTLYENV=window.PLOTLYENV || {};                                    if (document.getElementById(\"130ad932-7b8f-482c-a73a-0abea6b40ffb\")) {                    Plotly.newPlot(                        \"130ad932-7b8f-482c-a73a-0abea6b40ffb\",                        [{\"alignmentgroup\":\"True\",\"hovertemplate\":\"Read by=left<br>Distrusted by=right<br>Sources=%{x}<br>Twitter followers (millions)=%{y}<extra></extra>\",\"legendgroup\":\"left, right\",\"marker\":{\"color\":\"#636efa\",\"pattern\":{\"shape\":\"/\"}},\"name\":\"left, right\",\"offsetgroup\":\"left, right\",\"orientation\":\"v\",\"showlegend\":true,\"textposition\":\"auto\",\"x\":[\"cnn.com\",\"nytimes.com\",\"huffingtonpost.com\",\"politico.com\",\"vice.com\",\"vox.com\"],\"xaxis\":\"x\",\"y\":[55.4,51.0,11.3,4.5,1.0,1.0],\"yaxis\":\"y\",\"type\":\"bar\"},{\"alignmentgroup\":\"True\",\"hovertemplate\":\"Read by=left<br>Distrusted by=none<br>Sources=%{x}<br>Twitter followers (millions)=%{y}<extra></extra>\",\"legendgroup\":\"left, none\",\"marker\":{\"color\":\"#636efa\",\"pattern\":{\"shape\":\"\"}},\"name\":\"left, none\",\"offsetgroup\":\"left, none\",\"orientation\":\"v\",\"showlegend\":true,\"textposition\":\"auto\",\"x\":[\"businessinsider.com\",\"thehill.com\"],\"xaxis\":\"x\",\"y\":[3.5,4.2],\"yaxis\":\"y\",\"type\":\"bar\"},{\"alignmentgroup\":\"True\",\"hovertemplate\":\"Read by=right<br>Distrusted by=left<br>Sources=%{x}<br>Twitter followers (millions)=%{y}<extra></extra>\",\"legendgroup\":\"right, left\",\"marker\":{\"color\":\"#EF553B\",\"pattern\":{\"shape\":\"\\\\\"}},\"name\":\"right, left\",\"offsetgroup\":\"right, left\",\"orientation\":\"v\",\"showlegend\":true,\"textposition\":\"auto\",\"x\":[\"foxnews.com\",\"breitbart.com\",\"dailycaller.com\"],\"xaxis\":\"x\",\"y\":[20.4,1.4,0.8],\"yaxis\":\"y\",\"type\":\"bar\"},{\"alignmentgroup\":\"True\",\"hovertemplate\":\"Read by=right<br>Distrusted by=both<br>Sources=%{x}<br>Twitter followers (millions)=%{y}<extra></extra>\",\"legendgroup\":\"right, both\",\"marker\":{\"color\":\"#EF553B\",\"pattern\":{\"shape\":\"x\"}},\"name\":\"right, both\",\"offsetgroup\":\"right, both\",\"orientation\":\"v\",\"showlegend\":true,\"textposition\":\"auto\",\"x\":[\"washingtonexaminer.com\"],\"xaxis\":\"x\",\"y\":[0.3],\"yaxis\":\"y\",\"type\":\"bar\"},{\"alignmentgroup\":\"True\",\"hovertemplate\":\"Read by=mixed<br>Distrusted by=right<br>Sources=%{x}<br>Twitter followers (millions)=%{y}<extra></extra>\",\"legendgroup\":\"mixed, right\",\"marker\":{\"color\":\"#00cc96\",\"pattern\":{\"shape\":\"/\"}},\"name\":\"mixed, right\",\"offsetgroup\":\"mixed, right\",\"orientation\":\"v\",\"showlegend\":true,\"textposition\":\"auto\",\"x\":[\"nypost.com\",\"usatoday.com\",\"nbcnews.com\",\"abcnews.com\",\"cbsnews.com\"],\"xaxis\":\"x\",\"y\":[2.3,4.4,8.7,16.9,8.3],\"yaxis\":\"y\",\"type\":\"bar\"},{\"alignmentgroup\":\"True\",\"hovertemplate\":\"Read by=mixed<br>Distrusted by=none<br>Sources=%{x}<br>Twitter followers (millions)=%{y}<extra></extra>\",\"legendgroup\":\"mixed, none\",\"marker\":{\"color\":\"#00cc96\",\"pattern\":{\"shape\":\"\"}},\"name\":\"mixed, none\",\"offsetgroup\":\"mixed, none\",\"orientation\":\"v\",\"showlegend\":true,\"textposition\":\"auto\",\"x\":[\"wsj.com\"],\"xaxis\":\"x\",\"y\":[19.2],\"yaxis\":\"y\",\"type\":\"bar\"}],                        {\"template\":{\"data\":{\"bar\":[{\"error_x\":{\"color\":\"#2a3f5f\"},\"error_y\":{\"color\":\"#2a3f5f\"},\"marker\":{\"line\":{\"color\":\"#E5ECF6\",\"width\":0.5},\"pattern\":{\"fillmode\":\"overlay\",\"size\":10,\"solidity\":0.2}},\"type\":\"bar\"}],\"barpolar\":[{\"marker\":{\"line\":{\"color\":\"#E5ECF6\",\"width\":0.5},\"pattern\":{\"fillmode\":\"overlay\",\"size\":10,\"solidity\":0.2}},\"type\":\"barpolar\"}],\"carpet\":[{\"aaxis\":{\"endlinecolor\":\"#2a3f5f\",\"gridcolor\":\"white\",\"linecolor\":\"white\",\"minorgridcolor\":\"white\",\"startlinecolor\":\"#2a3f5f\"},\"baxis\":{\"endlinecolor\":\"#2a3f5f\",\"gridcolor\":\"white\",\"linecolor\":\"white\",\"minorgridcolor\":\"white\",\"startlinecolor\":\"#2a3f5f\"},\"type\":\"carpet\"}],\"choropleth\":[{\"colorbar\":{\"outlinewidth\":0,\"ticks\":\"\"},\"type\":\"choropleth\"}],\"contour\":[{\"colorbar\":{\"outlinewidth\":0,\"ticks\":\"\"},\"colorscale\":[[0.0,\"#0d0887\"],[0.1111111111111111,\"#46039f\"],[0.2222222222222222,\"#7201a8\"],[0.3333333333333333,\"#9c179e\"],[0.4444444444444444,\"#bd3786\"],[0.5555555555555556,\"#d8576b\"],[0.6666666666666666,\"#ed7953\"],[0.7777777777777778,\"#fb9f3a\"],[0.8888888888888888,\"#fdca26\"],[1.0,\"#f0f921\"]],\"type\":\"contour\"}],\"contourcarpet\":[{\"colorbar\":{\"outlinewidth\":0,\"ticks\":\"\"},\"type\":\"contourcarpet\"}],\"heatmap\":[{\"colorbar\":{\"outlinewidth\":0,\"ticks\":\"\"},\"colorscale\":[[0.0,\"#0d0887\"],[0.1111111111111111,\"#46039f\"],[0.2222222222222222,\"#7201a8\"],[0.3333333333333333,\"#9c179e\"],[0.4444444444444444,\"#bd3786\"],[0.5555555555555556,\"#d8576b\"],[0.6666666666666666,\"#ed7953\"],[0.7777777777777778,\"#fb9f3a\"],[0.8888888888888888,\"#fdca26\"],[1.0,\"#f0f921\"]],\"type\":\"heatmap\"}],\"heatmapgl\":[{\"colorbar\":{\"outlinewidth\":0,\"ticks\":\"\"},\"colorscale\":[[0.0,\"#0d0887\"],[0.1111111111111111,\"#46039f\"],[0.2222222222222222,\"#7201a8\"],[0.3333333333333333,\"#9c179e\"],[0.4444444444444444,\"#bd3786\"],[0.5555555555555556,\"#d8576b\"],[0.6666666666666666,\"#ed7953\"],[0.7777777777777778,\"#fb9f3a\"],[0.8888888888888888,\"#fdca26\"],[1.0,\"#f0f921\"]],\"type\":\"heatmapgl\"}],\"histogram\":[{\"marker\":{\"pattern\":{\"fillmode\":\"overlay\",\"size\":10,\"solidity\":0.2}},\"type\":\"histogram\"}],\"histogram2d\":[{\"colorbar\":{\"outlinewidth\":0,\"ticks\":\"\"},\"colorscale\":[[0.0,\"#0d0887\"],[0.1111111111111111,\"#46039f\"],[0.2222222222222222,\"#7201a8\"],[0.3333333333333333,\"#9c179e\"],[0.4444444444444444,\"#bd3786\"],[0.5555555555555556,\"#d8576b\"],[0.6666666666666666,\"#ed7953\"],[0.7777777777777778,\"#fb9f3a\"],[0.8888888888888888,\"#fdca26\"],[1.0,\"#f0f921\"]],\"type\":\"histogram2d\"}],\"histogram2dcontour\":[{\"colorbar\":{\"outlinewidth\":0,\"ticks\":\"\"},\"colorscale\":[[0.0,\"#0d0887\"],[0.1111111111111111,\"#46039f\"],[0.2222222222222222,\"#7201a8\"],[0.3333333333333333,\"#9c179e\"],[0.4444444444444444,\"#bd3786\"],[0.5555555555555556,\"#d8576b\"],[0.6666666666666666,\"#ed7953\"],[0.7777777777777778,\"#fb9f3a\"],[0.8888888888888888,\"#fdca26\"],[1.0,\"#f0f921\"]],\"type\":\"histogram2dcontour\"}],\"mesh3d\":[{\"colorbar\":{\"outlinewidth\":0,\"ticks\":\"\"},\"type\":\"mesh3d\"}],\"parcoords\":[{\"line\":{\"colorbar\":{\"outlinewidth\":0,\"ticks\":\"\"}},\"type\":\"parcoords\"}],\"pie\":[{\"automargin\":true,\"type\":\"pie\"}],\"scatter\":[{\"marker\":{\"colorbar\":{\"outlinewidth\":0,\"ticks\":\"\"}},\"type\":\"scatter\"}],\"scatter3d\":[{\"line\":{\"colorbar\":{\"outlinewidth\":0,\"ticks\":\"\"}},\"marker\":{\"colorbar\":{\"outlinewidth\":0,\"ticks\":\"\"}},\"type\":\"scatter3d\"}],\"scattercarpet\":[{\"marker\":{\"colorbar\":{\"outlinewidth\":0,\"ticks\":\"\"}},\"type\":\"scattercarpet\"}],\"scattergeo\":[{\"marker\":{\"colorbar\":{\"outlinewidth\":0,\"ticks\":\"\"}},\"type\":\"scattergeo\"}],\"scattergl\":[{\"marker\":{\"colorbar\":{\"outlinewidth\":0,\"ticks\":\"\"}},\"type\":\"scattergl\"}],\"scattermapbox\":[{\"marker\":{\"colorbar\":{\"outlinewidth\":0,\"ticks\":\"\"}},\"type\":\"scattermapbox\"}],\"scatterpolar\":[{\"marker\":{\"colorbar\":{\"outlinewidth\":0,\"ticks\":\"\"}},\"type\":\"scatterpolar\"}],\"scatterpolargl\":[{\"marker\":{\"colorbar\":{\"outlinewidth\":0,\"ticks\":\"\"}},\"type\":\"scatterpolargl\"}],\"scatterternary\":[{\"marker\":{\"colorbar\":{\"outlinewidth\":0,\"ticks\":\"\"}},\"type\":\"scatterternary\"}],\"surface\":[{\"colorbar\":{\"outlinewidth\":0,\"ticks\":\"\"},\"colorscale\":[[0.0,\"#0d0887\"],[0.1111111111111111,\"#46039f\"],[0.2222222222222222,\"#7201a8\"],[0.3333333333333333,\"#9c179e\"],[0.4444444444444444,\"#bd3786\"],[0.5555555555555556,\"#d8576b\"],[0.6666666666666666,\"#ed7953\"],[0.7777777777777778,\"#fb9f3a\"],[0.8888888888888888,\"#fdca26\"],[1.0,\"#f0f921\"]],\"type\":\"surface\"}],\"table\":[{\"cells\":{\"fill\":{\"color\":\"#EBF0F8\"},\"line\":{\"color\":\"white\"}},\"header\":{\"fill\":{\"color\":\"#C8D4E3\"},\"line\":{\"color\":\"white\"}},\"type\":\"table\"}]},\"layout\":{\"annotationdefaults\":{\"arrowcolor\":\"#2a3f5f\",\"arrowhead\":0,\"arrowwidth\":1},\"autotypenumbers\":\"strict\",\"coloraxis\":{\"colorbar\":{\"outlinewidth\":0,\"ticks\":\"\"}},\"colorscale\":{\"diverging\":[[0,\"#8e0152\"],[0.1,\"#c51b7d\"],[0.2,\"#de77ae\"],[0.3,\"#f1b6da\"],[0.4,\"#fde0ef\"],[0.5,\"#f7f7f7\"],[0.6,\"#e6f5d0\"],[0.7,\"#b8e186\"],[0.8,\"#7fbc41\"],[0.9,\"#4d9221\"],[1,\"#276419\"]],\"sequential\":[[0.0,\"#0d0887\"],[0.1111111111111111,\"#46039f\"],[0.2222222222222222,\"#7201a8\"],[0.3333333333333333,\"#9c179e\"],[0.4444444444444444,\"#bd3786\"],[0.5555555555555556,\"#d8576b\"],[0.6666666666666666,\"#ed7953\"],[0.7777777777777778,\"#fb9f3a\"],[0.8888888888888888,\"#fdca26\"],[1.0,\"#f0f921\"]],\"sequentialminus\":[[0.0,\"#0d0887\"],[0.1111111111111111,\"#46039f\"],[0.2222222222222222,\"#7201a8\"],[0.3333333333333333,\"#9c179e\"],[0.4444444444444444,\"#bd3786\"],[0.5555555555555556,\"#d8576b\"],[0.6666666666666666,\"#ed7953\"],[0.7777777777777778,\"#fb9f3a\"],[0.8888888888888888,\"#fdca26\"],[1.0,\"#f0f921\"]]},\"colorway\":[\"#636efa\",\"#EF553B\",\"#00cc96\",\"#ab63fa\",\"#FFA15A\",\"#19d3f3\",\"#FF6692\",\"#B6E880\",\"#FF97FF\",\"#FECB52\"],\"font\":{\"color\":\"#2a3f5f\"},\"geo\":{\"bgcolor\":\"white\",\"lakecolor\":\"white\",\"landcolor\":\"#E5ECF6\",\"showlakes\":true,\"showland\":true,\"subunitcolor\":\"white\"},\"hoverlabel\":{\"align\":\"left\"},\"hovermode\":\"closest\",\"mapbox\":{\"style\":\"light\"},\"paper_bgcolor\":\"white\",\"plot_bgcolor\":\"#E5ECF6\",\"polar\":{\"angularaxis\":{\"gridcolor\":\"white\",\"linecolor\":\"white\",\"ticks\":\"\"},\"bgcolor\":\"#E5ECF6\",\"radialaxis\":{\"gridcolor\":\"white\",\"linecolor\":\"white\",\"ticks\":\"\"}},\"scene\":{\"xaxis\":{\"backgroundcolor\":\"#E5ECF6\",\"gridcolor\":\"white\",\"gridwidth\":2,\"linecolor\":\"white\",\"showbackground\":true,\"ticks\":\"\",\"zerolinecolor\":\"white\"},\"yaxis\":{\"backgroundcolor\":\"#E5ECF6\",\"gridcolor\":\"white\",\"gridwidth\":2,\"linecolor\":\"white\",\"showbackground\":true,\"ticks\":\"\",\"zerolinecolor\":\"white\"},\"zaxis\":{\"backgroundcolor\":\"#E5ECF6\",\"gridcolor\":\"white\",\"gridwidth\":2,\"linecolor\":\"white\",\"showbackground\":true,\"ticks\":\"\",\"zerolinecolor\":\"white\"}},\"shapedefaults\":{\"line\":{\"color\":\"#2a3f5f\"}},\"ternary\":{\"aaxis\":{\"gridcolor\":\"white\",\"linecolor\":\"white\",\"ticks\":\"\"},\"baxis\":{\"gridcolor\":\"white\",\"linecolor\":\"white\",\"ticks\":\"\"},\"bgcolor\":\"#E5ECF6\",\"caxis\":{\"gridcolor\":\"white\",\"linecolor\":\"white\",\"ticks\":\"\"}},\"title\":{\"x\":0.05},\"xaxis\":{\"automargin\":true,\"gridcolor\":\"white\",\"linecolor\":\"white\",\"ticks\":\"\",\"title\":{\"standoff\":15},\"zerolinecolor\":\"white\",\"zerolinewidth\":2},\"yaxis\":{\"automargin\":true,\"gridcolor\":\"white\",\"linecolor\":\"white\",\"ticks\":\"\",\"title\":{\"standoff\":15},\"zerolinecolor\":\"white\",\"zerolinewidth\":2}}},\"xaxis\":{\"anchor\":\"y\",\"domain\":[0.0,1.0],\"title\":{\"text\":\"Sources\"}},\"yaxis\":{\"anchor\":\"x\",\"domain\":[0.0,1.0],\"title\":{\"text\":\"Twitter followers (millions)\"}},\"legend\":{\"title\":{\"text\":\"Read by, Distrusted by\"},\"tracegroupgap\":0},\"margin\":{\"t\":60},\"barmode\":\"relative\"},                        {\"responsive\": true}                    ).then(function(){\n",
              "                            \n",
              "var gd = document.getElementById('130ad932-7b8f-482c-a73a-0abea6b40ffb');\n",
              "var x = new MutationObserver(function (mutations, observer) {{\n",
              "        var display = window.getComputedStyle(gd).display;\n",
              "        if (!display || display === 'none') {{\n",
              "            console.log([gd, 'removed!']);\n",
              "            Plotly.purge(gd);\n",
              "            observer.disconnect();\n",
              "        }}\n",
              "}});\n",
              "\n",
              "// Listen for the removal of the full notebook cells\n",
              "var notebookContainer = gd.closest('#notebook-container');\n",
              "if (notebookContainer) {{\n",
              "    x.observe(notebookContainer, {childList: true});\n",
              "}}\n",
              "\n",
              "// Listen for the clearing of the current output cell\n",
              "var outputEl = gd.closest('.output');\n",
              "if (outputEl) {{\n",
              "    x.observe(outputEl, {childList: true});\n",
              "}}\n",
              "\n",
              "                        })                };                            </script>        </div>\n",
              "</body>\n",
              "</html>"
            ]
          },
          "metadata": {}
        }
      ]
    },
    {
      "cell_type": "code",
      "source": [
        "save_plotly_fig(fig, 'pew_twitter.html')"
      ],
      "metadata": {
        "id": "-RzSZlgwjp_c"
      },
      "execution_count": 50,
      "outputs": []
    },
    {
      "cell_type": "markdown",
      "source": [
        "## Politicization and polarization"
      ],
      "metadata": {
        "id": "YLBYOFfk-zy4"
      }
    },
    {
      "cell_type": "markdown",
      "source": [
        "\n",
        "You can mouse over the data in these plots and additional detailed information will be displayed. Clicking or double-clicking on labels on the left will let you show only a particular year."
      ],
      "metadata": {
        "id": "gL4Kx8QM2jn-"
      }
    },
    {
      "cell_type": "code",
      "source": [
        "fig = px.scatter(stats_df.reset_index(), x='source', y='politicization', \n",
        "                 color='year', symbol='year', \n",
        "                 hover_data=['total_num'],\n",
        "                 labels={\n",
        "                     'politicization': 'Politicization',\n",
        "                     'source': 'Sources',\n",
        "                     'year': 'Year',\n",
        "                     'total_num': 'Article count',\n",
        "                 })\n",
        "fig.show()"
      ],
      "metadata": {
        "colab": {
          "base_uri": "https://localhost:8080/",
          "height": 542
        },
        "id": "0TXtmN1L0PYn",
        "outputId": "9a43074d-40a3-4db4-e98c-8a2aabbd4082"
      },
      "execution_count": 51,
      "outputs": [
        {
          "output_type": "display_data",
          "data": {
            "text/html": [
              "<html>\n",
              "<head><meta charset=\"utf-8\" /></head>\n",
              "<body>\n",
              "    <div>            <script src=\"https://cdnjs.cloudflare.com/ajax/libs/mathjax/2.7.5/MathJax.js?config=TeX-AMS-MML_SVG\"></script><script type=\"text/javascript\">if (window.MathJax) {MathJax.Hub.Config({SVG: {font: \"STIX-Web\"}});}</script>                <script type=\"text/javascript\">window.PlotlyConfig = {MathJaxConfig: 'local'};</script>\n",
              "        <script src=\"https://cdn.plot.ly/plotly-2.6.3.min.js\"></script>                <div id=\"a6434e1d-c15b-41ba-a8cc-d1a8ad86a51e\" class=\"plotly-graph-div\" style=\"height:525px; width:100%;\"></div>            <script type=\"text/javascript\">                                    window.PLOTLYENV=window.PLOTLYENV || {};                                    if (document.getElementById(\"a6434e1d-c15b-41ba-a8cc-d1a8ad86a51e\")) {                    Plotly.newPlot(                        \"a6434e1d-c15b-41ba-a8cc-d1a8ad86a51e\",                        [{\"customdata\":[[28623],[50593],[43592],[87303],[99497],[14523],[80986],[130202],[23017],[948],[9344],[70889],[40641],[50446],[23301],[3108],[58887],[46312]],\"hovertemplate\":\"Year=2015<br>Sources=%{x}<br>Politicization=%{y}<br>Article count=%{customdata[0]}<extra></extra>\",\"legendgroup\":\"2015\",\"marker\":{\"color\":\"#636efa\",\"symbol\":\"circle\"},\"mode\":\"markers\",\"name\":\"2015\",\"orientation\":\"v\",\"showlegend\":true,\"x\":[\"abcnews.com\",\"breitbart.com\",\"businessinsider.com\",\"cbsnews.com\",\"cnn.com\",\"dailycaller.com\",\"foxnews.com\",\"huffingtonpost.com\",\"nbcnews.com\",\"nypost.com\",\"nytimes.com\",\"politico.com\",\"thehill.com\",\"usatoday.com\",\"vice.com\",\"vox.com\",\"washingtonexaminer.com\",\"wsj.com\"],\"xaxis\":\"x\",\"y\":[0.38193061523949273,0.6167651651414228,0.34130115617544504,0.4956072529008167,0.4607777118908108,0.6639124147903326,0.45385622206307263,0.4049323359088186,0.44319416083764174,0.2732067510548523,0.3107876712328767,0.7494956904456263,0.8589601633818066,0.3101732545692424,0.2317067936998412,0.4491634491634492,0.8144242362490872,0.3034202798410779],\"yaxis\":\"y\",\"type\":\"scatter\"},{\"customdata\":[[22961],[122906],[18533],[40801],[77967],[9360],[48583],[90891],[14133],[546],[161105],[13468],[23276],[59117],[13288],[4077],[54058],[11796]],\"hovertemplate\":\"Year=2016<br>Sources=%{x}<br>Politicization=%{y}<br>Article count=%{customdata[0]}<extra></extra>\",\"legendgroup\":\"2016\",\"marker\":{\"color\":\"#EF553B\",\"symbol\":\"diamond\"},\"mode\":\"markers\",\"name\":\"2016\",\"orientation\":\"v\",\"showlegend\":true,\"x\":[\"abcnews.com\",\"breitbart.com\",\"businessinsider.com\",\"cbsnews.com\",\"cnn.com\",\"dailycaller.com\",\"foxnews.com\",\"huffingtonpost.com\",\"nbcnews.com\",\"nypost.com\",\"nytimes.com\",\"politico.com\",\"thehill.com\",\"usatoday.com\",\"vice.com\",\"vox.com\",\"washingtonexaminer.com\",\"wsj.com\"],\"xaxis\":\"x\",\"y\":[0.37337223988502244,0.49296210111792754,0.3765175632655264,0.4313619764221465,0.485295060730822,0.6016025641025641,0.449004795916267,0.39139188698551014,0.4860256138116465,0.29853479853479853,0.31026969988516806,0.6805019305019305,0.8180529300567108,0.1260381954429352,0.25714930764599636,0.4321805248957567,0.8221724814088571,0.36978636826042727],\"yaxis\":\"y\",\"type\":\"scatter\"},{\"customdata\":[[382],[241616],[88013],[120249],[136178],[22949],[117216],[147026],[64235],[32552],[262475],[21499],[73853],[126532],[23701],[11488],[38380],[1463]],\"hovertemplate\":\"Year=2017<br>Sources=%{x}<br>Politicization=%{y}<br>Article count=%{customdata[0]}<extra></extra>\",\"legendgroup\":\"2017\",\"marker\":{\"color\":\"#00cc96\",\"symbol\":\"square\"},\"mode\":\"markers\",\"name\":\"2017\",\"orientation\":\"v\",\"showlegend\":true,\"x\":[\"abcnews.com\",\"breitbart.com\",\"businessinsider.com\",\"cbsnews.com\",\"cnn.com\",\"dailycaller.com\",\"foxnews.com\",\"huffingtonpost.com\",\"nbcnews.com\",\"nypost.com\",\"nytimes.com\",\"politico.com\",\"thehill.com\",\"usatoday.com\",\"vice.com\",\"vox.com\",\"washingtonexaminer.com\",\"wsj.com\"],\"xaxis\":\"x\",\"y\":[0.6256544502617801,0.5485563869942388,0.46453364843829886,0.529609393841113,0.5287344504986121,0.6317922349557715,0.5368123805623806,0.4871519323112919,0.560753483303495,0.20539444580978128,0.3641756357748357,0.7896181217731058,0.8375150637076354,0.14306262447444124,0.4842833635711573,0.5368210306406686,0.8089369463262116,0.36295283663704714],\"yaxis\":\"y\",\"type\":\"scatter\"},{\"customdata\":[[10640],[314117],[117930],[129872],[119071],[34294],[132951],[43893],[74304],[30708],[149850],[26227],[83770],[100019],[16915],[17234],[71633],[7547]],\"hovertemplate\":\"Year=2018<br>Sources=%{x}<br>Politicization=%{y}<br>Article count=%{customdata[0]}<extra></extra>\",\"legendgroup\":\"2018\",\"marker\":{\"color\":\"#ab63fa\",\"symbol\":\"x\"},\"mode\":\"markers\",\"name\":\"2018\",\"orientation\":\"v\",\"showlegend\":true,\"x\":[\"abcnews.com\",\"breitbart.com\",\"businessinsider.com\",\"cbsnews.com\",\"cnn.com\",\"dailycaller.com\",\"foxnews.com\",\"huffingtonpost.com\",\"nbcnews.com\",\"nypost.com\",\"nytimes.com\",\"politico.com\",\"thehill.com\",\"usatoday.com\",\"vice.com\",\"vox.com\",\"washingtonexaminer.com\",\"wsj.com\"],\"xaxis\":\"x\",\"y\":[0.6011278195488722,0.504283435789849,0.38592385313321464,0.538522545275348,0.5192616170184176,0.6033416924243308,0.5390406992049702,0.41494087895564213,0.5579780361757106,0.21955190829751206,0.3223356690023357,0.7430891829031151,0.788241613942939,0.18151551205271,0.20053207212533256,0.5646976906115817,0.7899850627504084,0.41857691798065455],\"yaxis\":\"y\",\"type\":\"scatter\"},{\"customdata\":[[17938],[251801],[67809],[72570],[91660],[9425],[124217],[4737],[76523],[39728],[125398],[21536],[53842],[5038],[18704],[14109],[54143],[4545]],\"hovertemplate\":\"Year=2019<br>Sources=%{x}<br>Politicization=%{y}<br>Article count=%{customdata[0]}<extra></extra>\",\"legendgroup\":\"2019\",\"marker\":{\"color\":\"#FFA15A\",\"symbol\":\"cross\"},\"mode\":\"markers\",\"name\":\"2019\",\"orientation\":\"v\",\"showlegend\":true,\"x\":[\"abcnews.com\",\"breitbart.com\",\"businessinsider.com\",\"cbsnews.com\",\"cnn.com\",\"dailycaller.com\",\"foxnews.com\",\"huffingtonpost.com\",\"nbcnews.com\",\"nypost.com\",\"nytimes.com\",\"politico.com\",\"thehill.com\",\"usatoday.com\",\"vice.com\",\"vox.com\",\"washingtonexaminer.com\",\"wsj.com\"],\"xaxis\":\"x\",\"y\":[0.6195785483331475,0.5274244343747642,0.39198336504003894,0.5084470166735565,0.5877045603316605,0.6354376657824934,0.5408921484176884,0.49651678277390754,0.5432745710439998,0.29918445428916635,0.35849854064658127,0.7755386329866271,0.8324542178968092,0.023421992854307266,0.30250213857998287,0.5856545467432136,0.7711246144469276,0.44004400440044006],\"yaxis\":\"y\",\"type\":\"scatter\"},{\"customdata\":[[5224],[55346],[15560],[17432],[22972],[5165],[38095],[2],[29748],[8128],[37824],[4583],[13159],[2046],[5853],[3602],[14306],[1161]],\"hovertemplate\":\"Year=2020<br>Sources=%{x}<br>Politicization=%{y}<br>Article count=%{customdata[0]}<extra></extra>\",\"legendgroup\":\"2020\",\"marker\":{\"color\":\"#19d3f3\",\"symbol\":\"circle\"},\"mode\":\"markers\",\"name\":\"2020\",\"orientation\":\"v\",\"showlegend\":true,\"x\":[\"abcnews.com\",\"breitbart.com\",\"businessinsider.com\",\"cbsnews.com\",\"cnn.com\",\"dailycaller.com\",\"foxnews.com\",\"huffingtonpost.com\",\"nbcnews.com\",\"nypost.com\",\"nytimes.com\",\"politico.com\",\"thehill.com\",\"usatoday.com\",\"vice.com\",\"vox.com\",\"washingtonexaminer.com\",\"wsj.com\"],\"xaxis\":\"x\",\"y\":[0.6607963246554365,0.5432009539984822,0.42596401028277636,0.583122992198256,0.614356608044576,0.5748305905130687,0.5481296758104738,1.0,0.7157455963426113,0.35383858267716534,0.5314879441624365,0.7665284747981671,0.8140436203358918,0.03372434017595308,0.4556637621732445,0.6218767351471405,0.7523416748217531,0.5512489233419466],\"yaxis\":\"y\",\"type\":\"scatter\"},{\"customdata\":[[85768],[1036379],[351437],[468227],[547345],[95716],[542048],[416751],[281960],[112610],[745996],[158202],[288541],[343198],[101762],[53618],[291407],[72824]],\"hovertemplate\":\"Year=total<br>Sources=%{x}<br>Politicization=%{y}<br>Article count=%{customdata[0]}<extra></extra>\",\"legendgroup\":\"total\",\"marker\":{\"color\":\"#FF6692\",\"symbol\":\"diamond\"},\"mode\":\"markers\",\"name\":\"total\",\"orientation\":\"v\",\"showlegend\":true,\"x\":[\"abcnews.com\",\"breitbart.com\",\"businessinsider.com\",\"cbsnews.com\",\"cnn.com\",\"dailycaller.com\",\"foxnews.com\",\"huffingtonpost.com\",\"nbcnews.com\",\"nypost.com\",\"nytimes.com\",\"politico.com\",\"thehill.com\",\"usatoday.com\",\"vice.com\",\"vox.com\",\"washingtonexaminer.com\",\"wsj.com\"],\"xaxis\":\"x\",\"y\":[0.47460591362746013,0.5264541253730537,0.4025216468385514,0.5158929322743029,0.5216015492970613,0.6208052990095699,0.5188249011157684,0.4330835438907165,0.558288409703504,0.25408045466654827,0.3509898176397729,0.7520511750799611,0.8226456552101781,0.17349168701449308,0.31456732375542934,0.5513073967697415,0.7980384822602065,0.33977809513347246],\"yaxis\":\"y\",\"type\":\"scatter\"}],                        {\"template\":{\"data\":{\"bar\":[{\"error_x\":{\"color\":\"#2a3f5f\"},\"error_y\":{\"color\":\"#2a3f5f\"},\"marker\":{\"line\":{\"color\":\"#E5ECF6\",\"width\":0.5},\"pattern\":{\"fillmode\":\"overlay\",\"size\":10,\"solidity\":0.2}},\"type\":\"bar\"}],\"barpolar\":[{\"marker\":{\"line\":{\"color\":\"#E5ECF6\",\"width\":0.5},\"pattern\":{\"fillmode\":\"overlay\",\"size\":10,\"solidity\":0.2}},\"type\":\"barpolar\"}],\"carpet\":[{\"aaxis\":{\"endlinecolor\":\"#2a3f5f\",\"gridcolor\":\"white\",\"linecolor\":\"white\",\"minorgridcolor\":\"white\",\"startlinecolor\":\"#2a3f5f\"},\"baxis\":{\"endlinecolor\":\"#2a3f5f\",\"gridcolor\":\"white\",\"linecolor\":\"white\",\"minorgridcolor\":\"white\",\"startlinecolor\":\"#2a3f5f\"},\"type\":\"carpet\"}],\"choropleth\":[{\"colorbar\":{\"outlinewidth\":0,\"ticks\":\"\"},\"type\":\"choropleth\"}],\"contour\":[{\"colorbar\":{\"outlinewidth\":0,\"ticks\":\"\"},\"colorscale\":[[0.0,\"#0d0887\"],[0.1111111111111111,\"#46039f\"],[0.2222222222222222,\"#7201a8\"],[0.3333333333333333,\"#9c179e\"],[0.4444444444444444,\"#bd3786\"],[0.5555555555555556,\"#d8576b\"],[0.6666666666666666,\"#ed7953\"],[0.7777777777777778,\"#fb9f3a\"],[0.8888888888888888,\"#fdca26\"],[1.0,\"#f0f921\"]],\"type\":\"contour\"}],\"contourcarpet\":[{\"colorbar\":{\"outlinewidth\":0,\"ticks\":\"\"},\"type\":\"contourcarpet\"}],\"heatmap\":[{\"colorbar\":{\"outlinewidth\":0,\"ticks\":\"\"},\"colorscale\":[[0.0,\"#0d0887\"],[0.1111111111111111,\"#46039f\"],[0.2222222222222222,\"#7201a8\"],[0.3333333333333333,\"#9c179e\"],[0.4444444444444444,\"#bd3786\"],[0.5555555555555556,\"#d8576b\"],[0.6666666666666666,\"#ed7953\"],[0.7777777777777778,\"#fb9f3a\"],[0.8888888888888888,\"#fdca26\"],[1.0,\"#f0f921\"]],\"type\":\"heatmap\"}],\"heatmapgl\":[{\"colorbar\":{\"outlinewidth\":0,\"ticks\":\"\"},\"colorscale\":[[0.0,\"#0d0887\"],[0.1111111111111111,\"#46039f\"],[0.2222222222222222,\"#7201a8\"],[0.3333333333333333,\"#9c179e\"],[0.4444444444444444,\"#bd3786\"],[0.5555555555555556,\"#d8576b\"],[0.6666666666666666,\"#ed7953\"],[0.7777777777777778,\"#fb9f3a\"],[0.8888888888888888,\"#fdca26\"],[1.0,\"#f0f921\"]],\"type\":\"heatmapgl\"}],\"histogram\":[{\"marker\":{\"pattern\":{\"fillmode\":\"overlay\",\"size\":10,\"solidity\":0.2}},\"type\":\"histogram\"}],\"histogram2d\":[{\"colorbar\":{\"outlinewidth\":0,\"ticks\":\"\"},\"colorscale\":[[0.0,\"#0d0887\"],[0.1111111111111111,\"#46039f\"],[0.2222222222222222,\"#7201a8\"],[0.3333333333333333,\"#9c179e\"],[0.4444444444444444,\"#bd3786\"],[0.5555555555555556,\"#d8576b\"],[0.6666666666666666,\"#ed7953\"],[0.7777777777777778,\"#fb9f3a\"],[0.8888888888888888,\"#fdca26\"],[1.0,\"#f0f921\"]],\"type\":\"histogram2d\"}],\"histogram2dcontour\":[{\"colorbar\":{\"outlinewidth\":0,\"ticks\":\"\"},\"colorscale\":[[0.0,\"#0d0887\"],[0.1111111111111111,\"#46039f\"],[0.2222222222222222,\"#7201a8\"],[0.3333333333333333,\"#9c179e\"],[0.4444444444444444,\"#bd3786\"],[0.5555555555555556,\"#d8576b\"],[0.6666666666666666,\"#ed7953\"],[0.7777777777777778,\"#fb9f3a\"],[0.8888888888888888,\"#fdca26\"],[1.0,\"#f0f921\"]],\"type\":\"histogram2dcontour\"}],\"mesh3d\":[{\"colorbar\":{\"outlinewidth\":0,\"ticks\":\"\"},\"type\":\"mesh3d\"}],\"parcoords\":[{\"line\":{\"colorbar\":{\"outlinewidth\":0,\"ticks\":\"\"}},\"type\":\"parcoords\"}],\"pie\":[{\"automargin\":true,\"type\":\"pie\"}],\"scatter\":[{\"marker\":{\"colorbar\":{\"outlinewidth\":0,\"ticks\":\"\"}},\"type\":\"scatter\"}],\"scatter3d\":[{\"line\":{\"colorbar\":{\"outlinewidth\":0,\"ticks\":\"\"}},\"marker\":{\"colorbar\":{\"outlinewidth\":0,\"ticks\":\"\"}},\"type\":\"scatter3d\"}],\"scattercarpet\":[{\"marker\":{\"colorbar\":{\"outlinewidth\":0,\"ticks\":\"\"}},\"type\":\"scattercarpet\"}],\"scattergeo\":[{\"marker\":{\"colorbar\":{\"outlinewidth\":0,\"ticks\":\"\"}},\"type\":\"scattergeo\"}],\"scattergl\":[{\"marker\":{\"colorbar\":{\"outlinewidth\":0,\"ticks\":\"\"}},\"type\":\"scattergl\"}],\"scattermapbox\":[{\"marker\":{\"colorbar\":{\"outlinewidth\":0,\"ticks\":\"\"}},\"type\":\"scattermapbox\"}],\"scatterpolar\":[{\"marker\":{\"colorbar\":{\"outlinewidth\":0,\"ticks\":\"\"}},\"type\":\"scatterpolar\"}],\"scatterpolargl\":[{\"marker\":{\"colorbar\":{\"outlinewidth\":0,\"ticks\":\"\"}},\"type\":\"scatterpolargl\"}],\"scatterternary\":[{\"marker\":{\"colorbar\":{\"outlinewidth\":0,\"ticks\":\"\"}},\"type\":\"scatterternary\"}],\"surface\":[{\"colorbar\":{\"outlinewidth\":0,\"ticks\":\"\"},\"colorscale\":[[0.0,\"#0d0887\"],[0.1111111111111111,\"#46039f\"],[0.2222222222222222,\"#7201a8\"],[0.3333333333333333,\"#9c179e\"],[0.4444444444444444,\"#bd3786\"],[0.5555555555555556,\"#d8576b\"],[0.6666666666666666,\"#ed7953\"],[0.7777777777777778,\"#fb9f3a\"],[0.8888888888888888,\"#fdca26\"],[1.0,\"#f0f921\"]],\"type\":\"surface\"}],\"table\":[{\"cells\":{\"fill\":{\"color\":\"#EBF0F8\"},\"line\":{\"color\":\"white\"}},\"header\":{\"fill\":{\"color\":\"#C8D4E3\"},\"line\":{\"color\":\"white\"}},\"type\":\"table\"}]},\"layout\":{\"annotationdefaults\":{\"arrowcolor\":\"#2a3f5f\",\"arrowhead\":0,\"arrowwidth\":1},\"autotypenumbers\":\"strict\",\"coloraxis\":{\"colorbar\":{\"outlinewidth\":0,\"ticks\":\"\"}},\"colorscale\":{\"diverging\":[[0,\"#8e0152\"],[0.1,\"#c51b7d\"],[0.2,\"#de77ae\"],[0.3,\"#f1b6da\"],[0.4,\"#fde0ef\"],[0.5,\"#f7f7f7\"],[0.6,\"#e6f5d0\"],[0.7,\"#b8e186\"],[0.8,\"#7fbc41\"],[0.9,\"#4d9221\"],[1,\"#276419\"]],\"sequential\":[[0.0,\"#0d0887\"],[0.1111111111111111,\"#46039f\"],[0.2222222222222222,\"#7201a8\"],[0.3333333333333333,\"#9c179e\"],[0.4444444444444444,\"#bd3786\"],[0.5555555555555556,\"#d8576b\"],[0.6666666666666666,\"#ed7953\"],[0.7777777777777778,\"#fb9f3a\"],[0.8888888888888888,\"#fdca26\"],[1.0,\"#f0f921\"]],\"sequentialminus\":[[0.0,\"#0d0887\"],[0.1111111111111111,\"#46039f\"],[0.2222222222222222,\"#7201a8\"],[0.3333333333333333,\"#9c179e\"],[0.4444444444444444,\"#bd3786\"],[0.5555555555555556,\"#d8576b\"],[0.6666666666666666,\"#ed7953\"],[0.7777777777777778,\"#fb9f3a\"],[0.8888888888888888,\"#fdca26\"],[1.0,\"#f0f921\"]]},\"colorway\":[\"#636efa\",\"#EF553B\",\"#00cc96\",\"#ab63fa\",\"#FFA15A\",\"#19d3f3\",\"#FF6692\",\"#B6E880\",\"#FF97FF\",\"#FECB52\"],\"font\":{\"color\":\"#2a3f5f\"},\"geo\":{\"bgcolor\":\"white\",\"lakecolor\":\"white\",\"landcolor\":\"#E5ECF6\",\"showlakes\":true,\"showland\":true,\"subunitcolor\":\"white\"},\"hoverlabel\":{\"align\":\"left\"},\"hovermode\":\"closest\",\"mapbox\":{\"style\":\"light\"},\"paper_bgcolor\":\"white\",\"plot_bgcolor\":\"#E5ECF6\",\"polar\":{\"angularaxis\":{\"gridcolor\":\"white\",\"linecolor\":\"white\",\"ticks\":\"\"},\"bgcolor\":\"#E5ECF6\",\"radialaxis\":{\"gridcolor\":\"white\",\"linecolor\":\"white\",\"ticks\":\"\"}},\"scene\":{\"xaxis\":{\"backgroundcolor\":\"#E5ECF6\",\"gridcolor\":\"white\",\"gridwidth\":2,\"linecolor\":\"white\",\"showbackground\":true,\"ticks\":\"\",\"zerolinecolor\":\"white\"},\"yaxis\":{\"backgroundcolor\":\"#E5ECF6\",\"gridcolor\":\"white\",\"gridwidth\":2,\"linecolor\":\"white\",\"showbackground\":true,\"ticks\":\"\",\"zerolinecolor\":\"white\"},\"zaxis\":{\"backgroundcolor\":\"#E5ECF6\",\"gridcolor\":\"white\",\"gridwidth\":2,\"linecolor\":\"white\",\"showbackground\":true,\"ticks\":\"\",\"zerolinecolor\":\"white\"}},\"shapedefaults\":{\"line\":{\"color\":\"#2a3f5f\"}},\"ternary\":{\"aaxis\":{\"gridcolor\":\"white\",\"linecolor\":\"white\",\"ticks\":\"\"},\"baxis\":{\"gridcolor\":\"white\",\"linecolor\":\"white\",\"ticks\":\"\"},\"bgcolor\":\"#E5ECF6\",\"caxis\":{\"gridcolor\":\"white\",\"linecolor\":\"white\",\"ticks\":\"\"}},\"title\":{\"x\":0.05},\"xaxis\":{\"automargin\":true,\"gridcolor\":\"white\",\"linecolor\":\"white\",\"ticks\":\"\",\"title\":{\"standoff\":15},\"zerolinecolor\":\"white\",\"zerolinewidth\":2},\"yaxis\":{\"automargin\":true,\"gridcolor\":\"white\",\"linecolor\":\"white\",\"ticks\":\"\",\"title\":{\"standoff\":15},\"zerolinecolor\":\"white\",\"zerolinewidth\":2}}},\"xaxis\":{\"anchor\":\"y\",\"domain\":[0.0,1.0],\"title\":{\"text\":\"Sources\"}},\"yaxis\":{\"anchor\":\"x\",\"domain\":[0.0,1.0],\"title\":{\"text\":\"Politicization\"}},\"legend\":{\"title\":{\"text\":\"Year\"},\"tracegroupgap\":0},\"margin\":{\"t\":60}},                        {\"responsive\": true}                    ).then(function(){\n",
              "                            \n",
              "var gd = document.getElementById('a6434e1d-c15b-41ba-a8cc-d1a8ad86a51e');\n",
              "var x = new MutationObserver(function (mutations, observer) {{\n",
              "        var display = window.getComputedStyle(gd).display;\n",
              "        if (!display || display === 'none') {{\n",
              "            console.log([gd, 'removed!']);\n",
              "            Plotly.purge(gd);\n",
              "            observer.disconnect();\n",
              "        }}\n",
              "}});\n",
              "\n",
              "// Listen for the removal of the full notebook cells\n",
              "var notebookContainer = gd.closest('#notebook-container');\n",
              "if (notebookContainer) {{\n",
              "    x.observe(notebookContainer, {childList: true});\n",
              "}}\n",
              "\n",
              "// Listen for the clearing of the current output cell\n",
              "var outputEl = gd.closest('.output');\n",
              "if (outputEl) {{\n",
              "    x.observe(outputEl, {childList: true});\n",
              "}}\n",
              "\n",
              "                        })                };                            </script>        </div>\n",
              "</body>\n",
              "</html>"
            ]
          },
          "metadata": {}
        }
      ]
    },
    {
      "cell_type": "code",
      "source": [
        "save_plotly_fig(fig, 'stats_politicization.html')"
      ],
      "metadata": {
        "id": "8NvDrazmjybr"
      },
      "execution_count": 52,
      "outputs": []
    },
    {
      "cell_type": "markdown",
      "source": [
        "This plot displays the \"signed\" polarization. Positive means that more coverage was given to the right.\n",
        "\n",
        "> Observations:\n",
        ">\n",
        "> 1) We again don't really get what we hoped for. Breitbart isn't much different from other sources. We actually get unexpected left-bias in some sources.\n",
        ">\n",
        "> 2) In '17 and '18, all sources displayed info mostly about the right. Probably at the time they also had the most quotes from Trump.\n",
        ">\n",
        "> 3) Curiously, in '16 all sources mostly quoted the left."
      ],
      "metadata": {
        "id": "MWm51n9V2-ZF"
      }
    },
    {
      "cell_type": "code",
      "source": [
        "fig = px.scatter(stats_df.reset_index(), x='source', y='polarization_sgn',\n",
        "                 color='year', symbol='year', \n",
        "                 hover_data=['total_num'],\n",
        "                 labels={\n",
        "                     'polarization_sgn': 'Polarization',\n",
        "                     'source': 'Sources',\n",
        "                     'year': 'Year',\n",
        "                     'total_num': 'Article count',\n",
        "                 })\n",
        "fig.show()"
      ],
      "metadata": {
        "colab": {
          "base_uri": "https://localhost:8080/",
          "height": 542
        },
        "id": "1Ris8jmL0mEG",
        "outputId": "882ceb54-09da-4cc6-8755-ad862538981b"
      },
      "execution_count": 53,
      "outputs": [
        {
          "output_type": "display_data",
          "data": {
            "text/html": [
              "<html>\n",
              "<head><meta charset=\"utf-8\" /></head>\n",
              "<body>\n",
              "    <div>            <script src=\"https://cdnjs.cloudflare.com/ajax/libs/mathjax/2.7.5/MathJax.js?config=TeX-AMS-MML_SVG\"></script><script type=\"text/javascript\">if (window.MathJax) {MathJax.Hub.Config({SVG: {font: \"STIX-Web\"}});}</script>                <script type=\"text/javascript\">window.PlotlyConfig = {MathJaxConfig: 'local'};</script>\n",
              "        <script src=\"https://cdn.plot.ly/plotly-2.6.3.min.js\"></script>                <div id=\"0309b83a-f709-4be3-acae-f3384f558aa6\" class=\"plotly-graph-div\" style=\"height:525px; width:100%;\"></div>            <script type=\"text/javascript\">                                    window.PLOTLYENV=window.PLOTLYENV || {};                                    if (document.getElementById(\"0309b83a-f709-4be3-acae-f3384f558aa6\")) {                    Plotly.newPlot(                        \"0309b83a-f709-4be3-acae-f3384f558aa6\",                        [{\"customdata\":[[28623],[50593],[43592],[87303],[99497],[14523],[80986],[130202],[23017],[948],[9344],[70889],[40641],[50446],[23301],[3108],[58887],[46312]],\"hovertemplate\":\"Year=2015<br>Sources=%{x}<br>Polarization=%{y}<br>Article count=%{customdata[0]}<extra></extra>\",\"legendgroup\":\"2015\",\"marker\":{\"color\":\"#636efa\",\"symbol\":\"circle\"},\"mode\":\"markers\",\"name\":\"2015\",\"orientation\":\"v\",\"showlegend\":true,\"x\":[\"abcnews.com\",\"breitbart.com\",\"businessinsider.com\",\"cbsnews.com\",\"cnn.com\",\"dailycaller.com\",\"foxnews.com\",\"huffingtonpost.com\",\"nbcnews.com\",\"nypost.com\",\"nytimes.com\",\"politico.com\",\"thehill.com\",\"usatoday.com\",\"vice.com\",\"vox.com\",\"washingtonexaminer.com\",\"wsj.com\"],\"xaxis\":\"x\",\"y\":[-0.06476399560922064,0.17202922702217666,-0.0954429358784783,0.02643986317833036,0.0005453038433014812,0.0407591785936528,0.023669604962455126,-0.1508070481573507,-0.04989706891481227,-0.29729729729729737,-0.024793388429752095,0.05416799984942877,-0.0034375089518462465,-0.21122259858119768,-0.06890164845341731,-0.05515759312320917,0.07393815550782956,-0.12517791061770567],\"yaxis\":\"y\",\"type\":\"scatter\"},{\"customdata\":[[22961],[122906],[18533],[40801],[77967],[9360],[48583],[90891],[14133],[546],[161105],[13468],[23276],[59117],[13288],[4077],[54058],[11796]],\"hovertemplate\":\"Year=2016<br>Sources=%{x}<br>Polarization=%{y}<br>Article count=%{customdata[0]}<extra></extra>\",\"legendgroup\":\"2016\",\"marker\":{\"color\":\"#EF553B\",\"symbol\":\"diamond\"},\"mode\":\"markers\",\"name\":\"2016\",\"orientation\":\"v\",\"showlegend\":true,\"x\":[\"abcnews.com\",\"breitbart.com\",\"businessinsider.com\",\"cbsnews.com\",\"cnn.com\",\"dailycaller.com\",\"foxnews.com\",\"huffingtonpost.com\",\"nbcnews.com\",\"nypost.com\",\"nytimes.com\",\"politico.com\",\"thehill.com\",\"usatoday.com\",\"vice.com\",\"vox.com\",\"washingtonexaminer.com\",\"wsj.com\"],\"xaxis\":\"x\",\"y\":[-0.09774874606322176,-0.0621245131049053,-0.018056749785038684,-0.16960227272727274,-0.10111795332610934,-0.0671283963771977,-0.011689740533602277,-0.16298420194524088,-0.21647983694860967,-0.2822085889570552,-0.09796743088064658,-0.0031642116748499816,-0.05299091434273406,-0.12092336599114212,-0.10008779631255488,-0.1833144154370034,0.00440994487568902,-0.1276937184777625],\"yaxis\":\"y\",\"type\":\"scatter\"},{\"customdata\":[[382],[241616],[88013],[120249],[136178],[22949],[117216],[147026],[64235],[32552],[262475],[21499],[73853],[126532],[23701],[11488],[38380],[1463]],\"hovertemplate\":\"Year=2017<br>Sources=%{x}<br>Polarization=%{y}<br>Article count=%{customdata[0]}<extra></extra>\",\"legendgroup\":\"2017\",\"marker\":{\"color\":\"#00cc96\",\"symbol\":\"square\"},\"mode\":\"markers\",\"name\":\"2017\",\"orientation\":\"v\",\"showlegend\":true,\"x\":[\"abcnews.com\",\"breitbart.com\",\"businessinsider.com\",\"cbsnews.com\",\"cnn.com\",\"dailycaller.com\",\"foxnews.com\",\"huffingtonpost.com\",\"nbcnews.com\",\"nypost.com\",\"nytimes.com\",\"politico.com\",\"thehill.com\",\"usatoday.com\",\"vice.com\",\"vox.com\",\"washingtonexaminer.com\",\"wsj.com\"],\"xaxis\":\"x\",\"y\":[0.5899581589958159,0.3021578391429003,0.31977497859850795,0.4063123184423334,0.3246020943862671,0.2523622318780606,0.3357277942882571,0.15286775382553336,0.3240977234869517,0.2155249775650614,0.255923922709155,0.38430725730442983,0.3838132346046271,0.12755496630206614,0.39763024917232964,0.3494405707799578,0.4399136792604761,0.20715630885122405],\"yaxis\":\"y\",\"type\":\"scatter\"},{\"customdata\":[[10640],[314117],[117930],[129872],[119071],[34294],[132951],[43893],[74304],[30708],[149850],[26227],[83770],[100019],[16915],[17234],[71633],[7547]],\"hovertemplate\":\"Year=2018<br>Sources=%{x}<br>Polarization=%{y}<br>Article count=%{customdata[0]}<extra></extra>\",\"legendgroup\":\"2018\",\"marker\":{\"color\":\"#ab63fa\",\"symbol\":\"x\"},\"mode\":\"markers\",\"name\":\"2018\",\"orientation\":\"v\",\"showlegend\":true,\"x\":[\"abcnews.com\",\"breitbart.com\",\"businessinsider.com\",\"cbsnews.com\",\"cnn.com\",\"dailycaller.com\",\"foxnews.com\",\"huffingtonpost.com\",\"nbcnews.com\",\"nypost.com\",\"nytimes.com\",\"politico.com\",\"thehill.com\",\"usatoday.com\",\"vice.com\",\"vox.com\",\"washingtonexaminer.com\",\"wsj.com\"],\"xaxis\":\"x\",\"y\":[0.30550343964978116,0.298470998207116,0.3080506240112498,0.3601281116401435,0.310889711947468,0.2210622976173216,0.2828817012251276,0.08290781310053258,0.28849493487698985,0.2241174725600712,0.16382344416380273,0.30540304787315925,0.3578773606336418,0.27678325530156983,0.05896226415094341,0.3053842992190711,0.4199579423562883,0.2443811332700222],\"yaxis\":\"y\",\"type\":\"scatter\"},{\"customdata\":[[17938],[251801],[67809],[72570],[91660],[9425],[124217],[4737],[76523],[39728],[125398],[21536],[53842],[5038],[18704],[14109],[54143],[4545]],\"hovertemplate\":\"Year=2019<br>Sources=%{x}<br>Polarization=%{y}<br>Article count=%{customdata[0]}<extra></extra>\",\"legendgroup\":\"2019\",\"marker\":{\"color\":\"#FFA15A\",\"symbol\":\"cross\"},\"mode\":\"markers\",\"name\":\"2019\",\"orientation\":\"v\",\"showlegend\":true,\"x\":[\"abcnews.com\",\"breitbart.com\",\"businessinsider.com\",\"cbsnews.com\",\"cnn.com\",\"dailycaller.com\",\"foxnews.com\",\"huffingtonpost.com\",\"nbcnews.com\",\"nypost.com\",\"nytimes.com\",\"politico.com\",\"thehill.com\",\"usatoday.com\",\"vice.com\",\"vox.com\",\"washingtonexaminer.com\",\"wsj.com\"],\"xaxis\":\"x\",\"y\":[-0.04966708655749508,0.05306236164028738,0.020127915726109835,-0.06152094964496724,-0.04869219773895933,-0.0338954750375689,-0.017994284693695295,-0.06420068027210885,-0.04560652346474875,-0.10205283526838299,-0.05610054498943384,-0.0636450724464136,0.034358894268311735,0.17796610169491522,-0.12937433722163305,-0.09984267215297116,0.07211803310100351,-0.025499999999999967],\"yaxis\":\"y\",\"type\":\"scatter\"},{\"customdata\":[[5224],[55346],[15560],[17432],[22972],[5165],[38095],[2],[29748],[8128],[37824],[4583],[13159],[2046],[5853],[3602],[14306],[1161]],\"hovertemplate\":\"Year=2020<br>Sources=%{x}<br>Polarization=%{y}<br>Article count=%{customdata[0]}<extra></extra>\",\"legendgroup\":\"2020\",\"marker\":{\"color\":\"#19d3f3\",\"symbol\":\"circle\"},\"mode\":\"markers\",\"name\":\"2020\",\"orientation\":\"v\",\"showlegend\":true,\"x\":[\"abcnews.com\",\"breitbart.com\",\"businessinsider.com\",\"cbsnews.com\",\"cnn.com\",\"dailycaller.com\",\"foxnews.com\",\"huffingtonpost.com\",\"nbcnews.com\",\"nypost.com\",\"nytimes.com\",\"politico.com\",\"thehill.com\",\"usatoday.com\",\"vice.com\",\"vox.com\",\"washingtonexaminer.com\",\"wsj.com\"],\"xaxis\":\"x\",\"y\":[-0.13876013904982615,-0.028139968068121357,0.08705491852745928,-0.0634530250860797,-0.10309643591015377,0.004041764904008094,-0.012116277956036592,null,-0.34224121735863233,-0.14047287899860916,-0.049793563149778675,-0.15428408767435237,-0.020817774458551153,0.2028985507246377,-0.1533558305211849,-0.047767857142857195,0.02908111121434548,-0.18906250000000002],\"yaxis\":\"y\",\"type\":\"scatter\"},{\"customdata\":[[85768],[1036379],[351437],[468227],[547345],[95716],[542048],[416751],[281960],[112610],[745996],[158202],[288541],[343198],[101762],[53618],[291407],[72824]],\"hovertemplate\":\"Year=total<br>Sources=%{x}<br>Polarization=%{y}<br>Article count=%{customdata[0]}<extra></extra>\",\"legendgroup\":\"total\",\"marker\":{\"color\":\"#FF6692\",\"symbol\":\"diamond\"},\"mode\":\"markers\",\"name\":\"total\",\"orientation\":\"v\",\"showlegend\":true,\"x\":[\"abcnews.com\",\"breitbart.com\",\"businessinsider.com\",\"cbsnews.com\",\"cnn.com\",\"dailycaller.com\",\"foxnews.com\",\"huffingtonpost.com\",\"nbcnews.com\",\"nypost.com\",\"nytimes.com\",\"politico.com\",\"thehill.com\",\"usatoday.com\",\"vice.com\",\"vox.com\",\"washingtonexaminer.com\",\"wsj.com\"],\"xaxis\":\"x\",\"y\":[-0.011841006239866336,0.17436025263651794,0.1884618375382614,0.19170375276852059,0.12159539888474791,0.1355917941468504,0.14419261239990327,-0.007989450822215305,0.07912841851157765,0.0423598490143996,0.09121705488529125,0.11531737493275951,0.20036062300151242,0.05312216586611135,0.09087501171472306,0.12838294993234095,0.19130610524867347,-0.06490462334303265],\"yaxis\":\"y\",\"type\":\"scatter\"}],                        {\"template\":{\"data\":{\"bar\":[{\"error_x\":{\"color\":\"#2a3f5f\"},\"error_y\":{\"color\":\"#2a3f5f\"},\"marker\":{\"line\":{\"color\":\"#E5ECF6\",\"width\":0.5},\"pattern\":{\"fillmode\":\"overlay\",\"size\":10,\"solidity\":0.2}},\"type\":\"bar\"}],\"barpolar\":[{\"marker\":{\"line\":{\"color\":\"#E5ECF6\",\"width\":0.5},\"pattern\":{\"fillmode\":\"overlay\",\"size\":10,\"solidity\":0.2}},\"type\":\"barpolar\"}],\"carpet\":[{\"aaxis\":{\"endlinecolor\":\"#2a3f5f\",\"gridcolor\":\"white\",\"linecolor\":\"white\",\"minorgridcolor\":\"white\",\"startlinecolor\":\"#2a3f5f\"},\"baxis\":{\"endlinecolor\":\"#2a3f5f\",\"gridcolor\":\"white\",\"linecolor\":\"white\",\"minorgridcolor\":\"white\",\"startlinecolor\":\"#2a3f5f\"},\"type\":\"carpet\"}],\"choropleth\":[{\"colorbar\":{\"outlinewidth\":0,\"ticks\":\"\"},\"type\":\"choropleth\"}],\"contour\":[{\"colorbar\":{\"outlinewidth\":0,\"ticks\":\"\"},\"colorscale\":[[0.0,\"#0d0887\"],[0.1111111111111111,\"#46039f\"],[0.2222222222222222,\"#7201a8\"],[0.3333333333333333,\"#9c179e\"],[0.4444444444444444,\"#bd3786\"],[0.5555555555555556,\"#d8576b\"],[0.6666666666666666,\"#ed7953\"],[0.7777777777777778,\"#fb9f3a\"],[0.8888888888888888,\"#fdca26\"],[1.0,\"#f0f921\"]],\"type\":\"contour\"}],\"contourcarpet\":[{\"colorbar\":{\"outlinewidth\":0,\"ticks\":\"\"},\"type\":\"contourcarpet\"}],\"heatmap\":[{\"colorbar\":{\"outlinewidth\":0,\"ticks\":\"\"},\"colorscale\":[[0.0,\"#0d0887\"],[0.1111111111111111,\"#46039f\"],[0.2222222222222222,\"#7201a8\"],[0.3333333333333333,\"#9c179e\"],[0.4444444444444444,\"#bd3786\"],[0.5555555555555556,\"#d8576b\"],[0.6666666666666666,\"#ed7953\"],[0.7777777777777778,\"#fb9f3a\"],[0.8888888888888888,\"#fdca26\"],[1.0,\"#f0f921\"]],\"type\":\"heatmap\"}],\"heatmapgl\":[{\"colorbar\":{\"outlinewidth\":0,\"ticks\":\"\"},\"colorscale\":[[0.0,\"#0d0887\"],[0.1111111111111111,\"#46039f\"],[0.2222222222222222,\"#7201a8\"],[0.3333333333333333,\"#9c179e\"],[0.4444444444444444,\"#bd3786\"],[0.5555555555555556,\"#d8576b\"],[0.6666666666666666,\"#ed7953\"],[0.7777777777777778,\"#fb9f3a\"],[0.8888888888888888,\"#fdca26\"],[1.0,\"#f0f921\"]],\"type\":\"heatmapgl\"}],\"histogram\":[{\"marker\":{\"pattern\":{\"fillmode\":\"overlay\",\"size\":10,\"solidity\":0.2}},\"type\":\"histogram\"}],\"histogram2d\":[{\"colorbar\":{\"outlinewidth\":0,\"ticks\":\"\"},\"colorscale\":[[0.0,\"#0d0887\"],[0.1111111111111111,\"#46039f\"],[0.2222222222222222,\"#7201a8\"],[0.3333333333333333,\"#9c179e\"],[0.4444444444444444,\"#bd3786\"],[0.5555555555555556,\"#d8576b\"],[0.6666666666666666,\"#ed7953\"],[0.7777777777777778,\"#fb9f3a\"],[0.8888888888888888,\"#fdca26\"],[1.0,\"#f0f921\"]],\"type\":\"histogram2d\"}],\"histogram2dcontour\":[{\"colorbar\":{\"outlinewidth\":0,\"ticks\":\"\"},\"colorscale\":[[0.0,\"#0d0887\"],[0.1111111111111111,\"#46039f\"],[0.2222222222222222,\"#7201a8\"],[0.3333333333333333,\"#9c179e\"],[0.4444444444444444,\"#bd3786\"],[0.5555555555555556,\"#d8576b\"],[0.6666666666666666,\"#ed7953\"],[0.7777777777777778,\"#fb9f3a\"],[0.8888888888888888,\"#fdca26\"],[1.0,\"#f0f921\"]],\"type\":\"histogram2dcontour\"}],\"mesh3d\":[{\"colorbar\":{\"outlinewidth\":0,\"ticks\":\"\"},\"type\":\"mesh3d\"}],\"parcoords\":[{\"line\":{\"colorbar\":{\"outlinewidth\":0,\"ticks\":\"\"}},\"type\":\"parcoords\"}],\"pie\":[{\"automargin\":true,\"type\":\"pie\"}],\"scatter\":[{\"marker\":{\"colorbar\":{\"outlinewidth\":0,\"ticks\":\"\"}},\"type\":\"scatter\"}],\"scatter3d\":[{\"line\":{\"colorbar\":{\"outlinewidth\":0,\"ticks\":\"\"}},\"marker\":{\"colorbar\":{\"outlinewidth\":0,\"ticks\":\"\"}},\"type\":\"scatter3d\"}],\"scattercarpet\":[{\"marker\":{\"colorbar\":{\"outlinewidth\":0,\"ticks\":\"\"}},\"type\":\"scattercarpet\"}],\"scattergeo\":[{\"marker\":{\"colorbar\":{\"outlinewidth\":0,\"ticks\":\"\"}},\"type\":\"scattergeo\"}],\"scattergl\":[{\"marker\":{\"colorbar\":{\"outlinewidth\":0,\"ticks\":\"\"}},\"type\":\"scattergl\"}],\"scattermapbox\":[{\"marker\":{\"colorbar\":{\"outlinewidth\":0,\"ticks\":\"\"}},\"type\":\"scattermapbox\"}],\"scatterpolar\":[{\"marker\":{\"colorbar\":{\"outlinewidth\":0,\"ticks\":\"\"}},\"type\":\"scatterpolar\"}],\"scatterpolargl\":[{\"marker\":{\"colorbar\":{\"outlinewidth\":0,\"ticks\":\"\"}},\"type\":\"scatterpolargl\"}],\"scatterternary\":[{\"marker\":{\"colorbar\":{\"outlinewidth\":0,\"ticks\":\"\"}},\"type\":\"scatterternary\"}],\"surface\":[{\"colorbar\":{\"outlinewidth\":0,\"ticks\":\"\"},\"colorscale\":[[0.0,\"#0d0887\"],[0.1111111111111111,\"#46039f\"],[0.2222222222222222,\"#7201a8\"],[0.3333333333333333,\"#9c179e\"],[0.4444444444444444,\"#bd3786\"],[0.5555555555555556,\"#d8576b\"],[0.6666666666666666,\"#ed7953\"],[0.7777777777777778,\"#fb9f3a\"],[0.8888888888888888,\"#fdca26\"],[1.0,\"#f0f921\"]],\"type\":\"surface\"}],\"table\":[{\"cells\":{\"fill\":{\"color\":\"#EBF0F8\"},\"line\":{\"color\":\"white\"}},\"header\":{\"fill\":{\"color\":\"#C8D4E3\"},\"line\":{\"color\":\"white\"}},\"type\":\"table\"}]},\"layout\":{\"annotationdefaults\":{\"arrowcolor\":\"#2a3f5f\",\"arrowhead\":0,\"arrowwidth\":1},\"autotypenumbers\":\"strict\",\"coloraxis\":{\"colorbar\":{\"outlinewidth\":0,\"ticks\":\"\"}},\"colorscale\":{\"diverging\":[[0,\"#8e0152\"],[0.1,\"#c51b7d\"],[0.2,\"#de77ae\"],[0.3,\"#f1b6da\"],[0.4,\"#fde0ef\"],[0.5,\"#f7f7f7\"],[0.6,\"#e6f5d0\"],[0.7,\"#b8e186\"],[0.8,\"#7fbc41\"],[0.9,\"#4d9221\"],[1,\"#276419\"]],\"sequential\":[[0.0,\"#0d0887\"],[0.1111111111111111,\"#46039f\"],[0.2222222222222222,\"#7201a8\"],[0.3333333333333333,\"#9c179e\"],[0.4444444444444444,\"#bd3786\"],[0.5555555555555556,\"#d8576b\"],[0.6666666666666666,\"#ed7953\"],[0.7777777777777778,\"#fb9f3a\"],[0.8888888888888888,\"#fdca26\"],[1.0,\"#f0f921\"]],\"sequentialminus\":[[0.0,\"#0d0887\"],[0.1111111111111111,\"#46039f\"],[0.2222222222222222,\"#7201a8\"],[0.3333333333333333,\"#9c179e\"],[0.4444444444444444,\"#bd3786\"],[0.5555555555555556,\"#d8576b\"],[0.6666666666666666,\"#ed7953\"],[0.7777777777777778,\"#fb9f3a\"],[0.8888888888888888,\"#fdca26\"],[1.0,\"#f0f921\"]]},\"colorway\":[\"#636efa\",\"#EF553B\",\"#00cc96\",\"#ab63fa\",\"#FFA15A\",\"#19d3f3\",\"#FF6692\",\"#B6E880\",\"#FF97FF\",\"#FECB52\"],\"font\":{\"color\":\"#2a3f5f\"},\"geo\":{\"bgcolor\":\"white\",\"lakecolor\":\"white\",\"landcolor\":\"#E5ECF6\",\"showlakes\":true,\"showland\":true,\"subunitcolor\":\"white\"},\"hoverlabel\":{\"align\":\"left\"},\"hovermode\":\"closest\",\"mapbox\":{\"style\":\"light\"},\"paper_bgcolor\":\"white\",\"plot_bgcolor\":\"#E5ECF6\",\"polar\":{\"angularaxis\":{\"gridcolor\":\"white\",\"linecolor\":\"white\",\"ticks\":\"\"},\"bgcolor\":\"#E5ECF6\",\"radialaxis\":{\"gridcolor\":\"white\",\"linecolor\":\"white\",\"ticks\":\"\"}},\"scene\":{\"xaxis\":{\"backgroundcolor\":\"#E5ECF6\",\"gridcolor\":\"white\",\"gridwidth\":2,\"linecolor\":\"white\",\"showbackground\":true,\"ticks\":\"\",\"zerolinecolor\":\"white\"},\"yaxis\":{\"backgroundcolor\":\"#E5ECF6\",\"gridcolor\":\"white\",\"gridwidth\":2,\"linecolor\":\"white\",\"showbackground\":true,\"ticks\":\"\",\"zerolinecolor\":\"white\"},\"zaxis\":{\"backgroundcolor\":\"#E5ECF6\",\"gridcolor\":\"white\",\"gridwidth\":2,\"linecolor\":\"white\",\"showbackground\":true,\"ticks\":\"\",\"zerolinecolor\":\"white\"}},\"shapedefaults\":{\"line\":{\"color\":\"#2a3f5f\"}},\"ternary\":{\"aaxis\":{\"gridcolor\":\"white\",\"linecolor\":\"white\",\"ticks\":\"\"},\"baxis\":{\"gridcolor\":\"white\",\"linecolor\":\"white\",\"ticks\":\"\"},\"bgcolor\":\"#E5ECF6\",\"caxis\":{\"gridcolor\":\"white\",\"linecolor\":\"white\",\"ticks\":\"\"}},\"title\":{\"x\":0.05},\"xaxis\":{\"automargin\":true,\"gridcolor\":\"white\",\"linecolor\":\"white\",\"ticks\":\"\",\"title\":{\"standoff\":15},\"zerolinecolor\":\"white\",\"zerolinewidth\":2},\"yaxis\":{\"automargin\":true,\"gridcolor\":\"white\",\"linecolor\":\"white\",\"ticks\":\"\",\"title\":{\"standoff\":15},\"zerolinecolor\":\"white\",\"zerolinewidth\":2}}},\"xaxis\":{\"anchor\":\"y\",\"domain\":[0.0,1.0],\"title\":{\"text\":\"Sources\"}},\"yaxis\":{\"anchor\":\"x\",\"domain\":[0.0,1.0],\"title\":{\"text\":\"Polarization\"}},\"legend\":{\"title\":{\"text\":\"Year\"},\"tracegroupgap\":0},\"margin\":{\"t\":60}},                        {\"responsive\": true}                    ).then(function(){\n",
              "                            \n",
              "var gd = document.getElementById('0309b83a-f709-4be3-acae-f3384f558aa6');\n",
              "var x = new MutationObserver(function (mutations, observer) {{\n",
              "        var display = window.getComputedStyle(gd).display;\n",
              "        if (!display || display === 'none') {{\n",
              "            console.log([gd, 'removed!']);\n",
              "            Plotly.purge(gd);\n",
              "            observer.disconnect();\n",
              "        }}\n",
              "}});\n",
              "\n",
              "// Listen for the removal of the full notebook cells\n",
              "var notebookContainer = gd.closest('#notebook-container');\n",
              "if (notebookContainer) {{\n",
              "    x.observe(notebookContainer, {childList: true});\n",
              "}}\n",
              "\n",
              "// Listen for the clearing of the current output cell\n",
              "var outputEl = gd.closest('.output');\n",
              "if (outputEl) {{\n",
              "    x.observe(outputEl, {childList: true});\n",
              "}}\n",
              "\n",
              "                        })                };                            </script>        </div>\n",
              "</body>\n",
              "</html>"
            ]
          },
          "metadata": {}
        }
      ]
    },
    {
      "cell_type": "code",
      "source": [
        "save_plotly_fig(fig, 'stats_polarization_sgn.html')"
      ],
      "metadata": {
        "id": "QPV_vf49j1_I"
      },
      "execution_count": 54,
      "outputs": []
    },
    {
      "cell_type": "markdown",
      "source": [
        "This plot displays absolute polarization."
      ],
      "metadata": {
        "id": "S-ZnKuhF3oQn"
      }
    },
    {
      "cell_type": "code",
      "source": [
        "fig = px.scatter(stats_df.reset_index(), x='source', y='polarization',\n",
        "                 color='year', symbol='year', \n",
        "                 hover_data=['total_num'],\n",
        "                 labels={\n",
        "                     'polarization': 'Polarization (absolute)',\n",
        "                     'source': 'Sources',\n",
        "                     'year': 'Year',\n",
        "                     'total_num': 'Article count',\n",
        "                 })\n",
        "fig.show()"
      ],
      "metadata": {
        "colab": {
          "base_uri": "https://localhost:8080/",
          "height": 542
        },
        "id": "OstJ4pf11scG",
        "outputId": "d2e1bad2-262b-4cdc-b61d-fbd117a5b1f0"
      },
      "execution_count": 55,
      "outputs": [
        {
          "output_type": "display_data",
          "data": {
            "text/html": [
              "<html>\n",
              "<head><meta charset=\"utf-8\" /></head>\n",
              "<body>\n",
              "    <div>            <script src=\"https://cdnjs.cloudflare.com/ajax/libs/mathjax/2.7.5/MathJax.js?config=TeX-AMS-MML_SVG\"></script><script type=\"text/javascript\">if (window.MathJax) {MathJax.Hub.Config({SVG: {font: \"STIX-Web\"}});}</script>                <script type=\"text/javascript\">window.PlotlyConfig = {MathJaxConfig: 'local'};</script>\n",
              "        <script src=\"https://cdn.plot.ly/plotly-2.6.3.min.js\"></script>                <div id=\"06e49a3d-a39e-4b12-96d1-4edbb793de52\" class=\"plotly-graph-div\" style=\"height:525px; width:100%;\"></div>            <script type=\"text/javascript\">                                    window.PLOTLYENV=window.PLOTLYENV || {};                                    if (document.getElementById(\"06e49a3d-a39e-4b12-96d1-4edbb793de52\")) {                    Plotly.newPlot(                        \"06e49a3d-a39e-4b12-96d1-4edbb793de52\",                        [{\"customdata\":[[28623],[50593],[43592],[87303],[99497],[14523],[80986],[130202],[23017],[948],[9344],[70889],[40641],[50446],[23301],[3108],[58887],[46312]],\"hovertemplate\":\"Year=2015<br>Sources=%{x}<br>Polarization (absolute)=%{y}<br>Article count=%{customdata[0]}<extra></extra>\",\"legendgroup\":\"2015\",\"marker\":{\"color\":\"#636efa\",\"symbol\":\"circle\"},\"mode\":\"markers\",\"name\":\"2015\",\"orientation\":\"v\",\"showlegend\":true,\"x\":[\"abcnews.com\",\"breitbart.com\",\"businessinsider.com\",\"cbsnews.com\",\"cnn.com\",\"dailycaller.com\",\"foxnews.com\",\"huffingtonpost.com\",\"nbcnews.com\",\"nypost.com\",\"nytimes.com\",\"politico.com\",\"thehill.com\",\"usatoday.com\",\"vice.com\",\"vox.com\",\"washingtonexaminer.com\",\"wsj.com\"],\"xaxis\":\"x\",\"y\":[0.06476399560922064,0.17202922702217666,0.0954429358784783,0.02643986317833036,0.0005453038433014812,0.0407591785936528,0.023669604962455126,0.1508070481573507,0.04989706891481227,0.29729729729729737,0.024793388429752095,0.05416799984942877,0.0034375089518462465,0.21122259858119768,0.06890164845341731,0.05515759312320917,0.07393815550782956,0.12517791061770567],\"yaxis\":\"y\",\"type\":\"scatter\"},{\"customdata\":[[22961],[122906],[18533],[40801],[77967],[9360],[48583],[90891],[14133],[546],[161105],[13468],[23276],[59117],[13288],[4077],[54058],[11796]],\"hovertemplate\":\"Year=2016<br>Sources=%{x}<br>Polarization (absolute)=%{y}<br>Article count=%{customdata[0]}<extra></extra>\",\"legendgroup\":\"2016\",\"marker\":{\"color\":\"#EF553B\",\"symbol\":\"diamond\"},\"mode\":\"markers\",\"name\":\"2016\",\"orientation\":\"v\",\"showlegend\":true,\"x\":[\"abcnews.com\",\"breitbart.com\",\"businessinsider.com\",\"cbsnews.com\",\"cnn.com\",\"dailycaller.com\",\"foxnews.com\",\"huffingtonpost.com\",\"nbcnews.com\",\"nypost.com\",\"nytimes.com\",\"politico.com\",\"thehill.com\",\"usatoday.com\",\"vice.com\",\"vox.com\",\"washingtonexaminer.com\",\"wsj.com\"],\"xaxis\":\"x\",\"y\":[0.09774874606322176,0.0621245131049053,0.018056749785038684,0.16960227272727274,0.10111795332610934,0.0671283963771977,0.011689740533602277,0.16298420194524088,0.21647983694860967,0.2822085889570552,0.09796743088064658,0.0031642116748499816,0.05299091434273406,0.12092336599114212,0.10008779631255488,0.1833144154370034,0.00440994487568902,0.1276937184777625],\"yaxis\":\"y\",\"type\":\"scatter\"},{\"customdata\":[[382],[241616],[88013],[120249],[136178],[22949],[117216],[147026],[64235],[32552],[262475],[21499],[73853],[126532],[23701],[11488],[38380],[1463]],\"hovertemplate\":\"Year=2017<br>Sources=%{x}<br>Polarization (absolute)=%{y}<br>Article count=%{customdata[0]}<extra></extra>\",\"legendgroup\":\"2017\",\"marker\":{\"color\":\"#00cc96\",\"symbol\":\"square\"},\"mode\":\"markers\",\"name\":\"2017\",\"orientation\":\"v\",\"showlegend\":true,\"x\":[\"abcnews.com\",\"breitbart.com\",\"businessinsider.com\",\"cbsnews.com\",\"cnn.com\",\"dailycaller.com\",\"foxnews.com\",\"huffingtonpost.com\",\"nbcnews.com\",\"nypost.com\",\"nytimes.com\",\"politico.com\",\"thehill.com\",\"usatoday.com\",\"vice.com\",\"vox.com\",\"washingtonexaminer.com\",\"wsj.com\"],\"xaxis\":\"x\",\"y\":[0.5899581589958159,0.3021578391429003,0.31977497859850795,0.4063123184423334,0.3246020943862671,0.2523622318780606,0.3357277942882571,0.15286775382553336,0.3240977234869517,0.2155249775650614,0.255923922709155,0.38430725730442983,0.3838132346046271,0.12755496630206614,0.39763024917232964,0.3494405707799578,0.4399136792604761,0.20715630885122405],\"yaxis\":\"y\",\"type\":\"scatter\"},{\"customdata\":[[10640],[314117],[117930],[129872],[119071],[34294],[132951],[43893],[74304],[30708],[149850],[26227],[83770],[100019],[16915],[17234],[71633],[7547]],\"hovertemplate\":\"Year=2018<br>Sources=%{x}<br>Polarization (absolute)=%{y}<br>Article count=%{customdata[0]}<extra></extra>\",\"legendgroup\":\"2018\",\"marker\":{\"color\":\"#ab63fa\",\"symbol\":\"x\"},\"mode\":\"markers\",\"name\":\"2018\",\"orientation\":\"v\",\"showlegend\":true,\"x\":[\"abcnews.com\",\"breitbart.com\",\"businessinsider.com\",\"cbsnews.com\",\"cnn.com\",\"dailycaller.com\",\"foxnews.com\",\"huffingtonpost.com\",\"nbcnews.com\",\"nypost.com\",\"nytimes.com\",\"politico.com\",\"thehill.com\",\"usatoday.com\",\"vice.com\",\"vox.com\",\"washingtonexaminer.com\",\"wsj.com\"],\"xaxis\":\"x\",\"y\":[0.30550343964978116,0.298470998207116,0.3080506240112498,0.3601281116401435,0.310889711947468,0.2210622976173216,0.2828817012251276,0.08290781310053258,0.28849493487698985,0.2241174725600712,0.16382344416380273,0.30540304787315925,0.3578773606336418,0.27678325530156983,0.05896226415094341,0.3053842992190711,0.4199579423562883,0.2443811332700222],\"yaxis\":\"y\",\"type\":\"scatter\"},{\"customdata\":[[17938],[251801],[67809],[72570],[91660],[9425],[124217],[4737],[76523],[39728],[125398],[21536],[53842],[5038],[18704],[14109],[54143],[4545]],\"hovertemplate\":\"Year=2019<br>Sources=%{x}<br>Polarization (absolute)=%{y}<br>Article count=%{customdata[0]}<extra></extra>\",\"legendgroup\":\"2019\",\"marker\":{\"color\":\"#FFA15A\",\"symbol\":\"cross\"},\"mode\":\"markers\",\"name\":\"2019\",\"orientation\":\"v\",\"showlegend\":true,\"x\":[\"abcnews.com\",\"breitbart.com\",\"businessinsider.com\",\"cbsnews.com\",\"cnn.com\",\"dailycaller.com\",\"foxnews.com\",\"huffingtonpost.com\",\"nbcnews.com\",\"nypost.com\",\"nytimes.com\",\"politico.com\",\"thehill.com\",\"usatoday.com\",\"vice.com\",\"vox.com\",\"washingtonexaminer.com\",\"wsj.com\"],\"xaxis\":\"x\",\"y\":[0.04966708655749508,0.05306236164028738,0.020127915726109835,0.06152094964496724,0.04869219773895933,0.0338954750375689,0.017994284693695295,0.06420068027210885,0.04560652346474875,0.10205283526838299,0.05610054498943384,0.0636450724464136,0.034358894268311735,0.17796610169491522,0.12937433722163305,0.09984267215297116,0.07211803310100351,0.025499999999999967],\"yaxis\":\"y\",\"type\":\"scatter\"},{\"customdata\":[[5224],[55346],[15560],[17432],[22972],[5165],[38095],[2],[29748],[8128],[37824],[4583],[13159],[2046],[5853],[3602],[14306],[1161]],\"hovertemplate\":\"Year=2020<br>Sources=%{x}<br>Polarization (absolute)=%{y}<br>Article count=%{customdata[0]}<extra></extra>\",\"legendgroup\":\"2020\",\"marker\":{\"color\":\"#19d3f3\",\"symbol\":\"circle\"},\"mode\":\"markers\",\"name\":\"2020\",\"orientation\":\"v\",\"showlegend\":true,\"x\":[\"abcnews.com\",\"breitbart.com\",\"businessinsider.com\",\"cbsnews.com\",\"cnn.com\",\"dailycaller.com\",\"foxnews.com\",\"huffingtonpost.com\",\"nbcnews.com\",\"nypost.com\",\"nytimes.com\",\"politico.com\",\"thehill.com\",\"usatoday.com\",\"vice.com\",\"vox.com\",\"washingtonexaminer.com\",\"wsj.com\"],\"xaxis\":\"x\",\"y\":[0.13876013904982615,0.028139968068121357,0.08705491852745928,0.0634530250860797,0.10309643591015377,0.004041764904008094,0.012116277956036592,null,0.34224121735863233,0.14047287899860916,0.049793563149778675,0.15428408767435237,0.020817774458551153,0.2028985507246377,0.1533558305211849,0.047767857142857195,0.02908111121434548,0.18906250000000002],\"yaxis\":\"y\",\"type\":\"scatter\"},{\"customdata\":[[85768],[1036379],[351437],[468227],[547345],[95716],[542048],[416751],[281960],[112610],[745996],[158202],[288541],[343198],[101762],[53618],[291407],[72824]],\"hovertemplate\":\"Year=total<br>Sources=%{x}<br>Polarization (absolute)=%{y}<br>Article count=%{customdata[0]}<extra></extra>\",\"legendgroup\":\"total\",\"marker\":{\"color\":\"#FF6692\",\"symbol\":\"diamond\"},\"mode\":\"markers\",\"name\":\"total\",\"orientation\":\"v\",\"showlegend\":true,\"x\":[\"abcnews.com\",\"breitbart.com\",\"businessinsider.com\",\"cbsnews.com\",\"cnn.com\",\"dailycaller.com\",\"foxnews.com\",\"huffingtonpost.com\",\"nbcnews.com\",\"nypost.com\",\"nytimes.com\",\"politico.com\",\"thehill.com\",\"usatoday.com\",\"vice.com\",\"vox.com\",\"washingtonexaminer.com\",\"wsj.com\"],\"xaxis\":\"x\",\"y\":[0.011841006239866336,0.17436025263651794,0.1884618375382614,0.19170375276852059,0.12159539888474791,0.1355917941468504,0.14419261239990327,0.007989450822215305,0.07912841851157765,0.0423598490143996,0.09121705488529125,0.11531737493275951,0.20036062300151242,0.05312216586611135,0.09087501171472306,0.12838294993234095,0.19130610524867347,0.06490462334303265],\"yaxis\":\"y\",\"type\":\"scatter\"}],                        {\"template\":{\"data\":{\"bar\":[{\"error_x\":{\"color\":\"#2a3f5f\"},\"error_y\":{\"color\":\"#2a3f5f\"},\"marker\":{\"line\":{\"color\":\"#E5ECF6\",\"width\":0.5},\"pattern\":{\"fillmode\":\"overlay\",\"size\":10,\"solidity\":0.2}},\"type\":\"bar\"}],\"barpolar\":[{\"marker\":{\"line\":{\"color\":\"#E5ECF6\",\"width\":0.5},\"pattern\":{\"fillmode\":\"overlay\",\"size\":10,\"solidity\":0.2}},\"type\":\"barpolar\"}],\"carpet\":[{\"aaxis\":{\"endlinecolor\":\"#2a3f5f\",\"gridcolor\":\"white\",\"linecolor\":\"white\",\"minorgridcolor\":\"white\",\"startlinecolor\":\"#2a3f5f\"},\"baxis\":{\"endlinecolor\":\"#2a3f5f\",\"gridcolor\":\"white\",\"linecolor\":\"white\",\"minorgridcolor\":\"white\",\"startlinecolor\":\"#2a3f5f\"},\"type\":\"carpet\"}],\"choropleth\":[{\"colorbar\":{\"outlinewidth\":0,\"ticks\":\"\"},\"type\":\"choropleth\"}],\"contour\":[{\"colorbar\":{\"outlinewidth\":0,\"ticks\":\"\"},\"colorscale\":[[0.0,\"#0d0887\"],[0.1111111111111111,\"#46039f\"],[0.2222222222222222,\"#7201a8\"],[0.3333333333333333,\"#9c179e\"],[0.4444444444444444,\"#bd3786\"],[0.5555555555555556,\"#d8576b\"],[0.6666666666666666,\"#ed7953\"],[0.7777777777777778,\"#fb9f3a\"],[0.8888888888888888,\"#fdca26\"],[1.0,\"#f0f921\"]],\"type\":\"contour\"}],\"contourcarpet\":[{\"colorbar\":{\"outlinewidth\":0,\"ticks\":\"\"},\"type\":\"contourcarpet\"}],\"heatmap\":[{\"colorbar\":{\"outlinewidth\":0,\"ticks\":\"\"},\"colorscale\":[[0.0,\"#0d0887\"],[0.1111111111111111,\"#46039f\"],[0.2222222222222222,\"#7201a8\"],[0.3333333333333333,\"#9c179e\"],[0.4444444444444444,\"#bd3786\"],[0.5555555555555556,\"#d8576b\"],[0.6666666666666666,\"#ed7953\"],[0.7777777777777778,\"#fb9f3a\"],[0.8888888888888888,\"#fdca26\"],[1.0,\"#f0f921\"]],\"type\":\"heatmap\"}],\"heatmapgl\":[{\"colorbar\":{\"outlinewidth\":0,\"ticks\":\"\"},\"colorscale\":[[0.0,\"#0d0887\"],[0.1111111111111111,\"#46039f\"],[0.2222222222222222,\"#7201a8\"],[0.3333333333333333,\"#9c179e\"],[0.4444444444444444,\"#bd3786\"],[0.5555555555555556,\"#d8576b\"],[0.6666666666666666,\"#ed7953\"],[0.7777777777777778,\"#fb9f3a\"],[0.8888888888888888,\"#fdca26\"],[1.0,\"#f0f921\"]],\"type\":\"heatmapgl\"}],\"histogram\":[{\"marker\":{\"pattern\":{\"fillmode\":\"overlay\",\"size\":10,\"solidity\":0.2}},\"type\":\"histogram\"}],\"histogram2d\":[{\"colorbar\":{\"outlinewidth\":0,\"ticks\":\"\"},\"colorscale\":[[0.0,\"#0d0887\"],[0.1111111111111111,\"#46039f\"],[0.2222222222222222,\"#7201a8\"],[0.3333333333333333,\"#9c179e\"],[0.4444444444444444,\"#bd3786\"],[0.5555555555555556,\"#d8576b\"],[0.6666666666666666,\"#ed7953\"],[0.7777777777777778,\"#fb9f3a\"],[0.8888888888888888,\"#fdca26\"],[1.0,\"#f0f921\"]],\"type\":\"histogram2d\"}],\"histogram2dcontour\":[{\"colorbar\":{\"outlinewidth\":0,\"ticks\":\"\"},\"colorscale\":[[0.0,\"#0d0887\"],[0.1111111111111111,\"#46039f\"],[0.2222222222222222,\"#7201a8\"],[0.3333333333333333,\"#9c179e\"],[0.4444444444444444,\"#bd3786\"],[0.5555555555555556,\"#d8576b\"],[0.6666666666666666,\"#ed7953\"],[0.7777777777777778,\"#fb9f3a\"],[0.8888888888888888,\"#fdca26\"],[1.0,\"#f0f921\"]],\"type\":\"histogram2dcontour\"}],\"mesh3d\":[{\"colorbar\":{\"outlinewidth\":0,\"ticks\":\"\"},\"type\":\"mesh3d\"}],\"parcoords\":[{\"line\":{\"colorbar\":{\"outlinewidth\":0,\"ticks\":\"\"}},\"type\":\"parcoords\"}],\"pie\":[{\"automargin\":true,\"type\":\"pie\"}],\"scatter\":[{\"marker\":{\"colorbar\":{\"outlinewidth\":0,\"ticks\":\"\"}},\"type\":\"scatter\"}],\"scatter3d\":[{\"line\":{\"colorbar\":{\"outlinewidth\":0,\"ticks\":\"\"}},\"marker\":{\"colorbar\":{\"outlinewidth\":0,\"ticks\":\"\"}},\"type\":\"scatter3d\"}],\"scattercarpet\":[{\"marker\":{\"colorbar\":{\"outlinewidth\":0,\"ticks\":\"\"}},\"type\":\"scattercarpet\"}],\"scattergeo\":[{\"marker\":{\"colorbar\":{\"outlinewidth\":0,\"ticks\":\"\"}},\"type\":\"scattergeo\"}],\"scattergl\":[{\"marker\":{\"colorbar\":{\"outlinewidth\":0,\"ticks\":\"\"}},\"type\":\"scattergl\"}],\"scattermapbox\":[{\"marker\":{\"colorbar\":{\"outlinewidth\":0,\"ticks\":\"\"}},\"type\":\"scattermapbox\"}],\"scatterpolar\":[{\"marker\":{\"colorbar\":{\"outlinewidth\":0,\"ticks\":\"\"}},\"type\":\"scatterpolar\"}],\"scatterpolargl\":[{\"marker\":{\"colorbar\":{\"outlinewidth\":0,\"ticks\":\"\"}},\"type\":\"scatterpolargl\"}],\"scatterternary\":[{\"marker\":{\"colorbar\":{\"outlinewidth\":0,\"ticks\":\"\"}},\"type\":\"scatterternary\"}],\"surface\":[{\"colorbar\":{\"outlinewidth\":0,\"ticks\":\"\"},\"colorscale\":[[0.0,\"#0d0887\"],[0.1111111111111111,\"#46039f\"],[0.2222222222222222,\"#7201a8\"],[0.3333333333333333,\"#9c179e\"],[0.4444444444444444,\"#bd3786\"],[0.5555555555555556,\"#d8576b\"],[0.6666666666666666,\"#ed7953\"],[0.7777777777777778,\"#fb9f3a\"],[0.8888888888888888,\"#fdca26\"],[1.0,\"#f0f921\"]],\"type\":\"surface\"}],\"table\":[{\"cells\":{\"fill\":{\"color\":\"#EBF0F8\"},\"line\":{\"color\":\"white\"}},\"header\":{\"fill\":{\"color\":\"#C8D4E3\"},\"line\":{\"color\":\"white\"}},\"type\":\"table\"}]},\"layout\":{\"annotationdefaults\":{\"arrowcolor\":\"#2a3f5f\",\"arrowhead\":0,\"arrowwidth\":1},\"autotypenumbers\":\"strict\",\"coloraxis\":{\"colorbar\":{\"outlinewidth\":0,\"ticks\":\"\"}},\"colorscale\":{\"diverging\":[[0,\"#8e0152\"],[0.1,\"#c51b7d\"],[0.2,\"#de77ae\"],[0.3,\"#f1b6da\"],[0.4,\"#fde0ef\"],[0.5,\"#f7f7f7\"],[0.6,\"#e6f5d0\"],[0.7,\"#b8e186\"],[0.8,\"#7fbc41\"],[0.9,\"#4d9221\"],[1,\"#276419\"]],\"sequential\":[[0.0,\"#0d0887\"],[0.1111111111111111,\"#46039f\"],[0.2222222222222222,\"#7201a8\"],[0.3333333333333333,\"#9c179e\"],[0.4444444444444444,\"#bd3786\"],[0.5555555555555556,\"#d8576b\"],[0.6666666666666666,\"#ed7953\"],[0.7777777777777778,\"#fb9f3a\"],[0.8888888888888888,\"#fdca26\"],[1.0,\"#f0f921\"]],\"sequentialminus\":[[0.0,\"#0d0887\"],[0.1111111111111111,\"#46039f\"],[0.2222222222222222,\"#7201a8\"],[0.3333333333333333,\"#9c179e\"],[0.4444444444444444,\"#bd3786\"],[0.5555555555555556,\"#d8576b\"],[0.6666666666666666,\"#ed7953\"],[0.7777777777777778,\"#fb9f3a\"],[0.8888888888888888,\"#fdca26\"],[1.0,\"#f0f921\"]]},\"colorway\":[\"#636efa\",\"#EF553B\",\"#00cc96\",\"#ab63fa\",\"#FFA15A\",\"#19d3f3\",\"#FF6692\",\"#B6E880\",\"#FF97FF\",\"#FECB52\"],\"font\":{\"color\":\"#2a3f5f\"},\"geo\":{\"bgcolor\":\"white\",\"lakecolor\":\"white\",\"landcolor\":\"#E5ECF6\",\"showlakes\":true,\"showland\":true,\"subunitcolor\":\"white\"},\"hoverlabel\":{\"align\":\"left\"},\"hovermode\":\"closest\",\"mapbox\":{\"style\":\"light\"},\"paper_bgcolor\":\"white\",\"plot_bgcolor\":\"#E5ECF6\",\"polar\":{\"angularaxis\":{\"gridcolor\":\"white\",\"linecolor\":\"white\",\"ticks\":\"\"},\"bgcolor\":\"#E5ECF6\",\"radialaxis\":{\"gridcolor\":\"white\",\"linecolor\":\"white\",\"ticks\":\"\"}},\"scene\":{\"xaxis\":{\"backgroundcolor\":\"#E5ECF6\",\"gridcolor\":\"white\",\"gridwidth\":2,\"linecolor\":\"white\",\"showbackground\":true,\"ticks\":\"\",\"zerolinecolor\":\"white\"},\"yaxis\":{\"backgroundcolor\":\"#E5ECF6\",\"gridcolor\":\"white\",\"gridwidth\":2,\"linecolor\":\"white\",\"showbackground\":true,\"ticks\":\"\",\"zerolinecolor\":\"white\"},\"zaxis\":{\"backgroundcolor\":\"#E5ECF6\",\"gridcolor\":\"white\",\"gridwidth\":2,\"linecolor\":\"white\",\"showbackground\":true,\"ticks\":\"\",\"zerolinecolor\":\"white\"}},\"shapedefaults\":{\"line\":{\"color\":\"#2a3f5f\"}},\"ternary\":{\"aaxis\":{\"gridcolor\":\"white\",\"linecolor\":\"white\",\"ticks\":\"\"},\"baxis\":{\"gridcolor\":\"white\",\"linecolor\":\"white\",\"ticks\":\"\"},\"bgcolor\":\"#E5ECF6\",\"caxis\":{\"gridcolor\":\"white\",\"linecolor\":\"white\",\"ticks\":\"\"}},\"title\":{\"x\":0.05},\"xaxis\":{\"automargin\":true,\"gridcolor\":\"white\",\"linecolor\":\"white\",\"ticks\":\"\",\"title\":{\"standoff\":15},\"zerolinecolor\":\"white\",\"zerolinewidth\":2},\"yaxis\":{\"automargin\":true,\"gridcolor\":\"white\",\"linecolor\":\"white\",\"ticks\":\"\",\"title\":{\"standoff\":15},\"zerolinecolor\":\"white\",\"zerolinewidth\":2}}},\"xaxis\":{\"anchor\":\"y\",\"domain\":[0.0,1.0],\"title\":{\"text\":\"Sources\"}},\"yaxis\":{\"anchor\":\"x\",\"domain\":[0.0,1.0],\"title\":{\"text\":\"Polarization (absolute)\"}},\"legend\":{\"title\":{\"text\":\"Year\"},\"tracegroupgap\":0},\"margin\":{\"t\":60}},                        {\"responsive\": true}                    ).then(function(){\n",
              "                            \n",
              "var gd = document.getElementById('06e49a3d-a39e-4b12-96d1-4edbb793de52');\n",
              "var x = new MutationObserver(function (mutations, observer) {{\n",
              "        var display = window.getComputedStyle(gd).display;\n",
              "        if (!display || display === 'none') {{\n",
              "            console.log([gd, 'removed!']);\n",
              "            Plotly.purge(gd);\n",
              "            observer.disconnect();\n",
              "        }}\n",
              "}});\n",
              "\n",
              "// Listen for the removal of the full notebook cells\n",
              "var notebookContainer = gd.closest('#notebook-container');\n",
              "if (notebookContainer) {{\n",
              "    x.observe(notebookContainer, {childList: true});\n",
              "}}\n",
              "\n",
              "// Listen for the clearing of the current output cell\n",
              "var outputEl = gd.closest('.output');\n",
              "if (outputEl) {{\n",
              "    x.observe(outputEl, {childList: true});\n",
              "}}\n",
              "\n",
              "                        })                };                            </script>        </div>\n",
              "</body>\n",
              "</html>"
            ]
          },
          "metadata": {}
        }
      ]
    },
    {
      "cell_type": "code",
      "source": [
        "save_plotly_fig(fig, 'stats_polarization.html')"
      ],
      "metadata": {
        "id": "X2dInir8j6Wj"
      },
      "execution_count": 56,
      "outputs": []
    },
    {
      "cell_type": "markdown",
      "source": [
        "In order to explain oddities in polarization, we also plot the share of Trump quotes."
      ],
      "metadata": {
        "id": "FdmsJA78Ka6n"
      }
    },
    {
      "cell_type": "code",
      "source": [
        "fig = px.line(stats_df.reset_index(), x='year', y='trumpization',\n",
        "              color='source', symbol='source', symbol_sequence=['circle', 'diamond-x', 'x'],\n",
        "              hover_data=['total_num'],\n",
        "              labels={\n",
        "                  'trumpization': 'Share of D.Trump quotations',\n",
        "                  'source': 'Sources',\n",
        "                  'year': 'Year',\n",
        "                  'total_num': 'Article count',\n",
        "              })\n",
        "fig.show()"
      ],
      "metadata": {
        "colab": {
          "base_uri": "https://localhost:8080/",
          "height": 542
        },
        "id": "k8KVdcuEKhQy",
        "outputId": "9c0c497e-a8b0-414a-ff76-ab8ef02c18b2"
      },
      "execution_count": 57,
      "outputs": [
        {
          "output_type": "display_data",
          "data": {
            "text/html": [
              "<html>\n",
              "<head><meta charset=\"utf-8\" /></head>\n",
              "<body>\n",
              "    <div>            <script src=\"https://cdnjs.cloudflare.com/ajax/libs/mathjax/2.7.5/MathJax.js?config=TeX-AMS-MML_SVG\"></script><script type=\"text/javascript\">if (window.MathJax) {MathJax.Hub.Config({SVG: {font: \"STIX-Web\"}});}</script>                <script type=\"text/javascript\">window.PlotlyConfig = {MathJaxConfig: 'local'};</script>\n",
              "        <script src=\"https://cdn.plot.ly/plotly-2.6.3.min.js\"></script>                <div id=\"a09dde92-104e-4c53-a640-27dcaf167f3e\" class=\"plotly-graph-div\" style=\"height:525px; width:100%;\"></div>            <script type=\"text/javascript\">                                    window.PLOTLYENV=window.PLOTLYENV || {};                                    if (document.getElementById(\"a09dde92-104e-4c53-a640-27dcaf167f3e\")) {                    Plotly.newPlot(                        \"a09dde92-104e-4c53-a640-27dcaf167f3e\",                        [{\"customdata\":[[28623],[22961],[382],[10640],[17938],[5224],[85768]],\"hovertemplate\":\"Sources=abcnews.com<br>Year=%{x}<br>Share of D.Trump quotations=%{y}<br>Article count=%{customdata[0]}<extra></extra>\",\"legendgroup\":\"abcnews.com\",\"line\":{\"color\":\"#636efa\",\"dash\":\"solid\"},\"marker\":{\"symbol\":\"circle\"},\"mode\":\"markers+lines\",\"name\":\"abcnews.com\",\"orientation\":\"v\",\"showlegend\":true,\"x\":[\"2015\",\"2016\",\"2017\",\"2018\",\"2019\",\"2020\",\"total\"],\"xaxis\":\"x\",\"y\":[0.0006638018376829822,0.0020469491746875138,0.24607329842931938,0.15629699248120302,0.11511874233470844,0.09475497702909648,0.05110297546870628],\"yaxis\":\"y\",\"type\":\"scatter\"},{\"customdata\":[[50593],[122906],[241616],[314117],[251801],[55346],[1036379]],\"hovertemplate\":\"Sources=breitbart.com<br>Year=%{x}<br>Share of D.Trump quotations=%{y}<br>Article count=%{customdata[0]}<extra></extra>\",\"legendgroup\":\"breitbart.com\",\"line\":{\"color\":\"#EF553B\",\"dash\":\"solid\"},\"marker\":{\"symbol\":\"diamond-x\"},\"mode\":\"markers+lines\",\"name\":\"breitbart.com\",\"orientation\":\"v\",\"showlegend\":true,\"x\":[\"2015\",\"2016\",\"2017\",\"2018\",\"2019\",\"2020\",\"total\"],\"xaxis\":\"x\",\"y\":[0.0076097483841638175,0.005719818397799945,0.08728312694523542,0.09397772167695477,0.0797852272230849,0.06629205362627832,0.07280734171572369],\"yaxis\":\"y\",\"type\":\"scatter\"},{\"customdata\":[[43592],[18533],[88013],[117930],[67809],[15560],[351437]],\"hovertemplate\":\"Sources=businessinsider.com<br>Year=%{x}<br>Share of D.Trump quotations=%{y}<br>Article count=%{customdata[0]}<extra></extra>\",\"legendgroup\":\"businessinsider.com\",\"line\":{\"color\":\"#00cc96\",\"dash\":\"solid\"},\"marker\":{\"symbol\":\"x\"},\"mode\":\"markers+lines\",\"name\":\"businessinsider.com\",\"orientation\":\"v\",\"showlegend\":true,\"x\":[\"2015\",\"2016\",\"2017\",\"2018\",\"2019\",\"2020\",\"total\"],\"xaxis\":\"x\",\"y\":[0.003624518260231235,0.014892354179031998,0.09041846090918387,0.08488934113457136,0.07799849577489713,0.09440874035989717,0.07159462435657031],\"yaxis\":\"y\",\"type\":\"scatter\"},{\"customdata\":[[87303],[40801],[120249],[129872],[72570],[17432],[468227]],\"hovertemplate\":\"Sources=cbsnews.com<br>Year=%{x}<br>Share of D.Trump quotations=%{y}<br>Article count=%{customdata[0]}<extra></extra>\",\"legendgroup\":\"cbsnews.com\",\"line\":{\"color\":\"#ab63fa\",\"dash\":\"solid\"},\"marker\":{\"symbol\":\"circle\"},\"mode\":\"markers+lines\",\"name\":\"cbsnews.com\",\"orientation\":\"v\",\"showlegend\":true,\"x\":[\"2015\",\"2016\",\"2017\",\"2018\",\"2019\",\"2020\",\"total\"],\"xaxis\":\"x\",\"y\":[0.002462687421967172,0.008088037057915247,0.10710276176932865,0.1169613157570531,0.07941298057048367,0.08295089490592014,0.07650776226061291],\"yaxis\":\"y\",\"type\":\"scatter\"},{\"customdata\":[[99497],[77967],[136178],[119071],[91660],[22972],[547345]],\"hovertemplate\":\"Sources=cnn.com<br>Year=%{x}<br>Share of D.Trump quotations=%{y}<br>Article count=%{customdata[0]}<extra></extra>\",\"legendgroup\":\"cnn.com\",\"line\":{\"color\":\"#FFA15A\",\"dash\":\"solid\"},\"marker\":{\"symbol\":\"diamond-x\"},\"mode\":\"markers+lines\",\"name\":\"cnn.com\",\"orientation\":\"v\",\"showlegend\":true,\"x\":[\"2015\",\"2016\",\"2017\",\"2018\",\"2019\",\"2020\",\"total\"],\"xaxis\":\"x\",\"y\":[0.0023819813662723497,0.007875126656149397,0.1052152330038626,0.10555046988771405,0.08586078987562731,0.09272157409019677,0.06896381624021412],\"yaxis\":\"y\",\"type\":\"scatter\"},{\"customdata\":[[14523],[9360],[22949],[34294],[9425],[5165],[95716]],\"hovertemplate\":\"Sources=dailycaller.com<br>Year=%{x}<br>Share of D.Trump quotations=%{y}<br>Article count=%{customdata[0]}<extra></extra>\",\"legendgroup\":\"dailycaller.com\",\"line\":{\"color\":\"#19d3f3\",\"dash\":\"solid\"},\"marker\":{\"symbol\":\"x\"},\"mode\":\"markers+lines\",\"name\":\"dailycaller.com\",\"orientation\":\"v\",\"showlegend\":true,\"x\":[\"2015\",\"2016\",\"2017\",\"2018\",\"2019\",\"2020\",\"total\"],\"xaxis\":\"x\",\"y\":[0.0026165392825173864,0.007051282051282051,0.09033073336528825,0.06910829882778328,0.07363395225464191,0.07841239109390126,0.058987003217852815],\"yaxis\":\"y\",\"type\":\"scatter\"},{\"customdata\":[[80986],[48583],[117216],[132951],[124217],[38095],[542048]],\"hovertemplate\":\"Sources=foxnews.com<br>Year=%{x}<br>Share of D.Trump quotations=%{y}<br>Article count=%{customdata[0]}<extra></extra>\",\"legendgroup\":\"foxnews.com\",\"line\":{\"color\":\"#FF6692\",\"dash\":\"solid\"},\"marker\":{\"symbol\":\"circle\"},\"mode\":\"markers+lines\",\"name\":\"foxnews.com\",\"orientation\":\"v\",\"showlegend\":true,\"x\":[\"2015\",\"2016\",\"2017\",\"2018\",\"2019\",\"2020\",\"total\"],\"xaxis\":\"x\",\"y\":[0.0026053885856814757,0.009365415886215343,0.10827020202020202,0.09331257380538695,0.06708421552605522,0.06699041869011681,0.06761024853887479],\"yaxis\":\"y\",\"type\":\"scatter\"},{\"customdata\":[[130202],[90891],[147026],[43893],[4737],[2],[416751]],\"hovertemplate\":\"Sources=huffingtonpost.com<br>Year=%{x}<br>Share of D.Trump quotations=%{y}<br>Article count=%{customdata[0]}<extra></extra>\",\"legendgroup\":\"huffingtonpost.com\",\"line\":{\"color\":\"#B6E880\",\"dash\":\"solid\"},\"marker\":{\"symbol\":\"diamond-x\"},\"mode\":\"markers+lines\",\"name\":\"huffingtonpost.com\",\"orientation\":\"v\",\"showlegend\":true,\"x\":[\"2015\",\"2016\",\"2017\",\"2018\",\"2019\",\"2020\",\"total\"],\"xaxis\":\"x\",\"y\":[0.0020122578762230997,0.006931379344489554,0.0723001373906656,0.06235618435741462,0.07219759341355288,null,0.03503530885348805],\"yaxis\":\"y\",\"type\":\"scatter\"},{\"customdata\":[[23017],[14133],[64235],[74304],[76523],[29748],[281960]],\"hovertemplate\":\"Sources=nbcnews.com<br>Year=%{x}<br>Share of D.Trump quotations=%{y}<br>Article count=%{customdata[0]}<extra></extra>\",\"legendgroup\":\"nbcnews.com\",\"line\":{\"color\":\"#FF97FF\",\"dash\":\"solid\"},\"marker\":{\"symbol\":\"x\"},\"mode\":\"markers+lines\",\"name\":\"nbcnews.com\",\"orientation\":\"v\",\"showlegend\":true,\"x\":[\"2015\",\"2016\",\"2017\",\"2018\",\"2019\",\"2020\",\"total\"],\"xaxis\":\"x\",\"y\":[0.006734153017335013,0.020094813556923514,0.11965439402195065,0.11660206718346253,0.0929916495694105,0.06837434449374748,0.09199531848489148],\"yaxis\":\"y\",\"type\":\"scatter\"},{\"customdata\":[[948],[546],[32552],[30708],[39728],[8128],[112610]],\"hovertemplate\":\"Sources=nypost.com<br>Year=%{x}<br>Share of D.Trump quotations=%{y}<br>Article count=%{customdata[0]}<extra></extra>\",\"legendgroup\":\"nypost.com\",\"line\":{\"color\":\"#FECB52\",\"dash\":\"solid\"},\"marker\":{\"symbol\":\"circle\"},\"mode\":\"markers+lines\",\"name\":\"nypost.com\",\"orientation\":\"v\",\"showlegend\":true,\"x\":[\"2015\",\"2016\",\"2017\",\"2018\",\"2019\",\"2020\",\"total\"],\"xaxis\":\"x\",\"y\":[0.02109704641350211,0.047619047619047616,0.04187146719095601,0.05177803829620946,0.05079540877970198,0.053395669291338585,0.04840600301927005],\"yaxis\":\"y\",\"type\":\"scatter\"},{\"customdata\":[[9344],[161105],[262475],[149850],[125398],[37824],[745996]],\"hovertemplate\":\"Sources=nytimes.com<br>Year=%{x}<br>Share of D.Trump quotations=%{y}<br>Article count=%{customdata[0]}<extra></extra>\",\"legendgroup\":\"nytimes.com\",\"line\":{\"color\":\"#636efa\",\"dash\":\"solid\"},\"marker\":{\"symbol\":\"diamond-x\"},\"mode\":\"markers+lines\",\"name\":\"nytimes.com\",\"orientation\":\"v\",\"showlegend\":true,\"x\":[\"2015\",\"2016\",\"2017\",\"2018\",\"2019\",\"2020\",\"total\"],\"xaxis\":\"x\",\"y\":[0.031678082191780824,0.011594922566028367,0.06213163158396038,0.047127127127127126,0.04878865691637825,0.06117808798646362,0.04553107523364736],\"yaxis\":\"y\",\"type\":\"scatter\"},{\"customdata\":[[70889],[13468],[21499],[26227],[21536],[4583],[158202]],\"hovertemplate\":\"Sources=politico.com<br>Year=%{x}<br>Share of D.Trump quotations=%{y}<br>Article count=%{customdata[0]}<extra></extra>\",\"legendgroup\":\"politico.com\",\"line\":{\"color\":\"#EF553B\",\"dash\":\"solid\"},\"marker\":{\"symbol\":\"x\"},\"mode\":\"markers+lines\",\"name\":\"politico.com\",\"orientation\":\"v\",\"showlegend\":true,\"x\":[\"2015\",\"2016\",\"2017\",\"2018\",\"2019\",\"2020\",\"total\"],\"xaxis\":\"x\",\"y\":[0.0022147300709560017,0.00891000891000891,0.13242476394250896,0.13051435543523848,0.10837667161961367,0.08313331878682086,0.05854540397719372],\"yaxis\":\"y\",\"type\":\"scatter\"},{\"customdata\":[[40641],[23276],[73853],[83770],[53842],[13159],[288541]],\"hovertemplate\":\"Sources=thehill.com<br>Year=%{x}<br>Share of D.Trump quotations=%{y}<br>Article count=%{customdata[0]}<extra></extra>\",\"legendgroup\":\"thehill.com\",\"line\":{\"color\":\"#00cc96\",\"dash\":\"solid\"},\"marker\":{\"symbol\":\"circle\"},\"mode\":\"markers+lines\",\"name\":\"thehill.com\",\"orientation\":\"v\",\"showlegend\":true,\"x\":[\"2015\",\"2016\",\"2017\",\"2018\",\"2019\",\"2020\",\"total\"],\"xaxis\":\"x\",\"y\":[0.004773504588961886,0.015939164804949304,0.17551081201846913,0.17452548645099678,0.15653207533152558,0.13162094384071737,0.1327610287619437],\"yaxis\":\"y\",\"type\":\"scatter\"},{\"customdata\":[[50446],[59117],[126532],[100019],[5038],[2046],[343198]],\"hovertemplate\":\"Sources=usatoday.com<br>Year=%{x}<br>Share of D.Trump quotations=%{y}<br>Article count=%{customdata[0]}<extra></extra>\",\"legendgroup\":\"usatoday.com\",\"line\":{\"color\":\"#ab63fa\",\"dash\":\"solid\"},\"marker\":{\"symbol\":\"diamond-x\"},\"mode\":\"markers+lines\",\"name\":\"usatoday.com\",\"orientation\":\"v\",\"showlegend\":true,\"x\":[\"2015\",\"2016\",\"2017\",\"2018\",\"2019\",\"2020\",\"total\"],\"xaxis\":\"x\",\"y\":[0.0014470919398961266,0.001877632491499907,0.021757342016248855,0.03270378628060668,0.0029773719730051607,0.0009775171065493646,0.018138217588680585],\"yaxis\":\"y\",\"type\":\"scatter\"},{\"customdata\":[[23301],[13288],[23701],[16915],[18704],[5853],[101762]],\"hovertemplate\":\"Sources=vice.com<br>Year=%{x}<br>Share of D.Trump quotations=%{y}<br>Article count=%{customdata[0]}<extra></extra>\",\"legendgroup\":\"vice.com\",\"line\":{\"color\":\"#FFA15A\",\"dash\":\"solid\"},\"marker\":{\"symbol\":\"x\"},\"mode\":\"markers+lines\",\"name\":\"vice.com\",\"orientation\":\"v\",\"showlegend\":true,\"x\":[\"2015\",\"2016\",\"2017\",\"2018\",\"2019\",\"2020\",\"total\"],\"xaxis\":\"x\",\"y\":[0.0018024977468778164,0.005644190246839253,0.12130289861187292,0.014602423884126515,0.03967065868263473,0.06526567572185205,0.0428745504215719],\"yaxis\":\"y\",\"type\":\"scatter\"},{\"customdata\":[[3108],[4077],[11488],[17234],[14109],[3602],[53618]],\"hovertemplate\":\"Sources=vox.com<br>Year=%{x}<br>Share of D.Trump quotations=%{y}<br>Article count=%{customdata[0]}<extra></extra>\",\"legendgroup\":\"vox.com\",\"line\":{\"color\":\"#19d3f3\",\"dash\":\"solid\"},\"marker\":{\"symbol\":\"circle\"},\"mode\":\"markers+lines\",\"name\":\"vox.com\",\"orientation\":\"v\",\"showlegend\":true,\"x\":[\"2015\",\"2016\",\"2017\",\"2018\",\"2019\",\"2020\",\"total\"],\"xaxis\":\"x\",\"y\":[0.016087516087516088,0.024282560706401765,0.11098537604456825,0.12272252524080306,0.10546459706570274,0.14714047751249307,0.10364056846581372],\"yaxis\":\"y\",\"type\":\"scatter\"},{\"customdata\":[[58887],[54058],[38380],[71633],[54143],[14306],[291407]],\"hovertemplate\":\"Sources=washingtonexaminer.com<br>Year=%{x}<br>Share of D.Trump quotations=%{y}<br>Article count=%{customdata[0]}<extra></extra>\",\"legendgroup\":\"washingtonexaminer.com\",\"line\":{\"color\":\"#FF6692\",\"dash\":\"solid\"},\"marker\":{\"symbol\":\"diamond-x\"},\"mode\":\"markers+lines\",\"name\":\"washingtonexaminer.com\",\"orientation\":\"v\",\"showlegend\":true,\"x\":[\"2015\",\"2016\",\"2017\",\"2018\",\"2019\",\"2020\",\"total\"],\"xaxis\":\"x\",\"y\":[0.002751031636863824,0.004402678604461874,0.13441896821261073,0.1589490877109712,0.12581497146445525,0.10380260030756326,0.08662111754350445],\"yaxis\":\"y\",\"type\":\"scatter\"},{\"customdata\":[[46312],[11796],[1463],[7547],[4545],[1161],[72824]],\"hovertemplate\":\"Sources=wsj.com<br>Year=%{x}<br>Share of D.Trump quotations=%{y}<br>Article count=%{customdata[0]}<extra></extra>\",\"legendgroup\":\"wsj.com\",\"line\":{\"color\":\"#B6E880\",\"dash\":\"solid\"},\"marker\":{\"symbol\":\"x\"},\"mode\":\"markers+lines\",\"name\":\"wsj.com\",\"orientation\":\"v\",\"showlegend\":true,\"x\":[\"2015\",\"2016\",\"2017\",\"2018\",\"2019\",\"2020\",\"total\"],\"xaxis\":\"x\",\"y\":[0.0003022974607013301,0.001949813496100373,0.06015037593984962,0.05498873724658805,0.04664466446644665,0.04995693367786391,0.01112270679995606],\"yaxis\":\"y\",\"type\":\"scatter\"}],                        {\"template\":{\"data\":{\"bar\":[{\"error_x\":{\"color\":\"#2a3f5f\"},\"error_y\":{\"color\":\"#2a3f5f\"},\"marker\":{\"line\":{\"color\":\"#E5ECF6\",\"width\":0.5},\"pattern\":{\"fillmode\":\"overlay\",\"size\":10,\"solidity\":0.2}},\"type\":\"bar\"}],\"barpolar\":[{\"marker\":{\"line\":{\"color\":\"#E5ECF6\",\"width\":0.5},\"pattern\":{\"fillmode\":\"overlay\",\"size\":10,\"solidity\":0.2}},\"type\":\"barpolar\"}],\"carpet\":[{\"aaxis\":{\"endlinecolor\":\"#2a3f5f\",\"gridcolor\":\"white\",\"linecolor\":\"white\",\"minorgridcolor\":\"white\",\"startlinecolor\":\"#2a3f5f\"},\"baxis\":{\"endlinecolor\":\"#2a3f5f\",\"gridcolor\":\"white\",\"linecolor\":\"white\",\"minorgridcolor\":\"white\",\"startlinecolor\":\"#2a3f5f\"},\"type\":\"carpet\"}],\"choropleth\":[{\"colorbar\":{\"outlinewidth\":0,\"ticks\":\"\"},\"type\":\"choropleth\"}],\"contour\":[{\"colorbar\":{\"outlinewidth\":0,\"ticks\":\"\"},\"colorscale\":[[0.0,\"#0d0887\"],[0.1111111111111111,\"#46039f\"],[0.2222222222222222,\"#7201a8\"],[0.3333333333333333,\"#9c179e\"],[0.4444444444444444,\"#bd3786\"],[0.5555555555555556,\"#d8576b\"],[0.6666666666666666,\"#ed7953\"],[0.7777777777777778,\"#fb9f3a\"],[0.8888888888888888,\"#fdca26\"],[1.0,\"#f0f921\"]],\"type\":\"contour\"}],\"contourcarpet\":[{\"colorbar\":{\"outlinewidth\":0,\"ticks\":\"\"},\"type\":\"contourcarpet\"}],\"heatmap\":[{\"colorbar\":{\"outlinewidth\":0,\"ticks\":\"\"},\"colorscale\":[[0.0,\"#0d0887\"],[0.1111111111111111,\"#46039f\"],[0.2222222222222222,\"#7201a8\"],[0.3333333333333333,\"#9c179e\"],[0.4444444444444444,\"#bd3786\"],[0.5555555555555556,\"#d8576b\"],[0.6666666666666666,\"#ed7953\"],[0.7777777777777778,\"#fb9f3a\"],[0.8888888888888888,\"#fdca26\"],[1.0,\"#f0f921\"]],\"type\":\"heatmap\"}],\"heatmapgl\":[{\"colorbar\":{\"outlinewidth\":0,\"ticks\":\"\"},\"colorscale\":[[0.0,\"#0d0887\"],[0.1111111111111111,\"#46039f\"],[0.2222222222222222,\"#7201a8\"],[0.3333333333333333,\"#9c179e\"],[0.4444444444444444,\"#bd3786\"],[0.5555555555555556,\"#d8576b\"],[0.6666666666666666,\"#ed7953\"],[0.7777777777777778,\"#fb9f3a\"],[0.8888888888888888,\"#fdca26\"],[1.0,\"#f0f921\"]],\"type\":\"heatmapgl\"}],\"histogram\":[{\"marker\":{\"pattern\":{\"fillmode\":\"overlay\",\"size\":10,\"solidity\":0.2}},\"type\":\"histogram\"}],\"histogram2d\":[{\"colorbar\":{\"outlinewidth\":0,\"ticks\":\"\"},\"colorscale\":[[0.0,\"#0d0887\"],[0.1111111111111111,\"#46039f\"],[0.2222222222222222,\"#7201a8\"],[0.3333333333333333,\"#9c179e\"],[0.4444444444444444,\"#bd3786\"],[0.5555555555555556,\"#d8576b\"],[0.6666666666666666,\"#ed7953\"],[0.7777777777777778,\"#fb9f3a\"],[0.8888888888888888,\"#fdca26\"],[1.0,\"#f0f921\"]],\"type\":\"histogram2d\"}],\"histogram2dcontour\":[{\"colorbar\":{\"outlinewidth\":0,\"ticks\":\"\"},\"colorscale\":[[0.0,\"#0d0887\"],[0.1111111111111111,\"#46039f\"],[0.2222222222222222,\"#7201a8\"],[0.3333333333333333,\"#9c179e\"],[0.4444444444444444,\"#bd3786\"],[0.5555555555555556,\"#d8576b\"],[0.6666666666666666,\"#ed7953\"],[0.7777777777777778,\"#fb9f3a\"],[0.8888888888888888,\"#fdca26\"],[1.0,\"#f0f921\"]],\"type\":\"histogram2dcontour\"}],\"mesh3d\":[{\"colorbar\":{\"outlinewidth\":0,\"ticks\":\"\"},\"type\":\"mesh3d\"}],\"parcoords\":[{\"line\":{\"colorbar\":{\"outlinewidth\":0,\"ticks\":\"\"}},\"type\":\"parcoords\"}],\"pie\":[{\"automargin\":true,\"type\":\"pie\"}],\"scatter\":[{\"marker\":{\"colorbar\":{\"outlinewidth\":0,\"ticks\":\"\"}},\"type\":\"scatter\"}],\"scatter3d\":[{\"line\":{\"colorbar\":{\"outlinewidth\":0,\"ticks\":\"\"}},\"marker\":{\"colorbar\":{\"outlinewidth\":0,\"ticks\":\"\"}},\"type\":\"scatter3d\"}],\"scattercarpet\":[{\"marker\":{\"colorbar\":{\"outlinewidth\":0,\"ticks\":\"\"}},\"type\":\"scattercarpet\"}],\"scattergeo\":[{\"marker\":{\"colorbar\":{\"outlinewidth\":0,\"ticks\":\"\"}},\"type\":\"scattergeo\"}],\"scattergl\":[{\"marker\":{\"colorbar\":{\"outlinewidth\":0,\"ticks\":\"\"}},\"type\":\"scattergl\"}],\"scattermapbox\":[{\"marker\":{\"colorbar\":{\"outlinewidth\":0,\"ticks\":\"\"}},\"type\":\"scattermapbox\"}],\"scatterpolar\":[{\"marker\":{\"colorbar\":{\"outlinewidth\":0,\"ticks\":\"\"}},\"type\":\"scatterpolar\"}],\"scatterpolargl\":[{\"marker\":{\"colorbar\":{\"outlinewidth\":0,\"ticks\":\"\"}},\"type\":\"scatterpolargl\"}],\"scatterternary\":[{\"marker\":{\"colorbar\":{\"outlinewidth\":0,\"ticks\":\"\"}},\"type\":\"scatterternary\"}],\"surface\":[{\"colorbar\":{\"outlinewidth\":0,\"ticks\":\"\"},\"colorscale\":[[0.0,\"#0d0887\"],[0.1111111111111111,\"#46039f\"],[0.2222222222222222,\"#7201a8\"],[0.3333333333333333,\"#9c179e\"],[0.4444444444444444,\"#bd3786\"],[0.5555555555555556,\"#d8576b\"],[0.6666666666666666,\"#ed7953\"],[0.7777777777777778,\"#fb9f3a\"],[0.8888888888888888,\"#fdca26\"],[1.0,\"#f0f921\"]],\"type\":\"surface\"}],\"table\":[{\"cells\":{\"fill\":{\"color\":\"#EBF0F8\"},\"line\":{\"color\":\"white\"}},\"header\":{\"fill\":{\"color\":\"#C8D4E3\"},\"line\":{\"color\":\"white\"}},\"type\":\"table\"}]},\"layout\":{\"annotationdefaults\":{\"arrowcolor\":\"#2a3f5f\",\"arrowhead\":0,\"arrowwidth\":1},\"autotypenumbers\":\"strict\",\"coloraxis\":{\"colorbar\":{\"outlinewidth\":0,\"ticks\":\"\"}},\"colorscale\":{\"diverging\":[[0,\"#8e0152\"],[0.1,\"#c51b7d\"],[0.2,\"#de77ae\"],[0.3,\"#f1b6da\"],[0.4,\"#fde0ef\"],[0.5,\"#f7f7f7\"],[0.6,\"#e6f5d0\"],[0.7,\"#b8e186\"],[0.8,\"#7fbc41\"],[0.9,\"#4d9221\"],[1,\"#276419\"]],\"sequential\":[[0.0,\"#0d0887\"],[0.1111111111111111,\"#46039f\"],[0.2222222222222222,\"#7201a8\"],[0.3333333333333333,\"#9c179e\"],[0.4444444444444444,\"#bd3786\"],[0.5555555555555556,\"#d8576b\"],[0.6666666666666666,\"#ed7953\"],[0.7777777777777778,\"#fb9f3a\"],[0.8888888888888888,\"#fdca26\"],[1.0,\"#f0f921\"]],\"sequentialminus\":[[0.0,\"#0d0887\"],[0.1111111111111111,\"#46039f\"],[0.2222222222222222,\"#7201a8\"],[0.3333333333333333,\"#9c179e\"],[0.4444444444444444,\"#bd3786\"],[0.5555555555555556,\"#d8576b\"],[0.6666666666666666,\"#ed7953\"],[0.7777777777777778,\"#fb9f3a\"],[0.8888888888888888,\"#fdca26\"],[1.0,\"#f0f921\"]]},\"colorway\":[\"#636efa\",\"#EF553B\",\"#00cc96\",\"#ab63fa\",\"#FFA15A\",\"#19d3f3\",\"#FF6692\",\"#B6E880\",\"#FF97FF\",\"#FECB52\"],\"font\":{\"color\":\"#2a3f5f\"},\"geo\":{\"bgcolor\":\"white\",\"lakecolor\":\"white\",\"landcolor\":\"#E5ECF6\",\"showlakes\":true,\"showland\":true,\"subunitcolor\":\"white\"},\"hoverlabel\":{\"align\":\"left\"},\"hovermode\":\"closest\",\"mapbox\":{\"style\":\"light\"},\"paper_bgcolor\":\"white\",\"plot_bgcolor\":\"#E5ECF6\",\"polar\":{\"angularaxis\":{\"gridcolor\":\"white\",\"linecolor\":\"white\",\"ticks\":\"\"},\"bgcolor\":\"#E5ECF6\",\"radialaxis\":{\"gridcolor\":\"white\",\"linecolor\":\"white\",\"ticks\":\"\"}},\"scene\":{\"xaxis\":{\"backgroundcolor\":\"#E5ECF6\",\"gridcolor\":\"white\",\"gridwidth\":2,\"linecolor\":\"white\",\"showbackground\":true,\"ticks\":\"\",\"zerolinecolor\":\"white\"},\"yaxis\":{\"backgroundcolor\":\"#E5ECF6\",\"gridcolor\":\"white\",\"gridwidth\":2,\"linecolor\":\"white\",\"showbackground\":true,\"ticks\":\"\",\"zerolinecolor\":\"white\"},\"zaxis\":{\"backgroundcolor\":\"#E5ECF6\",\"gridcolor\":\"white\",\"gridwidth\":2,\"linecolor\":\"white\",\"showbackground\":true,\"ticks\":\"\",\"zerolinecolor\":\"white\"}},\"shapedefaults\":{\"line\":{\"color\":\"#2a3f5f\"}},\"ternary\":{\"aaxis\":{\"gridcolor\":\"white\",\"linecolor\":\"white\",\"ticks\":\"\"},\"baxis\":{\"gridcolor\":\"white\",\"linecolor\":\"white\",\"ticks\":\"\"},\"bgcolor\":\"#E5ECF6\",\"caxis\":{\"gridcolor\":\"white\",\"linecolor\":\"white\",\"ticks\":\"\"}},\"title\":{\"x\":0.05},\"xaxis\":{\"automargin\":true,\"gridcolor\":\"white\",\"linecolor\":\"white\",\"ticks\":\"\",\"title\":{\"standoff\":15},\"zerolinecolor\":\"white\",\"zerolinewidth\":2},\"yaxis\":{\"automargin\":true,\"gridcolor\":\"white\",\"linecolor\":\"white\",\"ticks\":\"\",\"title\":{\"standoff\":15},\"zerolinecolor\":\"white\",\"zerolinewidth\":2}}},\"xaxis\":{\"anchor\":\"y\",\"domain\":[0.0,1.0],\"title\":{\"text\":\"Year\"}},\"yaxis\":{\"anchor\":\"x\",\"domain\":[0.0,1.0],\"title\":{\"text\":\"Share of D.Trump quotations\"}},\"legend\":{\"title\":{\"text\":\"Sources\"},\"tracegroupgap\":0},\"margin\":{\"t\":60}},                        {\"responsive\": true}                    ).then(function(){\n",
              "                            \n",
              "var gd = document.getElementById('a09dde92-104e-4c53-a640-27dcaf167f3e');\n",
              "var x = new MutationObserver(function (mutations, observer) {{\n",
              "        var display = window.getComputedStyle(gd).display;\n",
              "        if (!display || display === 'none') {{\n",
              "            console.log([gd, 'removed!']);\n",
              "            Plotly.purge(gd);\n",
              "            observer.disconnect();\n",
              "        }}\n",
              "}});\n",
              "\n",
              "// Listen for the removal of the full notebook cells\n",
              "var notebookContainer = gd.closest('#notebook-container');\n",
              "if (notebookContainer) {{\n",
              "    x.observe(notebookContainer, {childList: true});\n",
              "}}\n",
              "\n",
              "// Listen for the clearing of the current output cell\n",
              "var outputEl = gd.closest('.output');\n",
              "if (outputEl) {{\n",
              "    x.observe(outputEl, {childList: true});\n",
              "}}\n",
              "\n",
              "                        })                };                            </script>        </div>\n",
              "</body>\n",
              "</html>"
            ]
          },
          "metadata": {}
        }
      ]
    },
    {
      "cell_type": "code",
      "source": [
        "save_plotly_fig(fig, 'stats_trumpization.html')"
      ],
      "metadata": {
        "id": "e_XV7jQpKa4O"
      },
      "execution_count": 58,
      "outputs": []
    },
    {
      "cell_type": "markdown",
      "source": [
        "And we do the same with Hilary Clinton quotes."
      ],
      "metadata": {
        "id": "zcLGpItGJlG7"
      }
    },
    {
      "cell_type": "code",
      "source": [
        "fig = px.line(stats_df.reset_index(), x='year', y='clintonization',\n",
        "              color='source', symbol='source', symbol_sequence=['circle', 'diamond-x', 'x'],\n",
        "              hover_data=['total_num'],\n",
        "              labels={\n",
        "                  'clintonization': 'Share of H.Clinton quotations',\n",
        "                  'source': 'Sources',\n",
        "                  'year': 'Year',\n",
        "                  'total_num': 'Article count',\n",
        "              })\n",
        "fig.show()"
      ],
      "metadata": {
        "colab": {
          "base_uri": "https://localhost:8080/",
          "height": 542
        },
        "outputId": "eeaa26d1-a609-48ea-c591-7eaea1d370cb",
        "id": "lxh6WhYVOj9g"
      },
      "execution_count": 59,
      "outputs": [
        {
          "output_type": "display_data",
          "data": {
            "text/html": [
              "<html>\n",
              "<head><meta charset=\"utf-8\" /></head>\n",
              "<body>\n",
              "    <div>            <script src=\"https://cdnjs.cloudflare.com/ajax/libs/mathjax/2.7.5/MathJax.js?config=TeX-AMS-MML_SVG\"></script><script type=\"text/javascript\">if (window.MathJax) {MathJax.Hub.Config({SVG: {font: \"STIX-Web\"}});}</script>                <script type=\"text/javascript\">window.PlotlyConfig = {MathJaxConfig: 'local'};</script>\n",
              "        <script src=\"https://cdn.plot.ly/plotly-2.6.3.min.js\"></script>                <div id=\"6f26e160-4447-4a11-ae8a-6434826ec1eb\" class=\"plotly-graph-div\" style=\"height:525px; width:100%;\"></div>            <script type=\"text/javascript\">                                    window.PLOTLYENV=window.PLOTLYENV || {};                                    if (document.getElementById(\"6f26e160-4447-4a11-ae8a-6434826ec1eb\")) {                    Plotly.newPlot(                        \"6f26e160-4447-4a11-ae8a-6434826ec1eb\",                        [{\"customdata\":[[28623],[22961],[382],[10640],[17938],[5224],[85768]],\"hovertemplate\":\"Sources=abcnews.com<br>Year=%{x}<br>Share of H.Clinton quotations=%{y}<br>Article count=%{customdata[0]}<extra></extra>\",\"legendgroup\":\"abcnews.com\",\"line\":{\"color\":\"#636efa\",\"dash\":\"solid\"},\"marker\":{\"symbol\":\"circle\"},\"mode\":\"markers+lines\",\"name\":\"abcnews.com\",\"orientation\":\"v\",\"showlegend\":true,\"x\":[\"2015\",\"2016\",\"2017\",\"2018\",\"2019\",\"2020\",\"total\"],\"xaxis\":\"x\",\"y\":[0.023582433707158578,0.022559993031662385,null,0.001973684210526316,0.0015609320994536737,0.002105666156202144,0.014609178248297734],\"yaxis\":\"y\",\"type\":\"scatter\"},{\"customdata\":[[50593],[122906],[241616],[314117],[251801],[55346],[1036379]],\"hovertemplate\":\"Sources=breitbart.com<br>Year=%{x}<br>Share of H.Clinton quotations=%{y}<br>Article count=%{customdata[0]}<extra></extra>\",\"legendgroup\":\"breitbart.com\",\"line\":{\"color\":\"#EF553B\",\"dash\":\"solid\"},\"marker\":{\"symbol\":\"diamond-x\"},\"mode\":\"markers+lines\",\"name\":\"breitbart.com\",\"orientation\":\"v\",\"showlegend\":true,\"x\":[\"2015\",\"2016\",\"2017\",\"2018\",\"2019\",\"2020\",\"total\"],\"xaxis\":\"x\",\"y\":[0.026406815172059377,0.030323987437553903,0.0027688563671280047,0.0013402649331300121,0.0014972140698408663,0.0031799949409171396,0.006470605830492513],\"yaxis\":\"y\",\"type\":\"scatter\"},{\"customdata\":[[43592],[18533],[88013],[117930],[67809],[15560],[351437]],\"hovertemplate\":\"Sources=businessinsider.com<br>Year=%{x}<br>Share of H.Clinton quotations=%{y}<br>Article count=%{customdata[0]}<extra></extra>\",\"legendgroup\":\"businessinsider.com\",\"line\":{\"color\":\"#00cc96\",\"dash\":\"solid\"},\"marker\":{\"symbol\":\"x\"},\"mode\":\"markers+lines\",\"name\":\"businessinsider.com\",\"orientation\":\"v\",\"showlegend\":true,\"x\":[\"2015\",\"2016\",\"2017\",\"2018\",\"2019\",\"2020\",\"total\"],\"xaxis\":\"x\",\"y\":[0.012181134153055606,0.02832784762315869,0.004749298399100133,0.0019163910794539134,0.001504225102862452,0.0021850899742930593,0.005224264946491121],\"yaxis\":\"y\",\"type\":\"scatter\"},{\"customdata\":[[87303],[40801],[120249],[129872],[72570],[17432],[468227]],\"hovertemplate\":\"Sources=cbsnews.com<br>Year=%{x}<br>Share of H.Clinton quotations=%{y}<br>Article count=%{customdata[0]}<extra></extra>\",\"legendgroup\":\"cbsnews.com\",\"line\":{\"color\":\"#ab63fa\",\"dash\":\"solid\"},\"marker\":{\"symbol\":\"circle\"},\"mode\":\"markers+lines\",\"name\":\"cbsnews.com\",\"orientation\":\"v\",\"showlegend\":true,\"x\":[\"2015\",\"2016\",\"2017\",\"2018\",\"2019\",\"2020\",\"total\"],\"xaxis\":\"x\",\"y\":[0.040662978362713764,0.0395578539741673,0.005089439413217573,0.0020327707281015154,0.0012539616921592946,0.002007801743919229,0.013168826231720939],\"yaxis\":\"y\",\"type\":\"scatter\"},{\"customdata\":[[99497],[77967],[136178],[119071],[91660],[22972],[547345]],\"hovertemplate\":\"Sources=cnn.com<br>Year=%{x}<br>Share of H.Clinton quotations=%{y}<br>Article count=%{customdata[0]}<extra></extra>\",\"legendgroup\":\"cnn.com\",\"line\":{\"color\":\"#FFA15A\",\"dash\":\"solid\"},\"marker\":{\"symbol\":\"diamond-x\"},\"mode\":\"markers+lines\",\"name\":\"cnn.com\",\"orientation\":\"v\",\"showlegend\":true,\"x\":[\"2015\",\"2016\",\"2017\",\"2018\",\"2019\",\"2020\",\"total\"],\"xaxis\":\"x\",\"y\":[0.031789903213162204,0.0428771146767222,0.008018916418217333,0.002687472180463757,0.0028038402792930394,0.0035695629461953682,0.015085549333601294],\"yaxis\":\"y\",\"type\":\"scatter\"},{\"customdata\":[[14523],[9360],[22949],[34294],[9425],[5165],[95716]],\"hovertemplate\":\"Sources=dailycaller.com<br>Year=%{x}<br>Share of H.Clinton quotations=%{y}<br>Article count=%{customdata[0]}<extra></extra>\",\"legendgroup\":\"dailycaller.com\",\"line\":{\"color\":\"#19d3f3\",\"dash\":\"solid\"},\"marker\":{\"symbol\":\"x\"},\"mode\":\"markers+lines\",\"name\":\"dailycaller.com\",\"orientation\":\"v\",\"showlegend\":true,\"x\":[\"2015\",\"2016\",\"2017\",\"2018\",\"2019\",\"2020\",\"total\"],\"xaxis\":\"x\",\"y\":[0.04337946705226193,0.04807692307692308,0.015251209203015382,0.010818218930425148,0.006153846153846154,0.0063891577928363984,0.01976681014668394],\"yaxis\":\"y\",\"type\":\"scatter\"},{\"customdata\":[[80986],[48583],[117216],[132951],[124217],[38095],[542048]],\"hovertemplate\":\"Sources=foxnews.com<br>Year=%{x}<br>Share of H.Clinton quotations=%{y}<br>Article count=%{customdata[0]}<extra></extra>\",\"legendgroup\":\"foxnews.com\",\"line\":{\"color\":\"#FF6692\",\"dash\":\"solid\"},\"marker\":{\"symbol\":\"circle\"},\"mode\":\"markers+lines\",\"name\":\"foxnews.com\",\"orientation\":\"v\",\"showlegend\":true,\"x\":[\"2015\",\"2016\",\"2017\",\"2018\",\"2019\",\"2020\",\"total\"],\"xaxis\":\"x\",\"y\":[0.014829723655940532,0.027108247740979356,0.01016926016926017,0.005114666305631398,0.0029303557484080278,0.003360021000131251,0.009006582442883286],\"yaxis\":\"y\",\"type\":\"scatter\"},{\"customdata\":[[130202],[90891],[147026],[43893],[4737],[2],[416751]],\"hovertemplate\":\"Sources=huffingtonpost.com<br>Year=%{x}<br>Share of H.Clinton quotations=%{y}<br>Article count=%{customdata[0]}<extra></extra>\",\"legendgroup\":\"huffingtonpost.com\",\"line\":{\"color\":\"#B6E880\",\"dash\":\"solid\"},\"marker\":{\"symbol\":\"diamond-x\"},\"mode\":\"markers+lines\",\"name\":\"huffingtonpost.com\",\"orientation\":\"v\",\"showlegend\":true,\"x\":[\"2015\",\"2016\",\"2017\",\"2018\",\"2019\",\"2020\",\"total\"],\"xaxis\":\"x\",\"y\":[0.017703261086619255,0.023126602193836575,0.006168976915647572,0.002141571548994145,0.0010555203715431707,null,0.012988571113206686],\"yaxis\":\"y\",\"type\":\"scatter\"},{\"customdata\":[[23017],[14133],[64235],[74304],[76523],[29748],[281960]],\"hovertemplate\":\"Sources=nbcnews.com<br>Year=%{x}<br>Share of H.Clinton quotations=%{y}<br>Article count=%{customdata[0]}<extra></extra>\",\"legendgroup\":\"nbcnews.com\",\"line\":{\"color\":\"#FF97FF\",\"dash\":\"solid\"},\"marker\":{\"symbol\":\"x\"},\"mode\":\"markers+lines\",\"name\":\"nbcnews.com\",\"orientation\":\"v\",\"showlegend\":true,\"x\":[\"2015\",\"2016\",\"2017\",\"2018\",\"2019\",\"2020\",\"total\"],\"xaxis\":\"x\",\"y\":[0.03327974975018465,0.03502441095308852,0.004903868607456994,0.001884151593453919,0.0018295153091227475,0.001344628210299852,0.006724358064973755],\"yaxis\":\"y\",\"type\":\"scatter\"},{\"customdata\":[[948],[546],[32552],[30708],[39728],[8128],[112610]],\"hovertemplate\":\"Sources=nypost.com<br>Year=%{x}<br>Share of H.Clinton quotations=%{y}<br>Article count=%{customdata[0]}<extra></extra>\",\"legendgroup\":\"nypost.com\",\"line\":{\"color\":\"#FECB52\",\"dash\":\"solid\"},\"marker\":{\"symbol\":\"circle\"},\"mode\":\"markers+lines\",\"name\":\"nypost.com\",\"orientation\":\"v\",\"showlegend\":true,\"x\":[\"2015\",\"2016\",\"2017\",\"2018\",\"2019\",\"2020\",\"total\"],\"xaxis\":\"x\",\"y\":[0.024261603375527425,0.018315018315018316,0.00347136888670435,0.0023446658851113715,0.0009313330648409182,0.004183070866141733,0.002566379540005328],\"yaxis\":\"y\",\"type\":\"scatter\"},{\"customdata\":[[9344],[161105],[262475],[149850],[125398],[37824],[745996]],\"hovertemplate\":\"Sources=nytimes.com<br>Year=%{x}<br>Share of H.Clinton quotations=%{y}<br>Article count=%{customdata[0]}<extra></extra>\",\"legendgroup\":\"nytimes.com\",\"line\":{\"color\":\"#636efa\",\"dash\":\"solid\"},\"marker\":{\"symbol\":\"diamond-x\"},\"mode\":\"markers+lines\",\"name\":\"nytimes.com\",\"orientation\":\"v\",\"showlegend\":true,\"x\":[\"2015\",\"2016\",\"2017\",\"2018\",\"2019\",\"2020\",\"total\"],\"xaxis\":\"x\",\"y\":[0.015410958904109588,0.014512274603519443,0.0022859319935231927,0.0009676343009676343,0.0008532831464616661,0.0006345177664974619,0.004501364618577044],\"yaxis\":\"y\",\"type\":\"scatter\"},{\"customdata\":[[70889],[13468],[21499],[26227],[21536],[4583],[158202]],\"hovertemplate\":\"Sources=politico.com<br>Year=%{x}<br>Share of H.Clinton quotations=%{y}<br>Article count=%{customdata[0]}<extra></extra>\",\"legendgroup\":\"politico.com\",\"line\":{\"color\":\"#EF553B\",\"dash\":\"solid\"},\"marker\":{\"symbol\":\"x\"},\"mode\":\"markers+lines\",\"name\":\"politico.com\",\"orientation\":\"v\",\"showlegend\":true,\"x\":[\"2015\",\"2016\",\"2017\",\"2018\",\"2019\",\"2020\",\"total\"],\"xaxis\":\"x\",\"y\":[0.042404322250278605,0.04061479061479061,0.008698078980417695,0.002669005223624509,0.0016716196136701336,0.00458215142919485,0.024443433079227823],\"yaxis\":\"y\",\"type\":\"scatter\"},{\"customdata\":[[40641],[23276],[73853],[83770],[53842],[13159],[288541]],\"hovertemplate\":\"Sources=thehill.com<br>Year=%{x}<br>Share of H.Clinton quotations=%{y}<br>Article count=%{customdata[0]}<extra></extra>\",\"legendgroup\":\"thehill.com\",\"line\":{\"color\":\"#00cc96\",\"dash\":\"solid\"},\"marker\":{\"symbol\":\"circle\"},\"mode\":\"markers+lines\",\"name\":\"thehill.com\",\"orientation\":\"v\",\"showlegend\":true,\"x\":[\"2015\",\"2016\",\"2017\",\"2018\",\"2019\",\"2020\",\"total\"],\"xaxis\":\"x\",\"y\":[0.02674638911444108,0.06006186630005156,0.009789717411614964,0.003569296884326131,0.0036031350989933508,0.0044076297591002355,0.01302761132733303],\"yaxis\":\"y\",\"type\":\"scatter\"},{\"customdata\":[[50446],[59117],[126532],[100019],[5038],[2046],[343198]],\"hovertemplate\":\"Sources=usatoday.com<br>Year=%{x}<br>Share of H.Clinton quotations=%{y}<br>Article count=%{customdata[0]}<extra></extra>\",\"legendgroup\":\"usatoday.com\",\"line\":{\"color\":\"#ab63fa\",\"dash\":\"solid\"},\"marker\":{\"symbol\":\"diamond-x\"},\"mode\":\"markers+lines\",\"name\":\"usatoday.com\",\"orientation\":\"v\",\"showlegend\":true,\"x\":[\"2015\",\"2016\",\"2017\",\"2018\",\"2019\",\"2020\",\"total\"],\"xaxis\":\"x\",\"y\":[0.00870237481663561,0.006208028147571765,0.0007824107735592578,0.0007298613263479939,null,null,0.002849666956101143],\"yaxis\":\"y\",\"type\":\"scatter\"},{\"customdata\":[[23301],[13288],[23701],[16915],[18704],[5853],[101762]],\"hovertemplate\":\"Sources=vice.com<br>Year=%{x}<br>Share of H.Clinton quotations=%{y}<br>Article count=%{customdata[0]}<extra></extra>\",\"legendgroup\":\"vice.com\",\"line\":{\"color\":\"#FFA15A\",\"dash\":\"solid\"},\"marker\":{\"symbol\":\"x\"},\"mode\":\"markers+lines\",\"name\":\"vice.com\",\"orientation\":\"v\",\"showlegend\":true,\"x\":[\"2015\",\"2016\",\"2017\",\"2018\",\"2019\",\"2020\",\"total\"],\"xaxis\":\"x\",\"y\":[0.004806660658340844,0.012040939193257074,0.001223577064258892,0.0015370972509606857,0.000588109495295124,0.005467281735861951,0.003635934828324915],\"yaxis\":\"y\",\"type\":\"scatter\"},{\"customdata\":[[3108],[4077],[11488],[17234],[14109],[3602],[53618]],\"hovertemplate\":\"Sources=vox.com<br>Year=%{x}<br>Share of H.Clinton quotations=%{y}<br>Article count=%{customdata[0]}<extra></extra>\",\"legendgroup\":\"vox.com\",\"line\":{\"color\":\"#19d3f3\",\"dash\":\"solid\"},\"marker\":{\"symbol\":\"circle\"},\"mode\":\"markers+lines\",\"name\":\"vox.com\",\"orientation\":\"v\",\"showlegend\":true,\"x\":[\"2015\",\"2016\",\"2017\",\"2018\",\"2019\",\"2020\",\"total\"],\"xaxis\":\"x\",\"y\":[0.03635778635778636,0.054942359578121165,0.006963788300835654,0.003423465243124057,0.0012757814161173718,0.003886729594669628,0.009474430228654556],\"yaxis\":\"y\",\"type\":\"scatter\"},{\"customdata\":[[58887],[54058],[38380],[71633],[54143],[14306],[291407]],\"hovertemplate\":\"Sources=washingtonexaminer.com<br>Year=%{x}<br>Share of H.Clinton quotations=%{y}<br>Article count=%{customdata[0]}<extra></extra>\",\"legendgroup\":\"washingtonexaminer.com\",\"line\":{\"color\":\"#FF6692\",\"dash\":\"solid\"},\"marker\":{\"symbol\":\"diamond-x\"},\"mode\":\"markers+lines\",\"name\":\"washingtonexaminer.com\",\"orientation\":\"v\",\"showlegend\":true,\"x\":[\"2015\",\"2016\",\"2017\",\"2018\",\"2019\",\"2020\",\"total\"],\"xaxis\":\"x\",\"y\":[0.05991135564725661,0.05880720707388361,0.01013548723293382,0.004969776499657979,0.004617402064902203,0.007689081504263945,0.026807866660718514],\"yaxis\":\"y\",\"type\":\"scatter\"},{\"customdata\":[[46312],[11796],[1463],[7547],[4545],[1161],[72824]],\"hovertemplate\":\"Sources=wsj.com<br>Year=%{x}<br>Share of H.Clinton quotations=%{y}<br>Article count=%{customdata[0]}<extra></extra>\",\"legendgroup\":\"wsj.com\",\"line\":{\"color\":\"#B6E880\",\"dash\":\"solid\"},\"marker\":{\"symbol\":\"x\"},\"mode\":\"markers+lines\",\"name\":\"wsj.com\",\"orientation\":\"v\",\"showlegend\":true,\"x\":[\"2015\",\"2016\",\"2017\",\"2018\",\"2019\",\"2020\",\"total\"],\"xaxis\":\"x\",\"y\":[0.013041976161685957,0.029501525940996948,0.000683526999316473,0.0022525506823903537,0.00022002200220022002,0.0008613264427217916,0.01334724815994727],\"yaxis\":\"y\",\"type\":\"scatter\"}],                        {\"template\":{\"data\":{\"bar\":[{\"error_x\":{\"color\":\"#2a3f5f\"},\"error_y\":{\"color\":\"#2a3f5f\"},\"marker\":{\"line\":{\"color\":\"#E5ECF6\",\"width\":0.5},\"pattern\":{\"fillmode\":\"overlay\",\"size\":10,\"solidity\":0.2}},\"type\":\"bar\"}],\"barpolar\":[{\"marker\":{\"line\":{\"color\":\"#E5ECF6\",\"width\":0.5},\"pattern\":{\"fillmode\":\"overlay\",\"size\":10,\"solidity\":0.2}},\"type\":\"barpolar\"}],\"carpet\":[{\"aaxis\":{\"endlinecolor\":\"#2a3f5f\",\"gridcolor\":\"white\",\"linecolor\":\"white\",\"minorgridcolor\":\"white\",\"startlinecolor\":\"#2a3f5f\"},\"baxis\":{\"endlinecolor\":\"#2a3f5f\",\"gridcolor\":\"white\",\"linecolor\":\"white\",\"minorgridcolor\":\"white\",\"startlinecolor\":\"#2a3f5f\"},\"type\":\"carpet\"}],\"choropleth\":[{\"colorbar\":{\"outlinewidth\":0,\"ticks\":\"\"},\"type\":\"choropleth\"}],\"contour\":[{\"colorbar\":{\"outlinewidth\":0,\"ticks\":\"\"},\"colorscale\":[[0.0,\"#0d0887\"],[0.1111111111111111,\"#46039f\"],[0.2222222222222222,\"#7201a8\"],[0.3333333333333333,\"#9c179e\"],[0.4444444444444444,\"#bd3786\"],[0.5555555555555556,\"#d8576b\"],[0.6666666666666666,\"#ed7953\"],[0.7777777777777778,\"#fb9f3a\"],[0.8888888888888888,\"#fdca26\"],[1.0,\"#f0f921\"]],\"type\":\"contour\"}],\"contourcarpet\":[{\"colorbar\":{\"outlinewidth\":0,\"ticks\":\"\"},\"type\":\"contourcarpet\"}],\"heatmap\":[{\"colorbar\":{\"outlinewidth\":0,\"ticks\":\"\"},\"colorscale\":[[0.0,\"#0d0887\"],[0.1111111111111111,\"#46039f\"],[0.2222222222222222,\"#7201a8\"],[0.3333333333333333,\"#9c179e\"],[0.4444444444444444,\"#bd3786\"],[0.5555555555555556,\"#d8576b\"],[0.6666666666666666,\"#ed7953\"],[0.7777777777777778,\"#fb9f3a\"],[0.8888888888888888,\"#fdca26\"],[1.0,\"#f0f921\"]],\"type\":\"heatmap\"}],\"heatmapgl\":[{\"colorbar\":{\"outlinewidth\":0,\"ticks\":\"\"},\"colorscale\":[[0.0,\"#0d0887\"],[0.1111111111111111,\"#46039f\"],[0.2222222222222222,\"#7201a8\"],[0.3333333333333333,\"#9c179e\"],[0.4444444444444444,\"#bd3786\"],[0.5555555555555556,\"#d8576b\"],[0.6666666666666666,\"#ed7953\"],[0.7777777777777778,\"#fb9f3a\"],[0.8888888888888888,\"#fdca26\"],[1.0,\"#f0f921\"]],\"type\":\"heatmapgl\"}],\"histogram\":[{\"marker\":{\"pattern\":{\"fillmode\":\"overlay\",\"size\":10,\"solidity\":0.2}},\"type\":\"histogram\"}],\"histogram2d\":[{\"colorbar\":{\"outlinewidth\":0,\"ticks\":\"\"},\"colorscale\":[[0.0,\"#0d0887\"],[0.1111111111111111,\"#46039f\"],[0.2222222222222222,\"#7201a8\"],[0.3333333333333333,\"#9c179e\"],[0.4444444444444444,\"#bd3786\"],[0.5555555555555556,\"#d8576b\"],[0.6666666666666666,\"#ed7953\"],[0.7777777777777778,\"#fb9f3a\"],[0.8888888888888888,\"#fdca26\"],[1.0,\"#f0f921\"]],\"type\":\"histogram2d\"}],\"histogram2dcontour\":[{\"colorbar\":{\"outlinewidth\":0,\"ticks\":\"\"},\"colorscale\":[[0.0,\"#0d0887\"],[0.1111111111111111,\"#46039f\"],[0.2222222222222222,\"#7201a8\"],[0.3333333333333333,\"#9c179e\"],[0.4444444444444444,\"#bd3786\"],[0.5555555555555556,\"#d8576b\"],[0.6666666666666666,\"#ed7953\"],[0.7777777777777778,\"#fb9f3a\"],[0.8888888888888888,\"#fdca26\"],[1.0,\"#f0f921\"]],\"type\":\"histogram2dcontour\"}],\"mesh3d\":[{\"colorbar\":{\"outlinewidth\":0,\"ticks\":\"\"},\"type\":\"mesh3d\"}],\"parcoords\":[{\"line\":{\"colorbar\":{\"outlinewidth\":0,\"ticks\":\"\"}},\"type\":\"parcoords\"}],\"pie\":[{\"automargin\":true,\"type\":\"pie\"}],\"scatter\":[{\"marker\":{\"colorbar\":{\"outlinewidth\":0,\"ticks\":\"\"}},\"type\":\"scatter\"}],\"scatter3d\":[{\"line\":{\"colorbar\":{\"outlinewidth\":0,\"ticks\":\"\"}},\"marker\":{\"colorbar\":{\"outlinewidth\":0,\"ticks\":\"\"}},\"type\":\"scatter3d\"}],\"scattercarpet\":[{\"marker\":{\"colorbar\":{\"outlinewidth\":0,\"ticks\":\"\"}},\"type\":\"scattercarpet\"}],\"scattergeo\":[{\"marker\":{\"colorbar\":{\"outlinewidth\":0,\"ticks\":\"\"}},\"type\":\"scattergeo\"}],\"scattergl\":[{\"marker\":{\"colorbar\":{\"outlinewidth\":0,\"ticks\":\"\"}},\"type\":\"scattergl\"}],\"scattermapbox\":[{\"marker\":{\"colorbar\":{\"outlinewidth\":0,\"ticks\":\"\"}},\"type\":\"scattermapbox\"}],\"scatterpolar\":[{\"marker\":{\"colorbar\":{\"outlinewidth\":0,\"ticks\":\"\"}},\"type\":\"scatterpolar\"}],\"scatterpolargl\":[{\"marker\":{\"colorbar\":{\"outlinewidth\":0,\"ticks\":\"\"}},\"type\":\"scatterpolargl\"}],\"scatterternary\":[{\"marker\":{\"colorbar\":{\"outlinewidth\":0,\"ticks\":\"\"}},\"type\":\"scatterternary\"}],\"surface\":[{\"colorbar\":{\"outlinewidth\":0,\"ticks\":\"\"},\"colorscale\":[[0.0,\"#0d0887\"],[0.1111111111111111,\"#46039f\"],[0.2222222222222222,\"#7201a8\"],[0.3333333333333333,\"#9c179e\"],[0.4444444444444444,\"#bd3786\"],[0.5555555555555556,\"#d8576b\"],[0.6666666666666666,\"#ed7953\"],[0.7777777777777778,\"#fb9f3a\"],[0.8888888888888888,\"#fdca26\"],[1.0,\"#f0f921\"]],\"type\":\"surface\"}],\"table\":[{\"cells\":{\"fill\":{\"color\":\"#EBF0F8\"},\"line\":{\"color\":\"white\"}},\"header\":{\"fill\":{\"color\":\"#C8D4E3\"},\"line\":{\"color\":\"white\"}},\"type\":\"table\"}]},\"layout\":{\"annotationdefaults\":{\"arrowcolor\":\"#2a3f5f\",\"arrowhead\":0,\"arrowwidth\":1},\"autotypenumbers\":\"strict\",\"coloraxis\":{\"colorbar\":{\"outlinewidth\":0,\"ticks\":\"\"}},\"colorscale\":{\"diverging\":[[0,\"#8e0152\"],[0.1,\"#c51b7d\"],[0.2,\"#de77ae\"],[0.3,\"#f1b6da\"],[0.4,\"#fde0ef\"],[0.5,\"#f7f7f7\"],[0.6,\"#e6f5d0\"],[0.7,\"#b8e186\"],[0.8,\"#7fbc41\"],[0.9,\"#4d9221\"],[1,\"#276419\"]],\"sequential\":[[0.0,\"#0d0887\"],[0.1111111111111111,\"#46039f\"],[0.2222222222222222,\"#7201a8\"],[0.3333333333333333,\"#9c179e\"],[0.4444444444444444,\"#bd3786\"],[0.5555555555555556,\"#d8576b\"],[0.6666666666666666,\"#ed7953\"],[0.7777777777777778,\"#fb9f3a\"],[0.8888888888888888,\"#fdca26\"],[1.0,\"#f0f921\"]],\"sequentialminus\":[[0.0,\"#0d0887\"],[0.1111111111111111,\"#46039f\"],[0.2222222222222222,\"#7201a8\"],[0.3333333333333333,\"#9c179e\"],[0.4444444444444444,\"#bd3786\"],[0.5555555555555556,\"#d8576b\"],[0.6666666666666666,\"#ed7953\"],[0.7777777777777778,\"#fb9f3a\"],[0.8888888888888888,\"#fdca26\"],[1.0,\"#f0f921\"]]},\"colorway\":[\"#636efa\",\"#EF553B\",\"#00cc96\",\"#ab63fa\",\"#FFA15A\",\"#19d3f3\",\"#FF6692\",\"#B6E880\",\"#FF97FF\",\"#FECB52\"],\"font\":{\"color\":\"#2a3f5f\"},\"geo\":{\"bgcolor\":\"white\",\"lakecolor\":\"white\",\"landcolor\":\"#E5ECF6\",\"showlakes\":true,\"showland\":true,\"subunitcolor\":\"white\"},\"hoverlabel\":{\"align\":\"left\"},\"hovermode\":\"closest\",\"mapbox\":{\"style\":\"light\"},\"paper_bgcolor\":\"white\",\"plot_bgcolor\":\"#E5ECF6\",\"polar\":{\"angularaxis\":{\"gridcolor\":\"white\",\"linecolor\":\"white\",\"ticks\":\"\"},\"bgcolor\":\"#E5ECF6\",\"radialaxis\":{\"gridcolor\":\"white\",\"linecolor\":\"white\",\"ticks\":\"\"}},\"scene\":{\"xaxis\":{\"backgroundcolor\":\"#E5ECF6\",\"gridcolor\":\"white\",\"gridwidth\":2,\"linecolor\":\"white\",\"showbackground\":true,\"ticks\":\"\",\"zerolinecolor\":\"white\"},\"yaxis\":{\"backgroundcolor\":\"#E5ECF6\",\"gridcolor\":\"white\",\"gridwidth\":2,\"linecolor\":\"white\",\"showbackground\":true,\"ticks\":\"\",\"zerolinecolor\":\"white\"},\"zaxis\":{\"backgroundcolor\":\"#E5ECF6\",\"gridcolor\":\"white\",\"gridwidth\":2,\"linecolor\":\"white\",\"showbackground\":true,\"ticks\":\"\",\"zerolinecolor\":\"white\"}},\"shapedefaults\":{\"line\":{\"color\":\"#2a3f5f\"}},\"ternary\":{\"aaxis\":{\"gridcolor\":\"white\",\"linecolor\":\"white\",\"ticks\":\"\"},\"baxis\":{\"gridcolor\":\"white\",\"linecolor\":\"white\",\"ticks\":\"\"},\"bgcolor\":\"#E5ECF6\",\"caxis\":{\"gridcolor\":\"white\",\"linecolor\":\"white\",\"ticks\":\"\"}},\"title\":{\"x\":0.05},\"xaxis\":{\"automargin\":true,\"gridcolor\":\"white\",\"linecolor\":\"white\",\"ticks\":\"\",\"title\":{\"standoff\":15},\"zerolinecolor\":\"white\",\"zerolinewidth\":2},\"yaxis\":{\"automargin\":true,\"gridcolor\":\"white\",\"linecolor\":\"white\",\"ticks\":\"\",\"title\":{\"standoff\":15},\"zerolinecolor\":\"white\",\"zerolinewidth\":2}}},\"xaxis\":{\"anchor\":\"y\",\"domain\":[0.0,1.0],\"title\":{\"text\":\"Year\"}},\"yaxis\":{\"anchor\":\"x\",\"domain\":[0.0,1.0],\"title\":{\"text\":\"Share of H.Clinton quotations\"}},\"legend\":{\"title\":{\"text\":\"Sources\"},\"tracegroupgap\":0},\"margin\":{\"t\":60}},                        {\"responsive\": true}                    ).then(function(){\n",
              "                            \n",
              "var gd = document.getElementById('6f26e160-4447-4a11-ae8a-6434826ec1eb');\n",
              "var x = new MutationObserver(function (mutations, observer) {{\n",
              "        var display = window.getComputedStyle(gd).display;\n",
              "        if (!display || display === 'none') {{\n",
              "            console.log([gd, 'removed!']);\n",
              "            Plotly.purge(gd);\n",
              "            observer.disconnect();\n",
              "        }}\n",
              "}});\n",
              "\n",
              "// Listen for the removal of the full notebook cells\n",
              "var notebookContainer = gd.closest('#notebook-container');\n",
              "if (notebookContainer) {{\n",
              "    x.observe(notebookContainer, {childList: true});\n",
              "}}\n",
              "\n",
              "// Listen for the clearing of the current output cell\n",
              "var outputEl = gd.closest('.output');\n",
              "if (outputEl) {{\n",
              "    x.observe(outputEl, {childList: true});\n",
              "}}\n",
              "\n",
              "                        })                };                            </script>        </div>\n",
              "</body>\n",
              "</html>"
            ]
          },
          "metadata": {}
        }
      ]
    },
    {
      "cell_type": "code",
      "source": [
        "save_plotly_fig(fig, 'stats_hillarization.html')"
      ],
      "metadata": {
        "id": "NTT-gEoMKgPA"
      },
      "execution_count": 60,
      "outputs": []
    },
    {
      "cell_type": "markdown",
      "source": [
        "## Correlations"
      ],
      "metadata": {
        "id": "w1M_qM0NBVyt"
      }
    },
    {
      "cell_type": "markdown",
      "source": [
        "We now calculate Spearman and Pearson coefficients for politicization and polarization of news sources when compared to web visitors and Twitter followers."
      ],
      "metadata": {
        "id": "q9zKdg3FGDFu"
      }
    },
    {
      "cell_type": "code",
      "source": [
        "news_sources_idx = news_sources.rename(columns={'domain':'source'}).set_index(keys='source', drop=True)"
      ],
      "metadata": {
        "id": "WaV8AArrBXDz"
      },
      "execution_count": 61,
      "outputs": []
    },
    {
      "cell_type": "code",
      "source": [
        "df = pd.DataFrame({ 'politicization': stats_df.loc['total', 'politicization'],\n",
        "                    'polarization_sgn': stats_df.loc['total', 'polarization_sgn'],\n",
        "                    'polarization': stats_df.loc['total', 'polarization'],\n",
        "                    'web_visitors': news_sources_idx['similarweb_total_visitors'],\n",
        "                    'twitter_followers': news_sources_idx['twitter_followers']\n",
        "})\n",
        "\n",
        "corr = pd.concat({\n",
        "    'spearman': df.corr(method='spearman')[['web_visitors', 'twitter_followers']].drop(index=['web_visitors', 'twitter_followers']),\n",
        "    'pearson' : df.corr(method='pearson')[['web_visitors', 'twitter_followers']].drop(index=['web_visitors', 'twitter_followers']),\n",
        "}, names=['method'])"
      ],
      "metadata": {
        "id": "DeanAGb4CrNf"
      },
      "execution_count": 62,
      "outputs": []
    },
    {
      "cell_type": "code",
      "source": [
        "corr"
      ],
      "metadata": {
        "colab": {
          "base_uri": "https://localhost:8080/",
          "height": 268
        },
        "id": "3mFXmzi8GjC6",
        "outputId": "c38778b4-e9db-4660-d16c-c31ecb8c224f"
      },
      "execution_count": 63,
      "outputs": [
        {
          "output_type": "execute_result",
          "data": {
            "text/html": [
              "\n",
              "  <div id=\"df-da6fefb0-42ce-48e9-a315-4f40b236f77b\">\n",
              "    <div class=\"colab-df-container\">\n",
              "      <div>\n",
              "<style scoped>\n",
              "    .dataframe tbody tr th:only-of-type {\n",
              "        vertical-align: middle;\n",
              "    }\n",
              "\n",
              "    .dataframe tbody tr th {\n",
              "        vertical-align: top;\n",
              "    }\n",
              "\n",
              "    .dataframe thead th {\n",
              "        text-align: right;\n",
              "    }\n",
              "</style>\n",
              "<table border=\"1\" class=\"dataframe\">\n",
              "  <thead>\n",
              "    <tr style=\"text-align: right;\">\n",
              "      <th></th>\n",
              "      <th></th>\n",
              "      <th>web_visitors</th>\n",
              "      <th>twitter_followers</th>\n",
              "    </tr>\n",
              "    <tr>\n",
              "      <th>method</th>\n",
              "      <th></th>\n",
              "      <th></th>\n",
              "      <th></th>\n",
              "    </tr>\n",
              "  </thead>\n",
              "  <tbody>\n",
              "    <tr>\n",
              "      <th rowspan=\"3\" valign=\"top\">spearman</th>\n",
              "      <th>politicization</th>\n",
              "      <td>-0.475748</td>\n",
              "      <td>-0.250903</td>\n",
              "    </tr>\n",
              "    <tr>\n",
              "      <th>polarization_sgn</th>\n",
              "      <td>-0.273478</td>\n",
              "      <td>-0.368611</td>\n",
              "    </tr>\n",
              "    <tr>\n",
              "      <th>polarization</th>\n",
              "      <td>-0.275542</td>\n",
              "      <td>-0.329375</td>\n",
              "    </tr>\n",
              "    <tr>\n",
              "      <th rowspan=\"3\" valign=\"top\">pearson</th>\n",
              "      <th>politicization</th>\n",
              "      <td>-0.198408</td>\n",
              "      <td>-0.172600</td>\n",
              "    </tr>\n",
              "    <tr>\n",
              "      <th>polarization_sgn</th>\n",
              "      <td>0.003887</td>\n",
              "      <td>-0.193322</td>\n",
              "    </tr>\n",
              "    <tr>\n",
              "      <th>polarization</th>\n",
              "      <td>-0.041117</td>\n",
              "      <td>-0.180379</td>\n",
              "    </tr>\n",
              "  </tbody>\n",
              "</table>\n",
              "</div>\n",
              "      <button class=\"colab-df-convert\" onclick=\"convertToInteractive('df-da6fefb0-42ce-48e9-a315-4f40b236f77b')\"\n",
              "              title=\"Convert this dataframe to an interactive table.\"\n",
              "              style=\"display:none;\">\n",
              "        \n",
              "  <svg xmlns=\"http://www.w3.org/2000/svg\" height=\"24px\"viewBox=\"0 0 24 24\"\n",
              "       width=\"24px\">\n",
              "    <path d=\"M0 0h24v24H0V0z\" fill=\"none\"/>\n",
              "    <path d=\"M18.56 5.44l.94 2.06.94-2.06 2.06-.94-2.06-.94-.94-2.06-.94 2.06-2.06.94zm-11 1L8.5 8.5l.94-2.06 2.06-.94-2.06-.94L8.5 2.5l-.94 2.06-2.06.94zm10 10l.94 2.06.94-2.06 2.06-.94-2.06-.94-.94-2.06-.94 2.06-2.06.94z\"/><path d=\"M17.41 7.96l-1.37-1.37c-.4-.4-.92-.59-1.43-.59-.52 0-1.04.2-1.43.59L10.3 9.45l-7.72 7.72c-.78.78-.78 2.05 0 2.83L4 21.41c.39.39.9.59 1.41.59.51 0 1.02-.2 1.41-.59l7.78-7.78 2.81-2.81c.8-.78.8-2.07 0-2.86zM5.41 20L4 18.59l7.72-7.72 1.47 1.35L5.41 20z\"/>\n",
              "  </svg>\n",
              "      </button>\n",
              "      \n",
              "  <style>\n",
              "    .colab-df-container {\n",
              "      display:flex;\n",
              "      flex-wrap:wrap;\n",
              "      gap: 12px;\n",
              "    }\n",
              "\n",
              "    .colab-df-convert {\n",
              "      background-color: #E8F0FE;\n",
              "      border: none;\n",
              "      border-radius: 50%;\n",
              "      cursor: pointer;\n",
              "      display: none;\n",
              "      fill: #1967D2;\n",
              "      height: 32px;\n",
              "      padding: 0 0 0 0;\n",
              "      width: 32px;\n",
              "    }\n",
              "\n",
              "    .colab-df-convert:hover {\n",
              "      background-color: #E2EBFA;\n",
              "      box-shadow: 0px 1px 2px rgba(60, 64, 67, 0.3), 0px 1px 3px 1px rgba(60, 64, 67, 0.15);\n",
              "      fill: #174EA6;\n",
              "    }\n",
              "\n",
              "    [theme=dark] .colab-df-convert {\n",
              "      background-color: #3B4455;\n",
              "      fill: #D2E3FC;\n",
              "    }\n",
              "\n",
              "    [theme=dark] .colab-df-convert:hover {\n",
              "      background-color: #434B5C;\n",
              "      box-shadow: 0px 1px 3px 1px rgba(0, 0, 0, 0.15);\n",
              "      filter: drop-shadow(0px 1px 2px rgba(0, 0, 0, 0.3));\n",
              "      fill: #FFFFFF;\n",
              "    }\n",
              "  </style>\n",
              "\n",
              "      <script>\n",
              "        const buttonEl =\n",
              "          document.querySelector('#df-da6fefb0-42ce-48e9-a315-4f40b236f77b button.colab-df-convert');\n",
              "        buttonEl.style.display =\n",
              "          google.colab.kernel.accessAllowed ? 'block' : 'none';\n",
              "\n",
              "        async function convertToInteractive(key) {\n",
              "          const element = document.querySelector('#df-da6fefb0-42ce-48e9-a315-4f40b236f77b');\n",
              "          const dataTable =\n",
              "            await google.colab.kernel.invokeFunction('convertToInteractive',\n",
              "                                                     [key], {});\n",
              "          if (!dataTable) return;\n",
              "\n",
              "          const docLinkHtml = 'Like what you see? Visit the ' +\n",
              "            '<a target=\"_blank\" href=https://colab.research.google.com/notebooks/data_table.ipynb>data table notebook</a>'\n",
              "            + ' to learn more about interactive tables.';\n",
              "          element.innerHTML = '';\n",
              "          dataTable['output_type'] = 'display_data';\n",
              "          await google.colab.output.renderOutput(dataTable, element);\n",
              "          const docLink = document.createElement('div');\n",
              "          docLink.innerHTML = docLinkHtml;\n",
              "          element.appendChild(docLink);\n",
              "        }\n",
              "      </script>\n",
              "    </div>\n",
              "  </div>\n",
              "  "
            ],
            "text/plain": [
              "                           web_visitors  twitter_followers\n",
              "method                                                    \n",
              "spearman politicization       -0.475748          -0.250903\n",
              "         polarization_sgn     -0.273478          -0.368611\n",
              "         polarization         -0.275542          -0.329375\n",
              "pearson  politicization       -0.198408          -0.172600\n",
              "         polarization_sgn      0.003887          -0.193322\n",
              "         polarization         -0.041117          -0.180379"
            ]
          },
          "metadata": {},
          "execution_count": 63
        }
      ]
    },
    {
      "cell_type": "markdown",
      "source": [
        "![the_end.jpeg](data:image/jpeg;base64,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)"
      ],
      "metadata": {
        "id": "P77Y2pNdJxcN"
      }
    }
  ],
  "metadata": {
    "colab": {
      "collapsed_sections": [],
      "name": "M2_pipeline_v1_3.ipynb",
      "provenance": [],
      "toc_visible": true
    },
    "kernelspec": {
      "display_name": "Python 3",
      "language": "python",
      "name": "python3"
    },
    "language_info": {
      "codemirror_mode": {
        "name": "ipython",
        "version": 3
      },
      "file_extension": ".py",
      "mimetype": "text/x-python",
      "name": "python",
      "nbconvert_exporter": "python",
      "pygments_lexer": "ipython3",
      "version": "3.8.11"
    }
  },
  "nbformat": 4,
  "nbformat_minor": 0
}
